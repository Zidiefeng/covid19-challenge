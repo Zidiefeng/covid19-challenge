{
 "cells": [
  {
   "cell_type": "code",
   "execution_count": 1,
   "metadata": {},
   "outputs": [],
   "source": [
    "import pandas as pd"
   ]
  },
  {
   "cell_type": "code",
   "execution_count": 21,
   "metadata": {},
   "outputs": [],
   "source": [
    "pd.set_option('min_rows', 4)"
   ]
  },
  {
   "cell_type": "code",
   "execution_count": 6,
   "metadata": {},
   "outputs": [
    {
     "name": "stdout",
     "output_type": "stream",
     "text": [
      "/home/ubuntu/covid19-challenge/notebook\r\n"
     ]
    }
   ],
   "source": [
    "!pwd"
   ]
  },
  {
   "cell_type": "code",
   "execution_count": 38,
   "metadata": {},
   "outputs": [],
   "source": [
    "table=pd.read_csv(\"../data/Kaggle/list_of_tables_and_table_formats.csv\")"
   ]
  },
  {
   "cell_type": "code",
   "execution_count": 39,
   "metadata": {},
   "outputs": [
    {
     "data": {
      "text/html": [
       "<pre>&lt;class 'pandas.core.frame.DataFrame'&gt;\n",
       "RangeIndex: 69 entries, 0 to 68\n",
       "Data columns (total 28 columns):\n",
       " #   Column        Non-Null Count  Dtype  \n",
       "---  ------        --------------  -----  \n",
       " 0   Question      69 non-null     object \n",
       " 1   Table Format  69 non-null     int64  \n",
       " 2   Unnamed: 2    0 non-null      float64\n",
       " 3   Unnamed: 3    37 non-null     object \n",
       " 4   Unnamed: 4    21 non-null     object \n",
       " 5   Unnamed: 5    21 non-null     object \n",
       " 6   Unnamed: 6    21 non-null     object \n",
       " 7   Unnamed: 7    21 non-null     object \n",
       " 8   Unnamed: 8    21 non-null     object \n",
       " 9   Unnamed: 9    21 non-null     object \n",
       " 10  Unnamed: 10   22 non-null     object \n",
       " 11  Unnamed: 11   23 non-null     object \n",
       " 12  Unnamed: 12   19 non-null     object \n",
       " 13  Unnamed: 13   15 non-null     object \n",
       " 14  Unnamed: 14   12 non-null     object \n",
       " 15  Unnamed: 15   6 non-null      object \n",
       " 16  Unnamed: 16   6 non-null      object \n",
       " 17  Unnamed: 17   2 non-null      object \n",
       " 18  Unnamed: 18   2 non-null      object \n",
       " 19  Unnamed: 19   2 non-null      object \n",
       " 20  Unnamed: 20   2 non-null      object \n",
       " 21  Unnamed: 21   2 non-null      object \n",
       " 22  Unnamed: 22   2 non-null      object \n",
       " 23  Unnamed: 23   2 non-null      object \n",
       " 24  Unnamed: 24   2 non-null      object \n",
       " 25  Unnamed: 25   2 non-null      object \n",
       " 26  Unnamed: 26   1 non-null      object \n",
       " 27  Unnamed: 27   1 non-null      object \n",
       "dtypes: float64(1), int64(1), object(26)\n",
       "memory usage: 15.2+ KB\n",
       "</pre>"
      ],
      "text/plain": [
       "<class 'pandas.core.frame.DataFrame'>\n",
       "RangeIndex: 69 entries, 0 to 68\n",
       "Data columns (total 28 columns):\n",
       " #   Column        Non-Null Count  Dtype  \n",
       "---  ------        --------------  -----  \n",
       " 0   Question      69 non-null     object \n",
       " 1   Table Format  69 non-null     int64  \n",
       " 2   Unnamed: 2    0 non-null      float64\n",
       " 3   Unnamed: 3    37 non-null     object \n",
       " 4   Unnamed: 4    21 non-null     object \n",
       " 5   Unnamed: 5    21 non-null     object \n",
       " 6   Unnamed: 6    21 non-null     object \n",
       " 7   Unnamed: 7    21 non-null     object \n",
       " 8   Unnamed: 8    21 non-null     object \n",
       " 9   Unnamed: 9    21 non-null     object \n",
       " 10  Unnamed: 10   22 non-null     object \n",
       " 11  Unnamed: 11   23 non-null     object \n",
       " 12  Unnamed: 12   19 non-null     object \n",
       " 13  Unnamed: 13   15 non-null     object \n",
       " 14  Unnamed: 14   12 non-null     object \n",
       " 15  Unnamed: 15   6 non-null      object \n",
       " 16  Unnamed: 16   6 non-null      object \n",
       " 17  Unnamed: 17   2 non-null      object \n",
       " 18  Unnamed: 18   2 non-null      object \n",
       " 19  Unnamed: 19   2 non-null      object \n",
       " 20  Unnamed: 20   2 non-null      object \n",
       " 21  Unnamed: 21   2 non-null      object \n",
       " 22  Unnamed: 22   2 non-null      object \n",
       " 23  Unnamed: 23   2 non-null      object \n",
       " 24  Unnamed: 24   2 non-null      object \n",
       " 25  Unnamed: 25   2 non-null      object \n",
       " 26  Unnamed: 26   1 non-null      object \n",
       " 27  Unnamed: 27   1 non-null      object \n",
       "dtypes: float64(1), int64(1), object(26)\n",
       "memory usage: 15.2+ KB"
      ]
     },
     "execution_count": 39,
     "metadata": {},
     "output_type": "execute_result"
    }
   ],
   "source": [
    "table=pd.read_csv(\"../data/Kaggle/list_of_tables_and_table_formats.csv\")"
   ]
  },
  {
   "cell_type": "markdown",
   "metadata": {},
   "source": [
    "## Management of patients who are underhoused or otherwise lower social economic status"
   ]
  },
  {
   "cell_type": "code",
   "execution_count": 17,
   "metadata": {},
   "outputs": [],
   "source": [
    "target1_1=pd.read_csv(\"../data/Kaggle/target_tables/1_population/Management of patients who are underhoused or otherwise lower social economic status..csv\")"
   ]
  },
  {
   "cell_type": "code",
   "execution_count": 22,
   "metadata": {},
   "outputs": [
    {
     "data": {
      "text/html": [
       "<div>\n",
       "<style scoped>\n",
       "    .dataframe tbody tr th:only-of-type {\n",
       "        vertical-align: middle;\n",
       "    }\n",
       "\n",
       "    .dataframe tbody tr th {\n",
       "        vertical-align: top;\n",
       "    }\n",
       "\n",
       "    .dataframe thead th {\n",
       "        text-align: right;\n",
       "    }\n",
       "</style>\n",
       "<table border=\"1\" class=\"dataframe\">\n",
       "  <thead>\n",
       "    <tr style=\"text-align: right;\">\n",
       "      <th></th>\n",
       "      <th>Study</th>\n",
       "      <th>Challenge</th>\n",
       "      <th>Strength of Evidence</th>\n",
       "    </tr>\n",
       "  </thead>\n",
       "  <tbody>\n",
       "    <tr>\n",
       "      <th>0</th>\n",
       "      <td>COVID-19 outbreak at a large homeless shelter ...</td>\n",
       "      <td>Evolving Cluster of COVID Cases in a Homeless ...</td>\n",
       "      <td>patients: 408</td>\n",
       "    </tr>\n",
       "    <tr>\n",
       "      <th>1</th>\n",
       "      <td>Multidisciplinary research priorities for the ...</td>\n",
       "      <td>Impact on Mental Health Services from the Pand...</td>\n",
       "      <td>-</td>\n",
       "    </tr>\n",
       "    <tr>\n",
       "      <th>2</th>\n",
       "      <td>U.S. county-level characteristics to inform eq...</td>\n",
       "      <td>Not all Americans are equally at risk of infec...</td>\n",
       "      <td>countries: USA</td>\n",
       "    </tr>\n",
       "    <tr>\n",
       "      <th>3</th>\n",
       "      <td>Epidemiology of COVID-19 among people experien...</td>\n",
       "      <td>People experiencing homelessness in Boston are...</td>\n",
       "      <td>patients: 182</td>\n",
       "    </tr>\n",
       "    <tr>\n",
       "      <th>4</th>\n",
       "      <td>The Challenge of Preventing COVID-19 Spread in...</td>\n",
       "      <td>Social distancing to minimize transmission of ...</td>\n",
       "      <td>-</td>\n",
       "    </tr>\n",
       "    <tr>\n",
       "      <th>5</th>\n",
       "      <td>Mitigating and learning from the impact of COV...</td>\n",
       "      <td>The novel coronavirus pandemic of 2020 present...</td>\n",
       "      <td>-</td>\n",
       "    </tr>\n",
       "    <tr>\n",
       "      <th>6</th>\n",
       "      <td>Addressing the COVID-19 Pandemic in Population...</td>\n",
       "      <td>Disasters disproportionately affect poor and v...</td>\n",
       "      <td>-</td>\n",
       "    </tr>\n",
       "    <tr>\n",
       "      <th>7</th>\n",
       "      <td>Flattening the Curve for Incarcerated Populati...</td>\n",
       "      <td>People entering jails are among the most vulne...</td>\n",
       "      <td>-</td>\n",
       "    </tr>\n",
       "    <tr>\n",
       "      <th>8</th>\n",
       "      <td>Fighting covid-19 outbreaks in prisons</td>\n",
       "      <td>Poor prison healthcare has been reported by Ar...</td>\n",
       "      <td>-</td>\n",
       "    </tr>\n",
       "    <tr>\n",
       "      <th>9</th>\n",
       "      <td>Addressing the Threat of COVID-19-Related Hous...</td>\n",
       "      <td>The economic toll from COVID-19 and the respon...</td>\n",
       "      <td>-</td>\n",
       "    </tr>\n",
       "    <tr>\n",
       "      <th>10</th>\n",
       "      <td>Estimated Emergency and Observational/ Quarant...</td>\n",
       "      <td>The rapid progression of the severe acute resp...</td>\n",
       "      <td>cities: New York, Los Angeles</td>\n",
       "    </tr>\n",
       "    <tr>\n",
       "      <th>11</th>\n",
       "      <td>Responding to Covid‐19: How to Navigate a Publ...</td>\n",
       "      <td>When the health system becomes stretched beyon...</td>\n",
       "      <td>-</td>\n",
       "    </tr>\n",
       "    <tr>\n",
       "      <th>12</th>\n",
       "      <td>Efforts escalate to protect homeless people fr...</td>\n",
       "      <td>Homeless people often have multiple chronic co...</td>\n",
       "      <td>-</td>\n",
       "    </tr>\n",
       "    <tr>\n",
       "      <th>13</th>\n",
       "      <td>Covid-19: control measures must be equitable a...</td>\n",
       "      <td>Failure to respect the needs of vulnerable gro...</td>\n",
       "      <td>-</td>\n",
       "    </tr>\n",
       "    <tr>\n",
       "      <th>14</th>\n",
       "      <td>Securing the Safety Net and Protecting Public ...</td>\n",
       "      <td>COVID-19 has exposed gaps in the social safety...</td>\n",
       "      <td>-</td>\n",
       "    </tr>\n",
       "    <tr>\n",
       "      <th>15</th>\n",
       "      <td>Prisons and custodial settings are part of a c...</td>\n",
       "      <td>Prisons are epicentres for infectious diseases...</td>\n",
       "      <td>-</td>\n",
       "    </tr>\n",
       "    <tr>\n",
       "      <th>16</th>\n",
       "      <td>The Coronavirus Could Hit People Experiencing ...</td>\n",
       "      <td>But amid all the planning, and a growing sense...</td>\n",
       "      <td>-</td>\n",
       "    </tr>\n",
       "    <tr>\n",
       "      <th>17</th>\n",
       "      <td>COVID-19: a potential public health problem fo...</td>\n",
       "      <td>It is probable that coronavirus disease (COVID...</td>\n",
       "      <td>-</td>\n",
       "    </tr>\n",
       "  </tbody>\n",
       "</table>\n",
       "</div>"
      ],
      "text/plain": [
       "                                                Study  \\\n",
       "0   COVID-19 outbreak at a large homeless shelter ...   \n",
       "1   Multidisciplinary research priorities for the ...   \n",
       "2   U.S. county-level characteristics to inform eq...   \n",
       "3   Epidemiology of COVID-19 among people experien...   \n",
       "4   The Challenge of Preventing COVID-19 Spread in...   \n",
       "5   Mitigating and learning from the impact of COV...   \n",
       "6   Addressing the COVID-19 Pandemic in Population...   \n",
       "7   Flattening the Curve for Incarcerated Populati...   \n",
       "8              Fighting covid-19 outbreaks in prisons   \n",
       "9   Addressing the Threat of COVID-19-Related Hous...   \n",
       "10  Estimated Emergency and Observational/ Quarant...   \n",
       "11  Responding to Covid‐19: How to Navigate a Publ...   \n",
       "12  Efforts escalate to protect homeless people fr...   \n",
       "13  Covid-19: control measures must be equitable a...   \n",
       "14  Securing the Safety Net and Protecting Public ...   \n",
       "15  Prisons and custodial settings are part of a c...   \n",
       "16  The Coronavirus Could Hit People Experiencing ...   \n",
       "17  COVID-19: a potential public health problem fo...   \n",
       "\n",
       "                                            Challenge  \\\n",
       "0   Evolving Cluster of COVID Cases in a Homeless ...   \n",
       "1   Impact on Mental Health Services from the Pand...   \n",
       "2   Not all Americans are equally at risk of infec...   \n",
       "3   People experiencing homelessness in Boston are...   \n",
       "4   Social distancing to minimize transmission of ...   \n",
       "5   The novel coronavirus pandemic of 2020 present...   \n",
       "6   Disasters disproportionately affect poor and v...   \n",
       "7   People entering jails are among the most vulne...   \n",
       "8   Poor prison healthcare has been reported by Ar...   \n",
       "9   The economic toll from COVID-19 and the respon...   \n",
       "10  The rapid progression of the severe acute resp...   \n",
       "11  When the health system becomes stretched beyon...   \n",
       "12  Homeless people often have multiple chronic co...   \n",
       "13  Failure to respect the needs of vulnerable gro...   \n",
       "14  COVID-19 has exposed gaps in the social safety...   \n",
       "15  Prisons are epicentres for infectious diseases...   \n",
       "16  But amid all the planning, and a growing sense...   \n",
       "17  It is probable that coronavirus disease (COVID...   \n",
       "\n",
       "             Strength of Evidence  \n",
       "0                   patients: 408  \n",
       "1                               -  \n",
       "2                  countries: USA  \n",
       "3                   patients: 182  \n",
       "4                               -  \n",
       "5                               -  \n",
       "6                               -  \n",
       "7                               -  \n",
       "8                               -  \n",
       "9                               -  \n",
       "10  cities: New York, Los Angeles  \n",
       "11                              -  \n",
       "12                              -  \n",
       "13                              -  \n",
       "14                              -  \n",
       "15                              -  \n",
       "16                              -  \n",
       "17                              -  "
      ]
     },
     "execution_count": 22,
     "metadata": {},
     "output_type": "execute_result"
    }
   ],
   "source": [
    "target1_1[[\"Study\",\"Challenge\",\"Strength of Evidence\"]]"
   ]
  },
  {
   "cell_type": "code",
   "execution_count": 26,
   "metadata": {},
   "outputs": [],
   "source": [
    "pd.set_option('large_repr', 'info')"
   ]
  },
  {
   "cell_type": "code",
   "execution_count": 36,
   "metadata": {},
   "outputs": [
    {
     "data": {
      "text/plain": [
       "'Evolving Cluster of COVID Cases in a Homeless Shelter in Boston'"
      ]
     },
     "execution_count": 36,
     "metadata": {},
     "output_type": "execute_result"
    }
   ],
   "source": [
    "target1_1[[\"Study\",\"Challenge\",\"Strength of Evidence\"]].iloc[0,1]"
   ]
  },
  {
   "cell_type": "code",
   "execution_count": 37,
   "metadata": {},
   "outputs": [
    {
     "data": {
      "text/plain": [
       "'COVID-19 outbreak at a large homeless shelter in Boston: Implications for universal testing'"
      ]
     },
     "execution_count": 37,
     "metadata": {},
     "output_type": "execute_result"
    }
   ],
   "source": [
    "target1_1[[\"Study\",\"Challenge\",\"Strength of Evidence\"]].iloc[0,0]"
   ]
  },
  {
   "cell_type": "code",
   "execution_count": 15,
   "metadata": {},
   "outputs": [],
   "source": [
    "clean_pdf_df = pd.read_csv(\"/home/ubuntu/covid19-challenge/data/clean_doc_pdf.csv\")"
   ]
  }
 ],
 "metadata": {
  "kernelspec": {
   "display_name": "Environment (conda_pytorch_p36)",
   "language": "python",
   "name": "conda_pytorch_p36"
  },
  "language_info": {
   "codemirror_mode": {
    "name": "ipython",
    "version": 3
   },
   "file_extension": ".py",
   "mimetype": "text/x-python",
   "name": "python",
   "nbconvert_exporter": "python",
   "pygments_lexer": "ipython3",
   "version": "3.6.10"
  }
 },
 "nbformat": 4,
 "nbformat_minor": 4
}
