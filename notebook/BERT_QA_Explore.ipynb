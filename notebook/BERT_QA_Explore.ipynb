{
 "cells": [
  {
   "cell_type": "markdown",
   "metadata": {},
   "source": [
    "# Content\n",
    "\n",
    "### This file: explore how to clean data, run QA, and load data for MRJob\n",
    "### Official notebook: `BERT_QA_Master`"
   ]
  },
  {
   "cell_type": "code",
   "execution_count": 2,
   "metadata": {},
   "outputs": [],
   "source": [
    "import pandas as pd\n",
    "pd.set_option('display.width',None)"
   ]
  },
  {
   "cell_type": "markdown",
   "metadata": {
    "colab_type": "text",
    "id": "gVq-TuylYRDW"
   },
   "source": [
    "## 1. Install "
   ]
  },
  {
   "cell_type": "markdown",
   "metadata": {
    "colab_type": "text",
    "id": "f9nhy3PzGQ44"
   },
   "source": [
    "This example uses the `transformers` [library](https://github.com/huggingface/transformers/) by huggingface. We'll start by installing the package."
   ]
  },
  {
   "cell_type": "code",
   "execution_count": 3,
   "metadata": {
    "colab": {
     "base_uri": "https://localhost:8080/",
     "height": 646
    },
    "colab_type": "code",
    "id": "aQl0MMrOGIup",
    "outputId": "60e3a287-f696-429e-d65d-492e0eebd031"
   },
   "outputs": [
    {
     "name": "stdout",
     "output_type": "stream",
     "text": [
      "Requirement already satisfied: transformers in /home/ubuntu/anaconda3/envs/pytorch_p36/lib/python3.6/site-packages (2.9.1)\n",
      "Requirement already satisfied: dataclasses; python_version < \"3.7\" in /home/ubuntu/anaconda3/envs/pytorch_p36/lib/python3.6/site-packages (from transformers) (0.6)\n",
      "Requirement already satisfied: tokenizers==0.7.0 in /home/ubuntu/anaconda3/envs/pytorch_p36/lib/python3.6/site-packages (from transformers) (0.7.0)\n",
      "Requirement already satisfied: sacremoses in /home/ubuntu/anaconda3/envs/pytorch_p36/lib/python3.6/site-packages (from transformers) (0.0.43)\n",
      "Requirement already satisfied: regex!=2019.12.17 in /home/ubuntu/anaconda3/envs/pytorch_p36/lib/python3.6/site-packages (from transformers) (2020.5.14)\n",
      "Requirement already satisfied: requests in /home/ubuntu/anaconda3/envs/pytorch_p36/lib/python3.6/site-packages (from transformers) (2.23.0)\n",
      "Requirement already satisfied: sentencepiece in /home/ubuntu/anaconda3/envs/pytorch_p36/lib/python3.6/site-packages (from transformers) (0.1.90)\n",
      "Requirement already satisfied: tqdm>=4.27 in /home/ubuntu/anaconda3/envs/pytorch_p36/lib/python3.6/site-packages (from transformers) (4.44.1)\n",
      "Requirement already satisfied: numpy in /home/ubuntu/anaconda3/envs/pytorch_p36/lib/python3.6/site-packages (from transformers) (1.18.1)\n",
      "Requirement already satisfied: filelock in /home/ubuntu/anaconda3/envs/pytorch_p36/lib/python3.6/site-packages (from transformers) (3.0.12)\n",
      "Requirement already satisfied: click in /home/ubuntu/anaconda3/envs/pytorch_p36/lib/python3.6/site-packages (from sacremoses->transformers) (7.1.1)\n",
      "Requirement already satisfied: joblib in /home/ubuntu/anaconda3/envs/pytorch_p36/lib/python3.6/site-packages (from sacremoses->transformers) (0.14.1)\n",
      "Requirement already satisfied: six in /home/ubuntu/anaconda3/envs/pytorch_p36/lib/python3.6/site-packages (from sacremoses->transformers) (1.14.0)\n",
      "Requirement already satisfied: urllib3!=1.25.0,!=1.25.1,<1.26,>=1.21.1 in /home/ubuntu/anaconda3/envs/pytorch_p36/lib/python3.6/site-packages (from requests->transformers) (1.25.8)\n",
      "Requirement already satisfied: idna<3,>=2.5 in /home/ubuntu/anaconda3/envs/pytorch_p36/lib/python3.6/site-packages (from requests->transformers) (2.9)\n",
      "Requirement already satisfied: certifi>=2017.4.17 in /home/ubuntu/anaconda3/envs/pytorch_p36/lib/python3.6/site-packages (from requests->transformers) (2020.4.5.1)\n",
      "Requirement already satisfied: chardet<4,>=3.0.2 in /home/ubuntu/anaconda3/envs/pytorch_p36/lib/python3.6/site-packages (from requests->transformers) (3.0.4)\n"
     ]
    }
   ],
   "source": [
    "!pip install transformers"
   ]
  },
  {
   "cell_type": "code",
   "execution_count": 4,
   "metadata": {
    "colab": {},
    "colab_type": "code",
    "id": "-ONLrgJK99TQ"
   },
   "outputs": [],
   "source": [
    "import torch"
   ]
  },
  {
   "cell_type": "markdown",
   "metadata": {
    "colab_type": "text",
    "id": "1WThOUtpYvG-"
   },
   "source": [
    "## 2. Load Fine-Tuned BERT-large"
   ]
  },
  {
   "cell_type": "markdown",
   "metadata": {
    "colab_type": "text",
    "id": "AaweLnNXGhTY"
   },
   "source": [
    "For Question Answering we use the `BertForQuestionAnswering` class from the `transformers` library.\n",
    "\n",
    "This class supports fine-tuning, but for this example we will keep things simpler and load a BERT model that has already been fine-tuned for the SQuAD benchmark.\n",
    "\n",
    "The `transformers` library has a large collection of pre-trained models which you can reference by name and load easily. The full list is in their documentation [here](https://huggingface.co/transformers/pretrained_models.html).\n",
    "\n",
    "For Question Answering, they have a version of BERT-large that has already been fine-tuned for the SQuAD benchmark. \n",
    "\n",
    "BERT-large is really big... it has 24-layers and an embedding size of 1,024, for a total of 340M parameters! Altogether it is 1.34GB, so expect it to take a couple minutes to download to your Colab instance. \n",
    "\n",
    "(Note that this download is not using your own network bandwidth--it's between the Google instance and wherever the model is stored on the web).\n",
    "\n",
    "Note: I believe this model was trained on version 1 of SQuAD, since it's not outputting whether the question is \"impossible\" to answer from the text (which is part of the task in v2 of SQuAD).\n"
   ]
  },
  {
   "cell_type": "code",
   "execution_count": 5,
   "metadata": {
    "colab": {
     "base_uri": "https://localhost:8080/",
     "height": 161,
     "referenced_widgets": [
      "549ca681c27743aa8c28af40d2185900",
      "0c5547ffbd4143609051b231a14853e1",
      "8665ab6d11084a6e980121c5475d8170",
      "461b9936e0864bc1aac73925b730ef7f",
      "49263ffffaee42438fc699c57fab7814",
      "1e6e46c1520d4a309d77a4ff7cc07900",
      "bd8a1fa1079448f585e87dafcd856bfc",
      "2b6be0f1b89044c3a934f3eccf29cf54",
      "6f9df97c25e84e7d8efccce6cde22fbc",
      "f3d792809e234442b6c888b56421479d",
      "94daf90c961945cdafc12178c3e357e4",
      "82461e6ee22b44918d424f24245bdf0e",
      "0e044677b4fc4ffe809b318e8963e08a",
      "930457a02cbe469181b0dbaf1eb9fac0",
      "e86b7da45ef6466ebf25f28c10df61b8",
      "8892ad9564d84ff190062d0a9d5d9f6f"
     ]
    },
    "colab_type": "code",
    "id": "-Mnv95sX-U9K",
    "outputId": "6df46a1c-394d-4439-91e6-9540e9cd2864"
   },
   "outputs": [],
   "source": [
    "from transformers import BertForQuestionAnswering\n",
    "\n",
    "model = BertForQuestionAnswering.from_pretrained('bert-large-uncased-whole-word-masking-finetuned-squad')\n"
   ]
  },
  {
   "cell_type": "markdown",
   "metadata": {
    "colab_type": "text",
    "id": "8imoOxoqGZ0h"
   },
   "source": [
    "Load the tokenizer as well. \n",
    "\n",
    "Side note: Apparently the vocabulary of this model is identicaly to the one in bert-base-uncased. You can load the tokenizer from `bert-base-uncased` and that works just as well."
   ]
  },
  {
   "cell_type": "code",
   "execution_count": 6,
   "metadata": {
    "colab": {
     "base_uri": "https://localhost:8080/",
     "height": 66,
     "referenced_widgets": [
      "632ff7bd64cf4b2c92acee6f0f17d6db",
      "87719f2515a34ba49761e7f18772a90d",
      "f6590ea2e9c14d3099b9999ce1a4602a",
      "b3e5f72146e0406d9977465e9549419f",
      "bf4308a7859f4bfd9356215bbd9ef5e4",
      "d0989443c5e84d6b8eeee08879c07db6",
      "0619db0363894129880d090367b4194a",
      "c17dfd9c89694880a04d07942db3e426"
     ]
    },
    "colab_type": "code",
    "id": "SFQ5f7gv-RBH",
    "outputId": "7e0dd1cf-b565-4c84-b377-2ebee083a9d9"
   },
   "outputs": [],
   "source": [
    "from transformers import BertTokenizer\n",
    "\n",
    "tokenizer = BertTokenizer.from_pretrained('bert-large-uncased-whole-word-masking-finetuned-squad')"
   ]
  },
  {
   "cell_type": "markdown",
   "metadata": {},
   "source": [
    "# Data Load"
   ]
  },
  {
   "cell_type": "code",
   "execution_count": 7,
   "metadata": {},
   "outputs": [],
   "source": [
    "import pandas as pd"
   ]
  },
  {
   "cell_type": "code",
   "execution_count": 8,
   "metadata": {},
   "outputs": [],
   "source": [
    "clean_pdf_df = pd.read_csv(\"/home/ubuntu/covid19-challenge/data/clean_doc_pdf.csv\")"
   ]
  },
  {
   "cell_type": "markdown",
   "metadata": {},
   "source": [
    "# Data Exploration"
   ]
  },
  {
   "cell_type": "code",
   "execution_count": 9,
   "metadata": {
    "scrolled": true
   },
   "outputs": [
    {
     "data": {
      "text/plain": [
       "(51868, 9)"
      ]
     },
     "execution_count": 9,
     "metadata": {},
     "output_type": "execute_result"
    }
   ],
   "source": [
    "clean_pdf_df.shape"
   ]
  },
  {
   "cell_type": "markdown",
   "metadata": {},
   "source": [
    "All the structures are the same"
   ]
  },
  {
   "cell_type": "code",
   "execution_count": 10,
   "metadata": {
    "scrolled": false
   },
   "outputs": [
    {
     "data": {
      "text/html": [
       "<div>\n",
       "<style scoped>\n",
       "    .dataframe tbody tr th:only-of-type {\n",
       "        vertical-align: middle;\n",
       "    }\n",
       "\n",
       "    .dataframe tbody tr th {\n",
       "        vertical-align: top;\n",
       "    }\n",
       "\n",
       "    .dataframe thead th {\n",
       "        text-align: right;\n",
       "    }\n",
       "</style>\n",
       "<table border=\"1\" class=\"dataframe\">\n",
       "  <thead>\n",
       "    <tr style=\"text-align: right;\">\n",
       "      <th></th>\n",
       "      <th>paper_id</th>\n",
       "      <th>title</th>\n",
       "      <th>authors</th>\n",
       "      <th>affiliations</th>\n",
       "      <th>abstract</th>\n",
       "      <th>text</th>\n",
       "      <th>bibliography</th>\n",
       "      <th>raw_authors</th>\n",
       "      <th>raw_bibliography</th>\n",
       "    </tr>\n",
       "  </thead>\n",
       "  <tbody>\n",
       "    <tr>\n",
       "      <th>0</th>\n",
       "      <td>0ae02f293c03e3e1a2d4582e62c22f2c0c291f48</td>\n",
       "      <td>Development of animal models against emerging ...</td>\n",
       "      <td>Troy C Sutton, Kanta Subbarao</td>\n",
       "      <td>Troy C Sutton (NIAID, NIH, United States), Kan...</td>\n",
       "      <td>Abstract\\n\\nTwo novel coronaviruses have emerg...</td>\n",
       "      <td>Introduction\\n\\nWithin the last two decades, t...</td>\n",
       "      <td>Replication and shedding of MERS-CoV in upper ...</td>\n",
       "      <td>[{'first': 'Troy', 'middle': ['C'], 'last': 'S...</td>\n",
       "      <td>{'BIBREF0': {'ref_id': 'b0', 'title': 'Replica...</td>\n",
       "    </tr>\n",
       "    <tr>\n",
       "      <th>1</th>\n",
       "      <td>640de65e9f09545c463bc419bffb7084fc40fae5</td>\n",
       "      <td>X-RAY CRYSTALLOGRAPHIC STUDIES OF THE IDIOTYPI...</td>\n",
       "      <td>Nenad Ban, Alexander Mcpherson</td>\n",
       "      <td>Nenad Ban (University of California, 92521, Ri...</td>\n",
       "      <td>NaN</td>\n",
       "      <td>\\n\\n1. viral: type B viral hepatitis (Kennedy ...</td>\n",
       "      <td>Three-dimensional structure of antibodies, P M...</td>\n",
       "      <td>[{'first': 'Nenad', 'middle': [], 'last': 'Ban...</td>\n",
       "      <td>{'BIBREF0': {'ref_id': 'b0', 'title': 'Three-d...</td>\n",
       "    </tr>\n",
       "  </tbody>\n",
       "</table>\n",
       "</div>"
      ],
      "text/plain": [
       "                                   paper_id  \\\n",
       "0  0ae02f293c03e3e1a2d4582e62c22f2c0c291f48   \n",
       "1  640de65e9f09545c463bc419bffb7084fc40fae5   \n",
       "\n",
       "                                               title  \\\n",
       "0  Development of animal models against emerging ...   \n",
       "1  X-RAY CRYSTALLOGRAPHIC STUDIES OF THE IDIOTYPI...   \n",
       "\n",
       "                          authors  \\\n",
       "0   Troy C Sutton, Kanta Subbarao   \n",
       "1  Nenad Ban, Alexander Mcpherson   \n",
       "\n",
       "                                        affiliations  \\\n",
       "0  Troy C Sutton (NIAID, NIH, United States), Kan...   \n",
       "1  Nenad Ban (University of California, 92521, Ri...   \n",
       "\n",
       "                                            abstract  \\\n",
       "0  Abstract\\n\\nTwo novel coronaviruses have emerg...   \n",
       "1                                                NaN   \n",
       "\n",
       "                                                text  \\\n",
       "0  Introduction\\n\\nWithin the last two decades, t...   \n",
       "1  \\n\\n1. viral: type B viral hepatitis (Kennedy ...   \n",
       "\n",
       "                                        bibliography  \\\n",
       "0  Replication and shedding of MERS-CoV in upper ...   \n",
       "1  Three-dimensional structure of antibodies, P M...   \n",
       "\n",
       "                                         raw_authors  \\\n",
       "0  [{'first': 'Troy', 'middle': ['C'], 'last': 'S...   \n",
       "1  [{'first': 'Nenad', 'middle': [], 'last': 'Ban...   \n",
       "\n",
       "                                    raw_bibliography  \n",
       "0  {'BIBREF0': {'ref_id': 'b0', 'title': 'Replica...  \n",
       "1  {'BIBREF0': {'ref_id': 'b0', 'title': 'Three-d...  "
      ]
     },
     "execution_count": 10,
     "metadata": {},
     "output_type": "execute_result"
    }
   ],
   "source": [
    "clean_pdf_df.head(2)"
   ]
  },
  {
   "cell_type": "markdown",
   "metadata": {},
   "source": [
    "# Transform text:\n",
    "Text column of a dataframe --> dictionarity (keys: paragraph name, values: content)\n"
   ]
  },
  {
   "cell_type": "code",
   "execution_count": 12,
   "metadata": {},
   "outputs": [],
   "source": [
    "def df_text_to_dict(df,col_name,output_col,print_it=False):\n",
    "    text_list=[]\n",
    "    for i in df.index:\n",
    "        line = df.loc[i]\n",
    "        text=str(line[col_name])\n",
    "        text_dict=dict()\n",
    "        comp_list= text.split(\"\\n\\n\")\n",
    "        for num in range(int((len(comp_list))/2)):\n",
    "            key_str=str(num)+'_'+str(comp_list[num*2])\n",
    "            key_str=key_str.strip()\n",
    "            text_dict[key_str]=str(comp_list[num*2+1])\n",
    "        text_list.append(text_dict)\n",
    "        if print_it ==True:\n",
    "            print(i)\n",
    "    df[output_col]=text_list\n",
    "    return df"
   ]
  },
  {
   "cell_type": "markdown",
   "metadata": {},
   "source": [
    "## Add text_dict"
   ]
  },
  {
   "cell_type": "code",
   "execution_count": 13,
   "metadata": {},
   "outputs": [],
   "source": [
    "ap_dataframe=df_text_to_dict(clean_pdf_df,\"text\",\"text_dict\",False)"
   ]
  },
  {
   "cell_type": "code",
   "execution_count": 14,
   "metadata": {},
   "outputs": [
    {
     "data": {
      "text/html": [
       "<div>\n",
       "<style scoped>\n",
       "    .dataframe tbody tr th:only-of-type {\n",
       "        vertical-align: middle;\n",
       "    }\n",
       "\n",
       "    .dataframe tbody tr th {\n",
       "        vertical-align: top;\n",
       "    }\n",
       "\n",
       "    .dataframe thead th {\n",
       "        text-align: right;\n",
       "    }\n",
       "</style>\n",
       "<table border=\"1\" class=\"dataframe\">\n",
       "  <thead>\n",
       "    <tr style=\"text-align: right;\">\n",
       "      <th></th>\n",
       "      <th>paper_id</th>\n",
       "      <th>title</th>\n",
       "      <th>authors</th>\n",
       "      <th>affiliations</th>\n",
       "      <th>abstract</th>\n",
       "      <th>text</th>\n",
       "      <th>bibliography</th>\n",
       "      <th>raw_authors</th>\n",
       "      <th>raw_bibliography</th>\n",
       "      <th>text_dict</th>\n",
       "    </tr>\n",
       "  </thead>\n",
       "  <tbody>\n",
       "    <tr>\n",
       "      <th>0</th>\n",
       "      <td>0ae02f293c03e3e1a2d4582e62c22f2c0c291f48</td>\n",
       "      <td>Development of animal models against emerging ...</td>\n",
       "      <td>Troy C Sutton, Kanta Subbarao</td>\n",
       "      <td>Troy C Sutton (NIAID, NIH, United States), Kan...</td>\n",
       "      <td>Abstract\\n\\nTwo novel coronaviruses have emerg...</td>\n",
       "      <td>Introduction\\n\\nWithin the last two decades, t...</td>\n",
       "      <td>Replication and shedding of MERS-CoV in upper ...</td>\n",
       "      <td>[{'first': 'Troy', 'middle': ['C'], 'last': 'S...</td>\n",
       "      <td>{'BIBREF0': {'ref_id': 'b0', 'title': 'Replica...</td>\n",
       "      <td>{'0_Introduction': 'Within the last two decade...</td>\n",
       "    </tr>\n",
       "    <tr>\n",
       "      <th>1</th>\n",
       "      <td>640de65e9f09545c463bc419bffb7084fc40fae5</td>\n",
       "      <td>X-RAY CRYSTALLOGRAPHIC STUDIES OF THE IDIOTYPI...</td>\n",
       "      <td>Nenad Ban, Alexander Mcpherson</td>\n",
       "      <td>Nenad Ban (University of California, 92521, Ri...</td>\n",
       "      <td>NaN</td>\n",
       "      <td>\\n\\n1. viral: type B viral hepatitis (Kennedy ...</td>\n",
       "      <td>Three-dimensional structure of antibodies, P M...</td>\n",
       "      <td>[{'first': 'Nenad', 'middle': [], 'last': 'Ban...</td>\n",
       "      <td>{'BIBREF0': {'ref_id': 'b0', 'title': 'Three-d...</td>\n",
       "      <td>{'0_': '1. viral: type B viral hepatitis (Kenn...</td>\n",
       "    </tr>\n",
       "  </tbody>\n",
       "</table>\n",
       "</div>"
      ],
      "text/plain": [
       "                                   paper_id  \\\n",
       "0  0ae02f293c03e3e1a2d4582e62c22f2c0c291f48   \n",
       "1  640de65e9f09545c463bc419bffb7084fc40fae5   \n",
       "\n",
       "                                               title  \\\n",
       "0  Development of animal models against emerging ...   \n",
       "1  X-RAY CRYSTALLOGRAPHIC STUDIES OF THE IDIOTYPI...   \n",
       "\n",
       "                          authors  \\\n",
       "0   Troy C Sutton, Kanta Subbarao   \n",
       "1  Nenad Ban, Alexander Mcpherson   \n",
       "\n",
       "                                        affiliations  \\\n",
       "0  Troy C Sutton (NIAID, NIH, United States), Kan...   \n",
       "1  Nenad Ban (University of California, 92521, Ri...   \n",
       "\n",
       "                                            abstract  \\\n",
       "0  Abstract\\n\\nTwo novel coronaviruses have emerg...   \n",
       "1                                                NaN   \n",
       "\n",
       "                                                text  \\\n",
       "0  Introduction\\n\\nWithin the last two decades, t...   \n",
       "1  \\n\\n1. viral: type B viral hepatitis (Kennedy ...   \n",
       "\n",
       "                                        bibliography  \\\n",
       "0  Replication and shedding of MERS-CoV in upper ...   \n",
       "1  Three-dimensional structure of antibodies, P M...   \n",
       "\n",
       "                                         raw_authors  \\\n",
       "0  [{'first': 'Troy', 'middle': ['C'], 'last': 'S...   \n",
       "1  [{'first': 'Nenad', 'middle': [], 'last': 'Ban...   \n",
       "\n",
       "                                    raw_bibliography  \\\n",
       "0  {'BIBREF0': {'ref_id': 'b0', 'title': 'Replica...   \n",
       "1  {'BIBREF0': {'ref_id': 'b0', 'title': 'Three-d...   \n",
       "\n",
       "                                           text_dict  \n",
       "0  {'0_Introduction': 'Within the last two decade...  \n",
       "1  {'0_': '1. viral: type B viral hepatitis (Kenn...  "
      ]
     },
     "execution_count": 14,
     "metadata": {},
     "output_type": "execute_result"
    }
   ],
   "source": [
    "ap_dataframe.head(2)"
   ]
  },
  {
   "cell_type": "code",
   "execution_count": 15,
   "metadata": {},
   "outputs": [],
   "source": [
    "sm_ap_dataframe=ap_dataframe[[\"paper_id\",\"text_dict\"]]"
   ]
  },
  {
   "cell_type": "code",
   "execution_count": 16,
   "metadata": {},
   "outputs": [
    {
     "data": {
      "text/plain": [
       "dict_keys(['0_', '1_FabD1.3(Abl>-FabE225(Ab2) and FabD1.3-Lysozyme Complex', '2_FvD1.3(Abl)-FvE5.2(Ab2) and FabD1.3-Lysozyme complex', '3_B', '4_THE ANTI-FELINE INFECTIOUS PERITONITIS VIRUS SYSTEM', '5_Description of the Structure', '6_Idiotope-Anti-Idiotope Interface', '7_ANTI-ANGIOTENSIN II SYSTEM', '8_Number of Residues in a Loop', '9_V8 (IH)', '10_ANTI-LIPOPOLYSACCHARIDE A ANTIGEN OF BRUCELLA ABORTUS SYSTEM', '11_SELF COMPLEMENTARITY OF A MONO-CLONAL ANTIBODY GENERATED IN AN IDIOTYPIC CASCADE', '12_Structure of the Fab Fragment', '13_The Packing of the Fab Fragment and Self-Complementary Interactions', '14_Ag', '15_The Structure of the Complex', '16_The Interface between Self Complementary Antianti-idiotopes', '17_Possible Implications of the Self-Complementary Interaction'])"
      ]
     },
     "execution_count": 16,
     "metadata": {},
     "output_type": "execute_result"
    }
   ],
   "source": [
    "sm_ap_dataframe.loc[1][\"text_dict\"].keys()"
   ]
  },
  {
   "cell_type": "markdown",
   "metadata": {},
   "source": [
    "# To csv"
   ]
  },
  {
   "cell_type": "code",
   "execution_count": 42,
   "metadata": {},
   "outputs": [],
   "source": [
    "sm_df=sm_ap_dataframe[[\"paper_id\",\"text_dict\"]].copy()"
   ]
  },
  {
   "cell_type": "code",
   "execution_count": 43,
   "metadata": {
    "scrolled": true
   },
   "outputs": [
    {
     "data": {
      "text/html": [
       "<div>\n",
       "<style scoped>\n",
       "    .dataframe tbody tr th:only-of-type {\n",
       "        vertical-align: middle;\n",
       "    }\n",
       "\n",
       "    .dataframe tbody tr th {\n",
       "        vertical-align: top;\n",
       "    }\n",
       "\n",
       "    .dataframe thead th {\n",
       "        text-align: right;\n",
       "    }\n",
       "</style>\n",
       "<table border=\"1\" class=\"dataframe\">\n",
       "  <thead>\n",
       "    <tr style=\"text-align: right;\">\n",
       "      <th></th>\n",
       "      <th>paper_id</th>\n",
       "      <th>text_dict</th>\n",
       "    </tr>\n",
       "  </thead>\n",
       "  <tbody>\n",
       "    <tr>\n",
       "      <th>0</th>\n",
       "      <td>0ae02f293c03e3e1a2d4582e62c22f2c0c291f48</td>\n",
       "      <td>{'0_Introduction': 'Within the last two decade...</td>\n",
       "    </tr>\n",
       "    <tr>\n",
       "      <th>1</th>\n",
       "      <td>640de65e9f09545c463bc419bffb7084fc40fae5</td>\n",
       "      <td>{'0_': '1. viral: type B viral hepatitis (Kenn...</td>\n",
       "    </tr>\n",
       "    <tr>\n",
       "      <th>2</th>\n",
       "      <td>5da136317f5b97ed8371d5121d8828f1c9a5372d</td>\n",
       "      <td>{'0_Introduction': 'Malaria is a mosquito-born...</td>\n",
       "    </tr>\n",
       "    <tr>\n",
       "      <th>3</th>\n",
       "      <td>f9ae3db6ac88670b3f47b815bb7422a75f6d47c8</td>\n",
       "      <td>{'0_Introduction': 'Nearly 3 million confirmed...</td>\n",
       "    </tr>\n",
       "    <tr>\n",
       "      <th>4</th>\n",
       "      <td>a8676c57d7e3a52378b9e554cc0886ad91999e13</td>\n",
       "      <td>{'0_': 'ziektegeschiedenis Patiënt A, een 29-j...</td>\n",
       "    </tr>\n",
       "    <tr>\n",
       "      <th>...</th>\n",
       "      <td>...</td>\n",
       "      <td>...</td>\n",
       "    </tr>\n",
       "    <tr>\n",
       "      <th>51863</th>\n",
       "      <td>7ed6060dd9d540cbf92b794305429695efb775ce</td>\n",
       "      <td>{'0_': 'The outbreak and spread of coronavirus...</td>\n",
       "    </tr>\n",
       "    <tr>\n",
       "      <th>51864</th>\n",
       "      <td>2a35742783198a179b36b29a45fb3a7a28663026</td>\n",
       "      <td>{'0_': 'Cats have the ability to control postu...</td>\n",
       "    </tr>\n",
       "    <tr>\n",
       "      <th>51865</th>\n",
       "      <td>d119b09f850ebbfd1fef16f22c8eec38adcc684c</td>\n",
       "      <td>{'0_| INTRODUCTION': 'In recent years, with th...</td>\n",
       "    </tr>\n",
       "    <tr>\n",
       "      <th>51866</th>\n",
       "      <td>8624ce91f316d2aae5c09273f9308cc08ffcc25c</td>\n",
       "      <td>{'0_Introduction, methods, and results': 'Porc...</td>\n",
       "    </tr>\n",
       "    <tr>\n",
       "      <th>51867</th>\n",
       "      <td>e2445316a3475f25e869fa303d9ec90f8739d40f</td>\n",
       "      <td>{'0_': 'ular modeling tools and experimental c...</td>\n",
       "    </tr>\n",
       "  </tbody>\n",
       "</table>\n",
       "<p>51868 rows × 2 columns</p>\n",
       "</div>"
      ],
      "text/plain": [
       "                                       paper_id  \\\n",
       "0      0ae02f293c03e3e1a2d4582e62c22f2c0c291f48   \n",
       "1      640de65e9f09545c463bc419bffb7084fc40fae5   \n",
       "2      5da136317f5b97ed8371d5121d8828f1c9a5372d   \n",
       "3      f9ae3db6ac88670b3f47b815bb7422a75f6d47c8   \n",
       "4      a8676c57d7e3a52378b9e554cc0886ad91999e13   \n",
       "...                                         ...   \n",
       "51863  7ed6060dd9d540cbf92b794305429695efb775ce   \n",
       "51864  2a35742783198a179b36b29a45fb3a7a28663026   \n",
       "51865  d119b09f850ebbfd1fef16f22c8eec38adcc684c   \n",
       "51866  8624ce91f316d2aae5c09273f9308cc08ffcc25c   \n",
       "51867  e2445316a3475f25e869fa303d9ec90f8739d40f   \n",
       "\n",
       "                                               text_dict  \n",
       "0      {'0_Introduction': 'Within the last two decade...  \n",
       "1      {'0_': '1. viral: type B viral hepatitis (Kenn...  \n",
       "2      {'0_Introduction': 'Malaria is a mosquito-born...  \n",
       "3      {'0_Introduction': 'Nearly 3 million confirmed...  \n",
       "4      {'0_': 'ziektegeschiedenis Patiënt A, een 29-j...  \n",
       "...                                                  ...  \n",
       "51863  {'0_': 'The outbreak and spread of coronavirus...  \n",
       "51864  {'0_': 'Cats have the ability to control postu...  \n",
       "51865  {'0_| INTRODUCTION': 'In recent years, with th...  \n",
       "51866  {'0_Introduction, methods, and results': 'Porc...  \n",
       "51867  {'0_': 'ular modeling tools and experimental c...  \n",
       "\n",
       "[51868 rows x 2 columns]"
      ]
     },
     "execution_count": 43,
     "metadata": {},
     "output_type": "execute_result"
    }
   ],
   "source": [
    "sm_df"
   ]
  },
  {
   "cell_type": "markdown",
   "metadata": {},
   "source": [
    "## Test `dict()` to `str()`: Fail"
   ]
  },
  {
   "cell_type": "code",
   "execution_count": 72,
   "metadata": {},
   "outputs": [
    {
     "data": {
      "text/plain": [
       "'{\\'0_\\': \\'1. viral: type B viral hepatitis (Kennedy et al, 1986) , the rabies virus glycoprotein (Reagan et al., 1983) , polio virus type 2 (Fons et al., 1985) , influenza hemagglutinin (Anders et al., 1989) , and bluetonge virus (Grieder et al., 1990 ); 2. bacterial: Streptococcus pneumoniae (McNamara et al., \\\\\\\\9S4) ,Pseudomonas aeruginosae (Schrieber et al., 1991) ; 3. parasitic: Trypanosoma rhodesiense (Sacks et al., 1982) , Schistosomias masoni (Kresina and Olds, 1989; Velge-Roussel et al., 1989) ; 4. fungal metabolites (which represent major agricultural contamination problems): trichothecene mycotoxin T-2 (Chanh et al., 1990) ; and 5. tumor antigens -with potential use in cancer therapy (reviewed in Langone, 1989) . Furthermore, this phenomenon has been utilized to identify putative receptors for the import of proteins into mitochondria (Pain et al., 1990) , and anti-anti-IgE idiotypic antibodies have been shown to mimic IgE in their binding to FCe receptor on mast cells involved in complex allergic responses (Baniyash and Eshhar, 1987) .These results suggest that there may exist significant structural mimicry between the \"complementarity determining regions\" (CDRs) of internal image Ab2s and the original antigen. This represents one of the most interesting areas of structure-function relations, and several structural studies dealt with this unique problem. Since X-ray crystallography is currently the only technique capable of solving this problem on a molecular level, in this chapter, we will try to summarize the results obtained by crystallographic analysis of components of the idiotypic cascade.Structural studies of idiotypic cascades have been carried out using exclusively antibody fragments (reviewed in Mariuzza and Poljak, 1993; Pan et al., 1995) . This is because intact antibodies are large and flexible molecules which are rather difficult to crystallize (Harris et al., 1992) (Figure 1 , opposite). Single crystal X-ray diffraction studies have shown that antibody Fab fragments are multimeric proteins consisting of light (L) and heavy (H) polypeptide chains appearing as four homologous globular domains, organized in pairs, that share a common 3-D arrangement. The \"immunoglobulin\" fold consists of two antiparallel P-sheets formed by three and four antiparallel strands in the constant light (CL) and heavy (CHI) domains, and five and four antiparallel strands in variable light (VL) and heavy (VH) domains. These are connected by loops showing a conserved topology (for reviews, see Amzel and Poljak, 1979; Davies and Metzger, 1983; Alzari et al., 1988; Davies et al., 1990) . The specificity of immunoglobulins is determined by the amino acid sequences of three hypervariable loops of both the heavy and the light chains of a variable domain. These CDRs occur at the extremities of the molecule, fully exposed to solvent, where they form the antigen binding site. Using the techniques of molecular biology it is also possible to produce, by expression in bacteria, only VH-VL domain pairs, called Fv. Utilizing this system it is possible to perform site directed mutagenesis, and selectively change amino acids forming CDRs, and monitor the binding capabilities of new antibody combining regions.In order to study the relationship between an antiidiotypic antibody and the original antigen it is necessary to know the structure of both on a molecular level, and preferably to know the details of interactions between idiotype and each of these molecules. This, on the other hand would require two different complexes to be crystallized and their structures determined. This illustrates the difficulty associated with this type of study. To date, there have been five different investigations dealing with anti-idiotypes. These involved two different studies of an anti-lysozyme idiotypic system Fields et al., 1995) , an anti-angiotensin II system (Garcia et al., 1992) , an anti-feline infectious peritonitis virus (FIPV) system (Ban et al., 1994) , an anti-lipopolysaccharide A antigen of Brucella abortus system (Evans et al., 1994) , and an anti-anti-idiotypic Fab fragment belonging to the high molecular weight-melanoma associated antigen (HMW-MAA) idiotypic cascade (Ban et al., 1996) .\\', \\'1_FabD1.3(Abl>-FabE225(Ab2) and FabD1.3-Lysozyme Complex\\': \\'The first crystallographic analysis of the idiotope-antiidiotope (Id-anti-Id) phenomena on a molecular level was achieved by Poljak and co-workers . This study included solving the structure of a complex between a Fab fragment of D 1.3 antibody in complex with lysozyme, and the structure of a complex between the Fab fragment of idiotypic D1.3 and a Fab fragment of an anti-idiotypic antibody E225. Antiidiotypic antibody E225 was shown to be an Ab2p, carrying an internal image of an external antigen. The structure of the Id-anti-Id complex was solved at 2.5 A.Two molecules forming a complex are approximately aligned along their long axis. The interaction between the idiotype and anti-idiotype is formed primarily through hypervariable regions. There are 13 residues on five CDRs of the D 1.3 that interact with fourteen residues on six CDRs of the anti-idiotypic E225. There is also one framework residue on the V^ domain of each molecule that contributes to the binding interactions. Both the Fab of the anti-idiotypic E225 and the Fab of the idiotypic D1.3 are centered on V^ domains of the complementary molecule in the complex. In spite of this interaction involving primarily W^ domains, the V^^ domain on the anti-Id is responsible for 45% of the contacts. There are nine hydrogen bonds formed upon complex formation, and one salt link between E225 Arg ^^o and D1.3 Asp\"^^ (summarized in Table I .A.).The paratope of D1.3 (lysozyme binding site) consists of 13 residues. Of these 13 residues, seven are in common with the residues recognized by the antiidiotype E225 (Table LA. ). Comparison of the CDRs of the idiotypic D1.3 in the Id-anti-Id complex and the complex between Fab, or Fv with the antigen lysozyme, showed that there are significant side chain conformational changes. This is probably the result of different steric requirements for binding of the lysozyme versus the anti-idiotype by the idiotopic D1.3. Interestingly, there is no conformational change of the side chains when free D1.3 idiotope is compared with that bound to the antigen (Bhat et al., 1990) .This structure did not provide a molecular explanation for the mechanism of anti-idiotypic mimicry. A detailed comparison of the nature of the interactions within the lysozyme-Dl.3 and the D1.3-E225 complex showed them to be quite different. There are Figure 1 . Ribbon representation of the structure of the murine antibody against canine lymphoma determined by X-ray analysis of the triclinic crystals. The heavy chains are shown in yellow and blue, while the light chains are in red. The Fc stem of the molecule projects towards the viewer and assumes an asymmetric, oblique orientation with respect to the Fabs. This orientation illustrates the vast difference in hinge angles of about 65° and US\\\\\\'\\\\\\'. One of the Fabs is viewed along the axis through the switch peptides. This Fab has an elbow angle of 143°, in contrast to the other which has an elbow of 159°. several plausible explanations for this: a) there are structural differences that occur at the combining site of the idiotopic D1.3; b) the open loop structure of anti-idiotypic antibody\\\\\\'s CDRs may not be able to mimic the partly ahelical conformation of the lysozyme epitope recognized by the idiotopic D1.3; and, c) the potential for anti-idiotopic mimicry is reduced because of only partial overlap between the paratope and the idiotope of D 1.3. In addition, anti-idiotopic antibody E225 has a con-siderably lov^er affinity for D1.3 (2.0 x lOVM) than the original lysozyme antigen (1.4 x 107M).\\', \\'2_FvD1.3(Abl)-FvE5.2(Ab2) and FabD1.3-Lysozyme complex\\': \\'Another very interesting study on the molecular basis of antigen mimicry v^as completed using again an antilysozyme idotypic cascade (Fields et al., 1995) . This analysis was the first to visualize molecular mimicry of the external antigen (lysozyme) by an anti-idiotypic . Stereo view of the structure of the two 2-fold related mAb GH1002 Fab molecules reveals \"head on\" positioning of variable heavy and light chains with respect to the corresponding subunits of the other molecule along the direction of p strands. The Fab molecule is in magenta (light chain) and dark blue (heavy chain). The 2-fold axis crosses between the two Fabs approximately in the plane of the paper (panel A). Molecular surface of the Ab3-Ab3 complex demonstrates tight interaction between the two molecules. The orientation and color scheme is the same as in panel A (panel B). Figure 8 . Stereo view of the combining site of anti-anti-Id mAb GH1002. The 2-fold axis of symmetry is approximately in the plane of the paper and vertical. This makes atoms on the left side of the image interact with atoms on the right side of the image of the two identical, 2-fold related, molecules. In panel A, all atoms are shown as space filling models. There are 116 van der Waals contacts and 13 probable hydrogen bonds. Twelve groups involved in hydrogen bonding are labeled to facilitate identification of contact points between the two Fabs. The hydrogen bond acceptors are labeled with red and donors with blue. Threonine labeled with magenta is interacting with itself and can be either donor or acceptor. In panel B, this region is buried upon complex formation. The surface is color coded according to the distance between two molecules in the complex. antibody (E5.2). The mimicry is achieved by extensive overlap between the paratope and the idiotope of D1.3. Virtually the same residues of idiotypic D1.3 are involved in binding the original antigen and the anti-idiotope. Furthermore, there is a considerable similarity in the nature of the interactions of the idotypic Dl .3 in the antigen-idiotype and the Id-anti-Id complex, and the affinity of the E5.2 for the D1.3 of 1.4 X lOVM approaches the affinity between the antigen and D1.3 of 2.7 x lOVM.\\', \\'3_B\\': \\'In this study, the interaction between idiotope and anti-idiotope was performed by crystallographic analysis of respective Fv fragments of antibodies. The contacts involve all six CDRs of the two antibodies. Tyr^\"^^ is the only residue on both antibodies that is involved in interface contacts. The V^^ domains of the two molecules are responsible for a majority of contacts. The V^ domain of the anti-idiotope accounts for 77% of the total contacts with the idiotope. Upon complex formation, 912 A^ of the idiotope and 974 A^ of the anti-idiotope are buried.Comparing the structures of the idiotypic antibody D1.3 CDRs in complex with the anti-idiotype with the original antigen, no structural changes were observed. Significant overlap of the paratope and idiotope was evident in the observation of 13 residues on the idiotopic D1.3 interacting both with the antiidiotopic E5.2 and the antigen. These residues make up 75% (687 A^) of the interaction area with the antiidiotope and 87% (675 A^) of the interacting area with the lysozyme. Besides surface complementarity, there are also six out of 12 hydrogen bonds in the D1.3-E5.2 complex that are structurally equivalent to the hydrogen bonds formed in the Dl .3-lysozyme complex. This was not observed in the case of the D1.3-E225 complex. Interestingly, solvent molecules contribute to the binding mimicry. The positions of 11 water molecules are conserved to within 1 A in both the D1.3-E5.2 and D 1.3-lysozyme interfaces. Interactions between the two different Id-anti-Id complexes and an antigen-antibody complex are compared in Figure 2 \\', \\'4_THE ANTI-FELINE INFECTIOUS PERITONITIS VIRUS SYSTEM\\': \"For this idiotope-anti-idiotope system the original antigen was the E2 peplomer, a large glycoprotein, of feline infectious peritonitis virus (FIPV). The E2 peplomer was chosen as an antigen because it is responsible for: a) the binding of virus to plasma membranes of susceptible cells, b) cell fusion, c) induction of cell-mediated cytotoxicity of infected cells, and d) induction of neutralizing antibody (Sturman and Holmes, 1983) . This virus, antigenically similar to other coronaviruses, including human coronavirus 229E (Pedersen and Black, 1983) , produces a fatal disease in both wild and domestic cats that has defied conventional vaccines (Escobar et al., 1992) . A salient observation was that anti-idiotypic antibody 409.5.3 raised against Abl 730.1.4, when injected back into mice, elicited the production of Ab3 antibodies that had FIP virus neutralizing properties. This indicated that the combining properties of the original epitope were transmitted by the Ab2. (38) . Loop H3 has 12 amino acids and forms a long hairpin structure that extends towards L2 and LI on the light domain. Two ridges on the surface of the combining site are formed by LI, L3 and H3 on one side and HI and H2 on the other. Four hypervariable regions of the Fab2 can be classified as belonging to the canonical structures L2j, L3^, HI J and H2^ (Chothia et al, 1989) . Even though loop HI can be classified as Hl^, it has a conformation different from the canonical structure: the side chain of residue Phe 27 is buried within the framework structure instead of residue Phe 29 in the canonical structure model. On the other hand residue Phe 29 of this loop is oriented towards the V^-V^ domain interface and partially buried. Sequence analysis of the Fab2 indicated that the LI region belongs to the mouse kappa light chain subgroup IV (Kabat et al., 1991) . This loop has 10 residues and main chain atoms of residues 25-27a and residue 33 follow the canonical structure model. Hydrophilic serines between residues 29-31 form a turn that is one residue longer than the turn in the LI^ loop of HyHel-5. Loop H3 of Fab2 has 10 amino acids and forms a broad turn stabilized by a hydrogen bond between the side chain of Arg 94 and the carbonyl oxygen of Phe 97. The Fab2 CDR\\'s surface is undulating, with no deep grooves as are observed when the antigen is a small molecule (Davies et al., 1990) . A shallow cavity exists between the LI, H3 and H2 loops.\", \\'5_Description of the Structure\\': \\'Two views of the complex are shown in Figure 3 (see p. 23). The two Fab molecules interact by direct juxtaposition of their complementary CDRs. The Fabs are rotated by 61° about the long axis of the complex with respect to one another. The pseudo 2-fold axes relating y^ and Vj^ domains of the two fragments are nearly coUinear, the angle between their axes being 154°. By this rotation, the heavy chain of one molecule is interacting almost entirely with the heavy chain of the other, and similarly light chain with light, but to a much lesser extent. The major axis of the complex is approximately 140 A.\\', \\'6_Idiotope-Anti-Idiotope Interface\\': \"Surface representations of the CDRs that form the interface between the two Fabs are shown in Figure  4 (p. 24). There is a striking degree of structural and chemical complementarity between the two, consistent with observations for other antibody-antigen complexes (Davies et al., 1990) . Even though water molecules can not be reliably visualized at 2.9 A resolution, there appear to be no buried waters in the interface. Upon complex formation, 1750 A^ are buried. Of this surface, Fabl accounts for 860 A^ and Fab2 for 890 A^. These values are significantly greater than the values observed with Fab lysozyme complexes, but very close to the buried surface area in the case of a neuraminidase-Fab complex which conceals about 885 A^ for the Fab and 878 A for the neuraminidase . The heavy chain of 409.5.3 dominates the binding and contributes 63% of the surface area of the anti-idiotope buried in the complex. The surface of the Fabl CDR may be described as slightly concave so that the antiidiotypic Fab, the antibody in this system, protrudes into it.Enthalpic contributions in the formation of antibody-antigen complexes arise from van der Waals interactions, hydrogen bonds and salt bridges. Hypervariable loops of two Fabs in contact through van der Waals interactions and hydrogen bonds are: LI (minor contributor), L3, HI, H2 and H3 of Fabl (58 atoms) and LI, L3 (minor contributor), HI, H2 and H3 of Fab2 (59 atoms). Loops LI, L2, HI and H2 on one Fab are in proximity to loops LI, L3, HI and H3, respectively, on the other molecule ( Figure 5 ). In total, 19 residues of the idiotope and 17 residues of the anti-idiotope participate in 111 long van der Waals interactions <4.11 A and seven short interactions <3.44 A (Sheriff et al., 1987) (Table l .D, pp. 30-31). The interaction is further stabilized by nine hydrogen bonds. The maximum distance between electronegative atoms of a hydrogen bond pair is 3.5 A.In both cases residues of Rabat\\'s heavy chain FRl are involved in the interaction. According to the canonical structure model, these residues belong to the binding site loop HI (Chothia et al., 1989) . Overlap between the hypervariable region HI deduced from immunoglobulin sequence analysis (Kabat et al., 1991) and the structural loop HI (Chothia et al., 1989 ) is only two amino acids. It is probable that the HI region defined by Chothia et al. (1989) is mainly responsible for interaction with the antigen even though it shows less sequence variation than Rabat\\'s HI region.The 730.1.4 idiotope is predominately located on its heavy chain which contributes 71% to the buried area on the idiotope. Since V^^ domains usually contribute more surface area in antibody-protein interactions (Davies et al., 1990) , it is likely that this domain dominates the interaction between the idiotypic antibody and the antigen. In the structure of the Id-anti-Id complex (anti-lysozyme D1.3 Fab and its anti-idiotypic E225 Fab) both Fabs are centered on V^ domains of opposing Fabs and interact primarily through their V^^ domains. On the other hand, the V^^ domain of idiotypic Fab D1.3 dominates the interaction with lysozyme. This is the reason that the paratope and the idiotope in the Dl .3-E225 system only partially overlap, thus reducing the potential for total molecular mimicry.In the case of the FIP virus antibody system described here, Abl recognizes an epitope on the E2 peplomer of the FIP virus as shown by Western blots (Escobar et al., 1992) even when the E2 protein is completely denatured. This suggests that Abl may be specific, not strictly for a structurally unique epitope, but for a sequence unique epitope on the antigen.It may be noteworthy that a comparison of the sequences of the three light and three heavy chain CDRs with the known sequence of the antigen shows homology in two instances. In both LI and HI there is near identity with sequences of six residues that occur in the antigen. The LI CDR sequence is Val-Ser-Ser-Ser-Ile-Ser, which differs with the segment on the E2 peplomer beginning at position 276 having sequence Ile-Ser-Ser-Ser-Ile-Ser by the conservative substitution of valine for isoleucine at the first position. Similarly, the HI loop is Gly-Phe-Thr-Phe-Asn-Asn, which matches the Gly-Phe-Ser-Phe-Asn-Asn sequence of the antigen beginning at residue 1451. Here again, only the conservative change from serine to threonine marks a difference. These two regions of homology on the anti-idiotope provide important contacts with the idiotypic antibody originally produced in response to antigen. Homologous residues on LI of the anti-idiotope are involved in 36 van der Waals contacts and two hydrogen bonds, and those on HI form 18 van der Waals contacts and the one hydrogen bond presented in Table l .D (pp. 30-31) and in Figure 5 (below). The possibility exists, therefore, that antigen sequence information determining specificity may in fact be preserved through the idiotypic antibody and be made to reappear in the structure of the anti-idiotypic response.\", \\'7_ANTI-ANGIOTENSIN II SYSTEM\\': \\'An exciting structural study dealing with antiidiotopes was published by Garcia et al. (1992) . This work utilized a system in which monoclonal antibody against the angiotensin II (All), an octapeptide which plays a central role in the regulation of blood pressure in humans and other mammals, was used to obtain anti-idiotypic antibodies. Using these polyclonal anti-idiotypic antibodies as an immunogen, anti-anti-idiotypic antibodies were produced. One of these anti-anti-idiotopes in particular, designated Mabl31, was found to bind All with high Chothia (38) , except for loops H3 which follow the convention of Kabat (39) . Density of the square in the matrix is a function of distance, ranging from darkest <6.5 A to lightest at 12.5 A. (7) RL30(4, IS) WL50 (6) RT3Q (1) E5.2(Ab2)-- L\"96 (4) NH30 (1) FH97 (4) Y^99 (3) Yj^99(lH) FH29(12) N\"52b (2) FH97 (6) LH96 (2) YH98 ( YH32 (2) QH52 (6) T^^93 (2) T^93 (2) W\"50 (1) Y\"59 (6, 2H)\\', \\'8_Number of Residues in a Loop\\': \\'N\"54 (IH) Q\"58 (IH) Rj^lOOb (IH) - Y\"98 (IH) Y\"98 (IH) YL49 (IH) Q.lOO (IH) Q.lOO (IH) Y^98 (IH) K^30 (IH) G\"100a (IH) T91AJ5(Ab2)- SL28(2H) Wj^90(lH) Y\"59(1H) Y^IOO(IH) 8^30(1 H) Y\"32(1H) QHUIH) RL45(\\', \\'9_V8 (IH)\\': \\'K32(2) L T,51 (2) A\"97 (2) K\"64 (2) Notes LI, L2, L3, HI, H2 and H3 are the CDRs 1, 2, 3, of the light and heavy chains, respectively. FR refers to the framework region. The one letter code is used for amino acids. The numbering of amino acids follows the convention of Kabat (30) , except in section A where the sequence of the idiotope E225 and the anti-idiotope D 1.3 is numbered sequentially. Van der Waals contacts, where available, are indicated with numbers in parenthesis beside a residue name and number. Hydrogen bonds and salt links are indicated with number and letter H and S, respectively. A. Contacts between D1.3 (Abl) and E225 (Ab2). Under the lysozyme column the type of contact between idiotopic D1.3 and the lysozyme is specified according to the D1.3 residues involved. The residues of the D1.3 which are involved in contacts in both Ag-Abl and Abl-Ab2 complexes are underlined in the D1.3 column. B. Contacts between D1.3 (Abl) and E5.3 (Ab2). Under the lysozyme column contacting residues between idiotopic D1.3 and the lysozyme are indicated. This contacts are superimposable in space with contacts between D1.3 (Abl) and E5.3 (Ab2) which involve underlined residues in the D1.3 column. Numbers before the E5.2 column correlate this contacts to the atoms which are involved in forming this conserved contacts labeled in Figure 2 . C. Contacts between YsT9.1 (Abl) and T91AJ5 (Ab2). D. Contacts between idiotopic 730.1.4 and anti-idiotopic 409.5.3. Residues of the anti-idiotope 409.5.3 which show sequence homology with the original antigen are underlined. E. Contacts between two self complementary mAb GH1002 Fab molecules. affinity (7.3 x 107M), a value similar to that of the original antibody which had an affinity constant of 3.2 X 107M. The structure of the anti-anti-idiotypic Mabl31 in complex with the angiotensin II was solved at 2.9 A resolution. The combining site of the Mabl31 has long hypervariable loops, especially LI and H3. Loops LI and H2 form a deep cleft between them, while H3 runs in the middle of the cleft and folds back, forming a flat foundation for the combining site. In the complex, 22 residues on five out of six hypervariable loops of the antibody are in contact with the antigen. There is 725 A^ of the Fab and 620 A^ of the peptide buried in the complex. The peptide predominantly interacts with the heavy chain of the Mabl31. Loops LI, L3, H2, and H3 are main contributors to the binding interactions, and contribute 91% of the total buried area. Several polar contacts can be characterized as hydrogen bonds between: AIIArg^-Mabl31^^^ AIIHis^-Mabl31Ser^^^ and Arg\"^^ carboxy-terminal carboxylate of AII-MabArg\"^^ and Arg\"^°.Anti-idiotypic antibodies in this system transmitted information describing the original antigen and elicited Mab 131. To probe the possibility that perhaps one CDR loop on the anti-idiotope could have had a conformation similar to the bound All, the authors searched the crystallographic structural database. Their analysis indicated that backbone atoms of the All peptide resemble a CDR loop belonging to the canonical structure L3j. Thus, it is possible that the anti-idiotypic antibody in this system has a CDR that resembles angiotensin II and, fiirther, that Ab3 binding to this CDR also binds to the antigen. In this instance, the mimic of the peptide in the Ab2 may be a single hypervariable loop.\\', \\'10_ANTI-LIPOPOLYSACCHARIDE A ANTIGEN OF BRUCELLA ABORTUS SYSTEM\\': \\'to the same site on the idiotope as the antigen. Crystallographic analysis of the complex between a Fab fragment of YsT9.1 and a Fab fragment of T91AJ5 revealed that anti-idiotypic T91AJ5 was unable to carry an internal image of the original antigen because the polysaccharide binding cleft is too narrow and deep to allow comprehensive contact with the Ab2 CDRs (Evans et al., 1994) . This makes T91AJ5 antibody a class Y anti-idiotype.Two molecules forming a complex interact head to head, with the angle between the pseudo 2-fold axis of the variable domain dimers equal to 178°. The two Fabs are rotated approximately 90°, with respect to each other along the long axis of the complex. All inter-Fab contacts in the complex occur through CDRs except for the amino terminus of the heavy chain of the anti-idiotype. Heavy and light chains of each Fab contact both heavy and light chains of the other Fab. There are 12 putative hydrogen bonds at the interface of this complex (Table 1 . C, pp. 30-31) . Tyrosine residues predominate in the formation of hydrogen bonds, and they also form a large aromatic ring network which spans three of the four variable domains. The total solvent excluded area is 730 A^ for the idiotope and 760 A^ for the anti-idiotope. Each Fab has two distinct binding surfaces as a result of the groove structure of the idiotope (Figure 6, p. 24 ). The groove on the idiotypic YsT9.1 segregates light and heavy chains, while the two binding surfaces of the anti-idiotope are shared between heavy and light chains. The antigen binding groove on the YsT9.1 is 20 A long, 15 A wide and 10 A deep. The binding surface of the anti-idiotope does not contact lower sides and the floor of the groove on the idiotope. This depression might be too deep to construct hypervariable loops of the antiidiotypic antibody which would fill it completely, and this, it appears, is what would be required in order to make an effective mimic for the antigen.The murine monoclonal antibody YsT9.1 binds cell wall polysaccharide A antigen of Brucella abortus (the causative agent of brucellosis in bovidae and Homo sapiens). The polysaccharide antigen is anal,2-linked polymer of 4,6-dideoxy-4-formamido-a-D-mannopyranose. None of the anti-idiotopic antibodies raised against idiotypic YsT9.1 were found to mimic the antigen, although these Ab2s competed for the antigen binding site of the idiotopic antibody with the polysaccharide antigen. Chemical modification studies suggested that anti-idiotypic antibody T91AJ5 binds\\', \\'11_SELF COMPLEMENTARITY OF A MONO-CLONAL ANTIBODY GENERATED IN AN IDIOTYPIC CASCADE\\': \\'Crystallographic analysis of the Fab fragment of the mouse anti-anti-Id mAb GH1002 (Ab3) revealed that it exists in the crystal as dimers related by crystallographic 2-fold axes (Ban et al., 1996) . This antibody was elicited with the syngeneic anti-Id mAb MK2-23 . The latter mAb, which bears an internal image of the antigenic determinant defined by anti-HMW-MAA mAb 763-774, has been shown to induce anti-HMW-MAA immunity in patients with malignant melanoma (Kusama et al., 1989; Chen etal., 1991; Mittlemanetal., 1992; Chen et al., 1993) . To characterize the immunological and structural organization of the idiotypic cascade in the HMW-MAA, a panel of anti-anti-Id mAbs was developed from a BALB/c mouse immunized with mAb MK2-23 . Immunochemical analysis of 11 anti-anti-Id mAbs showed that eight reacted with the immunizing mAb MK2-23 and with HMW-MAA, and three with the immunizing mAb MK2-23 alone. The latter three include mAb GH1002 which binds anti-Id mAb MK2-23 with an association constant of 4 x 107M and inhibits its binding to the Id mAb 763.74.\\', \\'12_Structure of the Fab Fragment\\': \\'This Fab fragment shares, along with other Fabs whose crystal structures have been determined, a common 3-D fold. The elbow angle of the molecule is 176°. The CDR\\\\\\'s surface is undulating with a relatively deep cavity formed by the L2, L3, HI and heavy chain framework (FR)-3 regions. Five hypervariable regions of the mAb GH1002 can be classified as Ll^, L2j, L3j, HI J. (with a Trp instead of Gly at position 26) and m^ (with a Glu instead of Gly at position 55) (Chothia et al., 1989^ . A short H3 loop has seven amino acids and has no pronounced features such as bulky residues pointing at the surface of the binding region. This loop is stabilized by a hydrogen bond between residues Asp\"^^^ and Glu\"^^°. There is also a salt link formed between Arg\"^^ and Asp\"^°^ and Glu\"^^^\\', \\'13_The Packing of the Fab Fragment and Self-Complementary Interactions\\': \\'Packing analysis revealed a tight interaction between four 2-fold related pairs of Fab fragments in the unit cell (Figure 7, p. 25 ). Although the combining region of the molecule accounts for a relatively small area of the whole Fab, the head-to-head interactions between the two molecules were responsible for nearly half of the total packing contacts. The crystallographic 2-fold axis bisected the complex between light and heavy chains. mAb GH1002 is crossreactive and, apparently, an auto-anti-anti-Id antibody, as it binds not only the immunizing mAb MK2-23, but also itself This can be summarized as follows:\\', \\'14_Ag\\': \\'Abl Ab2 Abs] ...\\', \\'15_The Structure of the Complex\\': \\'A view of the complex is shown in Figure 7 , p. 25. The two Fab molecules interact by direct juxtaposition of their CDRs. The Fab fragments are not noticeably rotated with respect to one another around the long axis of the complex, since their elbow angle axes are nearly parallel with the crystallographic 2fold axes. The pseudo 2-fold axes relating variable light and variable heavy domains of the two Fab fragments are coUinear. Because of this arrangement, the heavy and light chains of one molecule interact principally with the corresponding subunits of another molecule.\\', \\'16_The Interface between Self Complementary Antianti-idiotopes\\': \\'Surface representations of the CDRs that form the interface between two Fab fragments are shown in Figure 8 , p. 26. The degree of structural and chemical complementarity between the two Fab fragments of mAb GH1002 is comparable with other antibodyantigen complexes (Davies et al., 1990) . Upon complex formation, 1103 A^ of surface area are buried on each Fab fragment. This value is significantly greater than those observed for most other complexes (Sheriff, 1993) . The heavy and light chains of mAb GH1002 play a similar role in the binding and each contribute approximately 50% of the total area of the anti-anti-Id mAb in the complex. The surface of the interface may be described as circular with a diameter of approximately 35 A and a small cavity in the center, presumably occupied by water molecules. Hypervariable loops of two Fabs in contact through van der Waals interactions and hydrogen bonds are: LI, L2, L3, HI, H2 (minor contributor), heavy chain FR3 and H3 (65 atoms). Loops LI and L2 on one Fab are in contact with loops LI and L2, on the other molecule, while heavy chain FR3 provides 17 van der Waals contacts and three hydrogen bonds, binding primarily to the same framework element of the symmetry related molecule. In total, 23 residues of the anti-anti-Id mAb participate in 116 van der Waals interactions <4.11 A (Table 1 .E, pp. 30-31). The interaction is further stabilized by 13 probable hydrogen bonds.\\', \\'17_Possible Implications of the Self-Complementary Interaction\\': \\'The self-complementary interaction of the Fab fragment of mAb GH1002 could be a consequence of crystallization conditions and be coincidental, but there is some evidence that would suggest otherwise. The extensive and intimate contact, judged according to buried surface area, hydrogen bonds, and van der Waals bonds are not consistent with the more tenuous crystal packing interactions usually observed. Interactions are very tight and comparable to those seen in antibody-antigen complexes. In spite of the fact that antibodies and particularly Fab fragments are becoming the most studied family of proteins (Davies and Chacko, 1993; Padlan, 1994) , similar self-interaction has never been reported. Furthermore, the original antigen for this anti-anti-antibody is the CDR region of another antibody (anti-idiotypic MK2-23). It is possible that the interaction between the anti-antiidiotypic mAb GH1002 and the anti-idiotypic MK2-23 involves certain framework regions. These regions are likely to be similar for the two antibodies, and could be the basis for the self-recognition of GH1002 in the crystal.A possible physiological role is suggested by the observed structural complementarity, though, of course, there may be alternatives. Because it would be immunologically fiitile to prolong an anti-idiotypic cascade indefinitely, evolution of a cascade toward selfneutralization would provide a mechanism for modulation and ultimate termination. Indeed, isologous interactions based on dyad symmetry are usually the basis for energetically favorable protein-protein interactions in oligomers (Monod et al., 1965; Morgan et al., 1979) ; Id-anti-Id complexes of Fabs already possess pseudo dyad axes, by virtue of the roughly collinear disposition of Fabs, relating framework portions of the molecules Ban et al. 1994; Evans et al., 1994; Fields et al., 1995) , and the only parts of the antibody subject to change in an anti-idiotypic series, and therefore capable of exerting self regulation, are the CDRs.If this idea is ftindamentally correct, then it implies that interacting antibodies downstream in the idiotypic cascade will have increasingly similar surfaces and that self recognition would be enhanced along the cascade as well. In the process, the structural information reflecting the original antigen would gradually be lost. The process could be summarized as follows:Ag t Abl ^^-Ab2i ^•-Ab3 \"\"-Ab4The structure of the complex between anti-Id mAb MK2-23 and anti-anti-Id mAb GH1002 has not been solved yet. It seems likely, however, that the nature of the interaction between these two molecules will be considerably different from that for the Ab3-Ab3 complex. Formation of a 2-fold axis of symmetry between mAb MK2-23 and GH1002 is impossible, and it is likely that the general disposition of the antibodies forming the complex will be different, though some interactions may be similar to those observed in the complex described here.\\'}'"
      ]
     },
     "execution_count": 72,
     "metadata": {},
     "output_type": "execute_result"
    }
   ],
   "source": [
    "str(sm_ap_dataframe.text_dict[1])"
   ]
  },
  {
   "cell_type": "code",
   "execution_count": 73,
   "metadata": {},
   "outputs": [
    {
     "ename": "ValueError",
     "evalue": "dictionary update sequence element #0 has length 1; 2 is required",
     "output_type": "error",
     "traceback": [
      "\u001b[0;31m---------------------------------------------------------------------------\u001b[0m",
      "\u001b[0;31mValueError\u001b[0m                                Traceback (most recent call last)",
      "\u001b[0;32m<ipython-input-73-322fe402bc2b>\u001b[0m in \u001b[0;36m<module>\u001b[0;34m\u001b[0m\n\u001b[0;32m----> 1\u001b[0;31m \u001b[0mdict\u001b[0m\u001b[0;34m(\u001b[0m\u001b[0mstr\u001b[0m\u001b[0;34m(\u001b[0m\u001b[0msm_ap_dataframe\u001b[0m\u001b[0;34m.\u001b[0m\u001b[0mtext_dict\u001b[0m\u001b[0;34m[\u001b[0m\u001b[0;36m1\u001b[0m\u001b[0;34m]\u001b[0m\u001b[0;34m)\u001b[0m\u001b[0;34m)\u001b[0m\u001b[0;34m\u001b[0m\u001b[0;34m\u001b[0m\u001b[0m\n\u001b[0m",
      "\u001b[0;31mValueError\u001b[0m: dictionary update sequence element #0 has length 1; 2 is required"
     ]
    }
   ],
   "source": [
    "dict(str(sm_ap_dataframe.text_dict[1]))"
   ]
  },
  {
   "cell_type": "markdown",
   "metadata": {},
   "source": [
    "## Test sm sm df"
   ]
  },
  {
   "cell_type": "code",
   "execution_count": 74,
   "metadata": {},
   "outputs": [],
   "source": [
    "sm_sm_df=sm_df.loc[0:10].copy()"
   ]
  },
  {
   "cell_type": "code",
   "execution_count": null,
   "metadata": {},
   "outputs": [],
   "source": [
    "import time    \n",
    "\n",
    "start = start = time.time()\n",
    "with open(\"test.txt\", 'w') as f:\n",
    "    for i in range(10000000):\n",
    "        # print('This is a speed test', file=f)\n",
    "        # f.write('This is a speed test\\n')\n",
    "end = time.time()\n",
    "print(end - start)"
   ]
  },
  {
   "cell_type": "code",
   "execution_count": 85,
   "metadata": {},
   "outputs": [],
   "source": [
    "import json"
   ]
  },
  {
   "cell_type": "code",
   "execution_count": 117,
   "metadata": {},
   "outputs": [
    {
     "data": {
      "text/plain": [
       "{'paper_id': 'c2ab03046662fc55e0162afc133b4f73ea9ed866',\n",
       " 'text_dict': '{\\'0_\\': \\'validation. Furthermore, similar performance was observed on the independent validation sets. We have integrated these models in the AVCpred web server, freely available at http://crdd.osdd.net/servers/avcpred. In addition, the datasets are provided in a searchable format. We hope this web server will assist researchers in the identification of potential antiviral agents. It would also save time and cost by prioritizing new drugs against viruses before their synthesis and experimental testing. \\', \\'1_R E S E A R C H A R T I C L E AVCpred: an integrated web server for prediction and design of antiviral compounds Abid Qureshi | Gazaldeep Kaur | Manoj Kumar\\': \\'Antiviral compounds (AVCs) inhibit the development of viruses in the host cell and are relatively harmless to the host. [1] They can be natural, for example, antivirals found in turmeric [2] and eucalyptus oil, [3] or synthetic, for example, zidovudine (a nucleoside analog) [4] and Tamiflu (neuraminidase inhibitor). [5] Many compounds and drugs have also been tested and found to be useful in restricting the growth of certain viruses. [6, 7] Scientists are endeavoring to broaden the range of antivirals to other families of viruses. [8] However, designing safe and effective antiviral drugs is a difficult task due to the high genetic diversity and consequent drug resistance in viruses. [9] Initially, antivirals were discovered using traditional trial-and-error methods. [10] However, it was a very lengthy process for discovering effective antivirals. [10, 11] Later, research on virology helped to identify many target pathways to block viral multiplication. [12, 13] Scientists are now using rational drug design strategies for developing antivirals that target the viruses at different stages of their life cycles. [14] During the past decade, many new drugs have been successfully identified in controlling the viral replication in host cells, for example, maraviroc (inhibits human immunodeficiency virus or HIV entry), pleconaril (inhibits picornavirus uncoating), acyclovir (inhibits herpesvirus replication), and oseltamivir (inhibits influenza release). [9, 15] To save time and money for discovering a new drug, researchers have widely used various computational methods to screen virtual libraries of compounds before the synthesis and animal testing of chemicals. Among the different approaches, quantitative structure-activity relationship (QSAR) is mostly used. [16] [17] [18] In this approach, relationships connecting molecular descriptors and activity are used to predict the property of other molecules. [19] Molecular descriptors transform the chemical information (structure and linking of groups) of a molecule into simple numbers. [20] QSAR-based virtual screening is an effective computational technique leading toward identification and design of novel antiviral agents. [21] Lately, many dedicated bioinformatic resources have been developed for antivirals. For example, in the area of RNA interference resources published are VIRsiRNAdbantiviral siRNAs resource for about 42 disease causing viruses, [22] HIVsirDB-anti HIV siRNAs database, [23] VIRsiRNApred-antiviral siRNA inhibition efficacy predictor, [24] and VIRmiRNA-database of virus encoded miRNAs including antiviral miRNAs. [25] Similarly, for peptide-based antivirals, a few web servers have also been created like AVPdb-collection of antiviral peptides targeting more than 60 medically important viruses, [26] HIPdb-HIV inhibiting peptide repository, [27] and AVPpred-predictor of antiviral activity of peptides. [28] . Many general depositories provide information of antiviral molecules. For example, ChEMBL, [29] PubChem-a database of molecules and their activities, [30] ZINC-database of commercial compounds for virtual screening, [31] and DrugBank-a knowledgebase for drugs and drug targets. [32] In addition, there are a few QSAR studies targeting specific viral proteins. [33] [34] [35] [36] [37] [38] [39] [40] [41] However, till date there is no web server/software, which can regressively predict the percentage inhibition value of a compound against different human viruses under a single platform.To cater this need, we developed AVCpred, a web server for prediction and design of antiviral compounds. In this method, we used previously known AVCs against HIV, hepatitis C virus (HCV), hepatitis B virus (HBV), human herpesvirus (HHV) and 26 other viruses with experimentally validated percentage inhibition from ChEMBL, a large-scale bioactivity database for drug discovery. [29] This was followed by descriptor calculation and selection of best performing molecular descriptors. The latter were then used as input for support vector machine (in regression mode) to develop QSAR models for different viruses as well as a general model for other viruses. We have integrated these models in the AVCpred web server, which will be helpful for virtual screening of AVCs and designing new compounds to target the viruses.\\', \\'2_| Datasets\\': \\'In this study, we have used different datasets of AVCs having experimentally verified percent inhibition values against HIV, HCV, HHV, HBV and a general dataset having AVCs against 26 human viruses. The data were obtained from the ChEMBL resource (https://www.ebi.ac.uk/chembl/). The desired data were fetched using target browser (taxonomy tree) as well as target search using keywords such as HIV, HCV, HBV, HHV, virus, viral, viruses. Initially, among the AVCs, the majority of data belonged to HIV (1383 compounds), HCV (803 compounds), HHV (473 compounds), HBV (416 compounds), and other viruses (1635 compounds). After filtering entries with desired information and removing redundant entries, we were left with 389 compounds for HIV, 467 in case of HCV, 124 for HHV, 112 against HBV, and 1391 AVCs targeting the 26 viruses (Table 1 and Table  S1 ). These datasets were used for descriptor selection and model development. The datasets are available along with references on the web server and can be downloaded from this URL: http://crdd.osdd.net/servers/avcpred/datasets.php.\\', \\'3_| Descriptor calculation\\': \\'To develop virus specific as well as general QSAR models, we computed about 18000 chemical descriptors (1D, 2D, and 3D), including geometric, constitutional, electrostatic, topological, hydrophobic, binary fingerprints, using PaDEL, an open-source software to calculate molecular descriptors and fingerprints. [42] T A B L E 1 Creation of datasets for the development of prediction models S. no.\\', \\'4_Virus Overall data\\': \\'Data filter a Percent inhibition [1] Reference [2] Non-redundant [ The general dataset is comprised of below viruses with unique number of AVCs in brackets: Dengue virus 1, [1] dengue virus 2, [16] enterovirus, [30] human adenovirus 5, [41] human cox B1, [4] human cox B5, [21] human echovirus 13, [3] human echovirus 9, [2] human enterovirus 71, [19] human enterovirus C, [1] human polio virus 1, [4] human rhinovirus, [1] human rhinovirus 14, [29] human rhinovirus 1B, [18] human rhinovirus 2, [2] human T lymphotropic virus, [42] influenza A, [36] influenza A (H1N1), [16] influenza B, [1] monkeypox virus, [1] respiratory syncytial virus, [4] Rift Valley fever virus (Cercopithecidae), [1] sandfly fever Sicilian virus, [2] SARS coronavirus, [23] simian virus 40, [45] Sindbis virus, [4] vaccinia virus, [12] vaccinia virus WR, [22] variola virus, [1] vesicular stomatitis virus, [63] West Nile virus, [17] yellow fever virus. [51] \\', \\'5_| Feature selection\\': \"To improve the speed of calculation, we selected the most essential descriptors using \\'RemoveUseless\\' filter followed by ClassifierSubsetEval (attribute evaluator) with BestFirst (search method) module available in Weka package. [43] ClassifierSubsetEval evaluates attribute subsets on training/ testing data using a classifier to estimate the merit of a set of attributes. [44, 45] The selected descriptors were then used to develop the QSAR models (Table S3 ).\", \\'6_| Machine learning\\': \\'We developed individual QSAR models for each of the 4 viruses (HIV, HCV, HHV, and HBV) as well as a general model comprising 26 different viruses using SMOreg algorithm [46] in Weka machine learning software [43] freely available at http://www.cs.waikato.ac.nz/ml/weka. SMOreg implements the support vector machine in regression mode. In SMOreg, Pearson VII function-based universal kernel (Puk) and RegSMOImproved optimizer were used along with parameters such as (i) the regularization constant/complexity value (c) that allows trade-off between training error and margin, (ii) the omega exponent value (ω) that controls peak half-width, and (iii) the sigma bandwidth value (σ) that controls peak tailing factor. [47, 48] Simultaneously, software SVM light (freely available at http://svmlight.joachims.org) was employed for machine learning in classification mode. In SVM light , radial basis function (RBF) kernel was used with parameters (i) gamma (g) that defines how far the influence of a single training example reaches and (ii) complexity constant (c) that allows trade-off amid training error and margin. [49] Selected molecular descriptors and fingerprints were used as input features for the development of QSAR models.\\', \\'7_| Evaluation\\': \"In order to evaluate performance of our models, we employed a number of statistical parameters including Pearson\\'s correlation coefficient, coefficient of determination, mean absolute error root-mean-square error, sensitivity, specificity, accuracy, and Mathew\\'s correlation coefficient as briefly described below. The Pearson\\'s correlation coefficient (R) is a measure of correlation between two variables.where n is the size of test set, and E i pred and E i act is the predicted and actual efficacy of AVCs respectively. A value of 1 denotes total positive correlation, 0 is no correlation, and −1 is total negative correlation.The coefficient of determination (R 2 ) indicates how well data fit a statistical model. An R 2 of 1 indicates that the model perfectly fits the data, while an R 2 of 0 means that the model does not fit the data at all.The mean absolute error (MAE) measure indicates how close the predictions are to the eventual outcomes.where E i pred is the prediction, E i act the true value, andMAEs are negatively oriented scores; that is, lower values are better.The root-mean-square error (RMSE) measures the average magnitude of the error.RMSEs are also negatively oriented scores; that is, lower values are better. Sensitivity (Sn) or the true positive rate measures the percentage of correctly identified positives.An ideal predictor would be expressed as 100% sensitive. Specificity (Sp) or the true negative rate measures the percentage of correctly identified negatives An ideal predictor would be expressed as 100% specific. Accuracy (Ac) is the percentage of correct results (i.e. both true positives and true negatives) among the total number of cases.An ideal predictor would be expressed as 100% accurate. The Matthew\\'s correlation coefficient (MCC) is used in machine learning to evaluate the performance of binary classifications. \", \\'8_| 77\\': \\'Qureshi et al.In the above Eqs. (4-7) , TP, FP, TN, and FN represent the true positives, false positives, true negatives, and false negatives respectively.Its value ranges from −1 to 1 and a value close to 1 means a better prediction.\\', \\'9_| Performance of QSAR models\\': \\'In order to identify the most effective features or descriptors of antiviral drugs, we computed the correlation between selected chemical features of antiviral drugs and their percent inhibition using comprehensive pharmacological screening datasets from ChEMBL [29] (Figure 1) .After attribute selection, the relevant descriptors were 45 for HIV, 52 for HCV, 15 for HBV, 20 for HHV, and 65 for rest of the viruses. A combination of selected chemical descriptors like partial charge, atom-type electrotopological state, extended topochemical atom, chi cluster, weighted path, and fingerprints based on substructure, graph, path, and extended features including PubChem and Klekota-Roth were found to be useful in prediction. The selected descriptors were then used to develop the QSAR models (Table S3) (Table 2 ). Other statistical parameters used in the development of QSAR models are depicted in Table S2 . A scatter plot between actual and predicted efficacy in each case is shown in Figure 2 .In addition, we also checked the performance of our models developed using classification mode of machine learning. The general dataset is comprised of below viruses with unique number of AVCs in brackets: Dengue virus 1, [1] dengue virus 2, [16] enterovirus, [30] human adenovirus 5, [41] human cox B1, [4] human cox B5, [21] human echovirus 13, [3] human echovirus 9, [2] human enterovirus 71, [19] human enterovirus C, [1] human polio virus 1, [4] human rhinovirus, [1] human rhinovirus 14, [29] human rhinovirus 1B, [18] human rhinovirus 2, [2] human T lymphotropic virus, [42] influenza A, [36] influenza A (H1N1), [16] influenza B, [1] monkeypox virus, [1] respiratory syncytial virus, [4] Rift Valley fever virus (Cercopithecidae), [1] sandfly fever Sicilian virus, [2] SARS coronavirus, [23] simian virus 40, [45] Sindbis virus, [4] vaccinia virus, [12] vaccinia virus WR, [22] variola virus, [1] vesicular stomatitis virus, [63] West Nile virus, [17] yellow fever virus. [51] (ROC) plots illustrating the performance of the QSAR models are shown in Figure 3 .\\', \\'10_| Web server\\': \"The QSAR models have been integrated into a freely available and easy to use web server, \\'AVCpred\\', where users can predict the antiviral potential of their query molecules against the different viruses in terms of percent inhibition value. AVCpred web server includes the following modules:\", \\'11_| Submission\\': \\'This allows users to submit on or more molecules at a time.Users have to choose the viruses on which they want to test their query chemical compounds. On submission, it returns with percent inhibition values against the selected viruses. Also users can view the different properties of the query molecule such as structure, charge, molecular weight, logP value, hydrogen and Lipinski bond donors/acceptors, rigid and rotatable bonds to identify drug-like molecular structures ( Figure 4) . Abbreviations: Puk: Pearson VII function-based universal kernel. RegSMOImproved: optimizer for algorithm speed improvement. c: regularization constant/complexity parameter allows trade-off between training error and margin. ω: omega exponent value (controls half-width of the peak) σ: sigma bandwidth value (controls tailing factor of the peak). RBF: radial basis function g: parameter gamma in RBF kernel.\\', \\'12_| Design analogs\\': \"It has been found that analogs of known chemical compounds are sometimes more effective than the parent molecule. [50] In order to identify potent analogs of an existing AVC, we have included the \\'Design analogs\\' tool, where user can design analogs based on given building blocks and predict their inhibition on the viruses.\", \\'13_| Draw structure\\': \"Using the \\'Draw tool\\', one can sketch the structure of the query molecule using Marvin editor ( Figure 5 ). This tool also gives the predicted percent inhibition values against the different viruses. In addition, one can view the various properties of the query structure.\", \\'14_| Search\\': \\'AVCpred also provides the users a search tool to browse the compounds used in our datasets. In this module, different compounds targeting the viruses are stored in a database. The records can be readily searched, filtered/sorted, and downloaded via the web interface.\\', \\'15_| Implementation\\': \\'AVCpred has been developed using the open-source LAMP (Linux-Apache-MySQL-PHP) system. The prediction software runs on Red Hat Enterprise Linux 5 environment using Apache httpd server.\\', \\'16_| DISCUSSION\\': \\'To inhibit viral growth, the antiviral molecules or drugs target different phases of viral life cycle such as fusion, integration, replication, maturation and should be relatively non-toxic to the host organism. [51, 52] Each stage can be targeted using AVCs that can, for example, inhibit entry receptors (CD4, CCR5) or viral enzymes (protease, neuraminidase). [53] [54] [55] F I G U R E 4 AVCpred submission form with output\\', \\'17_| 81\\': \"Qureshi et al.Various AVCs are currently in medical use, and new ones are in clinical trials. [56, 57] Finding new and improved viral inhibitors is a major concern in the treatment of deadly human viruses. [58, 59] However, discovery of novel AVCs is a tedious process. [60] To speed up the identification of new AVCs, a computational approach using QSAR method is a rational strategy to decrease cost and time efforts in the wet laboratory. [20] QSAR techniques have been widely used in drug designing and further identification of lead molecules. [17] Although there are many QSAR studies pertaining to different types of viral protein inhibitors, they are very specific in their approach and deal with a particular class of inhibitors such as endonuclease inhibitors [33] in which 40 compounds were used and reached a correlation of 0.76, thiourea derivatives [34] where 85 compounds had a correlation of 0.92, protease inhibitors [39] in which 170 compounds had a correlation of 0.60-0.83, and flavonoid inhibitors [38] where 20 compounds had a correlation of 0.75-0.97 etc. (Table 5 ). In most of the cases, the studies are carried out on a limited number of inhibitors. Due to this reason, they predict the inhibitors that are similar to the compound type with a high correlation, but do not work on other dissimilar inhibitors for the same target virus. To address these limitations, AVCpred models have been developed using diverse and large number of inhibitors. In the current algorithm, we have employed antiviral compound datasets from different studies due to which the overall correlation is less than above studies, yet the models are comparatively more robust to predict different classes of inhibitors. However, as new high-throughput screening data tested under homogeneous conditions on antiviral drugs becomes available, performance of the QSAR method can be improved.In this study, we developed virus specific as well as general prediction models to identify the likelihood of a compound being antiviral using selected chemical attributes of experimentally validated AVCs. PaDEL, an open-source software, was used to calculate molecular descriptors and fingerprints. However, the software calculates a large number of descriptors, and hence, we used attribute selection approach to reduce their number by eliminating unrelated and extraneous descriptors to get a highly correlated descriptor set. Our analysis revealed that several chemical descriptors are important in predicting the compound inhibition activity, for example, partial charge, atom-type electrotopological state, extended topochemical atom, chi cluster, weighted path, and fingerprints.We employed machine learning to train the QSAR models on different sets of experimentally validated data. These models were validated on independent datasets, not used during training, and were found to have satisfactory performance. We used the pharmacological data from the ChEMBL resource for training/testing the models developed for general as well as specific viruses. These models were integrated in an open-source web server for evaluation and screening of antiviral compounds.The applicability domain of the QSAR models was demonstrated using Williams plot ( Figure 6 ) in which [40] 9Thymidine kinase N2-phenylguanine inhibitors 20 0.85-0.98 HSV No 2000 [41] F I G U R E 5 Web interface of \\'AVCpred Draw\\' tool standardized residuals are plotted against leverages. [61] If the standardized residual of a compound is greater than three times standard deviation units (±3σ), the compound is treated as an outlier. The warning value of leverage (h*) is considered as 3p/n, where p is the number of model descriptors plus one and n is the number of training compounds. [62, 63] If the leverage of a compound exceeds h*, it is regarded as dissident. The plots demonstrate that the leverages of majority of the compounds do not surpass the critical value (h*) in the regression models, and hence, the compounds are within the chemical domain, implying that the predictivity of the models is reliable. The web server also provides useful services like designing analogs based on given building blocks and drawing structure to sketch novel compounds and predict their inhibition potential against multiple viruses. The AVCpred algorithm is hoped to assist the researchers in discovering novel antiviral compounds as well as virtually check the effect of modifications on existing drugs.\", \\'18_| CONCLUSIONS\\': \\'AVCpred is the first web-based algorithm for prediction of AVCs based on experimentally validated datasets. Five prediction models pertaining to HIV, HCV, HHV, HBV, and a general one were implemented in the web server to make comprehensive predictions. In addition, tools for drug design, virtual screening, and collection of existing AVCs have also been integrated. This web server would be helpful for researchers working for the development of antiviral therapeutics.\\', \\'19_ACKNOWLEDGMENTS\\': \\'Authors are thankful to Council of Scientific and Industrial Research (CSIR) (GENESIS-BSC0121), Department of Biotechnology (GAP001), and CSIR-Institute of Microbial Technology for providing infrastructure and financial support. \\'}'}"
      ]
     },
     "execution_count": 117,
     "metadata": {},
     "output_type": "execute_result"
    }
   ],
   "source": [
    "json.loads(json.dumps(sm_sm_df.loc[5].to_dict()))"
   ]
  },
  {
   "cell_type": "markdown",
   "metadata": {},
   "source": [
    "### Json Write"
   ]
  },
  {
   "cell_type": "code",
   "execution_count": 115,
   "metadata": {},
   "outputs": [],
   "source": [
    "with open(\"test_sm_sm_json_line.txt\", 'w') as f:\n",
    "    for i in sm_sm_df.index:\n",
    "        json_content=json.dumps(sm_sm_df.loc[i].to_dict())\n",
    "        f.write(json_content)\n",
    "        f.write(\"\\n\")"
   ]
  },
  {
   "cell_type": "markdown",
   "metadata": {},
   "source": [
    "### Json load"
   ]
  },
  {
   "cell_type": "code",
   "execution_count": 118,
   "metadata": {},
   "outputs": [
    {
     "name": "stdout",
     "output_type": "stream",
     "text": [
      "yes\n",
      "yes\n",
      "yes\n",
      "yes\n",
      "yes\n",
      "yes\n",
      "yes\n",
      "yes\n",
      "yes\n",
      "yes\n",
      "yes\n"
     ]
    }
   ],
   "source": [
    "with open(\"test_sm_sm_json_line.txt\", 'r') as f:\n",
    "    for line in f:\n",
    "        try: #print(line)\n",
    "            json.loads(line)\n",
    "            print(\"yes\")\n",
    "        except:\n",
    "            #print(line)\n",
    "            print(\"no\")"
   ]
  },
  {
   "cell_type": "markdown",
   "metadata": {},
   "source": [
    "## Try different seperator: Failed"
   ]
  },
  {
   "cell_type": "code",
   "execution_count": 120,
   "metadata": {},
   "outputs": [
    {
     "data": {
      "text/plain": [
       "0    {'0_Introduction': 'Within the last two decade...\n",
       "1    {'0_': '1. viral: type B viral hepatitis (Kenn...\n",
       "2    {'0_Introduction': \"Malaria is a mosquito-born...\n",
       "3    {'0_Introduction': 'Nearly 3 million confirmed...\n",
       "4    {'0_': 'ziektegeschiedenis Patiënt A, een 29-j...\n",
       "Name: text_dict, dtype: object"
      ]
     },
     "execution_count": 120,
     "metadata": {},
     "output_type": "execute_result"
    }
   ],
   "source": [
    "sm_df.text_dict.head()"
   ]
  },
  {
   "cell_type": "code",
   "execution_count": 121,
   "metadata": {},
   "outputs": [
    {
     "data": {
      "text/html": [
       "<div>\n",
       "<style scoped>\n",
       "    .dataframe tbody tr th:only-of-type {\n",
       "        vertical-align: middle;\n",
       "    }\n",
       "\n",
       "    .dataframe tbody tr th {\n",
       "        vertical-align: top;\n",
       "    }\n",
       "\n",
       "    .dataframe thead th {\n",
       "        text-align: right;\n",
       "    }\n",
       "</style>\n",
       "<table border=\"1\" class=\"dataframe\">\n",
       "  <thead>\n",
       "    <tr style=\"text-align: right;\">\n",
       "      <th></th>\n",
       "      <th>paper_id</th>\n",
       "      <th>text_dict</th>\n",
       "    </tr>\n",
       "  </thead>\n",
       "  <tbody>\n",
       "    <tr>\n",
       "      <th>0</th>\n",
       "      <td>0ae02f293c03e3e1a2d4582e62c22f2c0c291f48</td>\n",
       "      <td>{'0_Introduction': 'Within the last two decade...</td>\n",
       "    </tr>\n",
       "    <tr>\n",
       "      <th>1</th>\n",
       "      <td>640de65e9f09545c463bc419bffb7084fc40fae5</td>\n",
       "      <td>{'0_': '1. viral: type B viral hepatitis (Kenn...</td>\n",
       "    </tr>\n",
       "    <tr>\n",
       "      <th>2</th>\n",
       "      <td>5da136317f5b97ed8371d5121d8828f1c9a5372d</td>\n",
       "      <td>{'0_Introduction': \"Malaria is a mosquito-born...</td>\n",
       "    </tr>\n",
       "    <tr>\n",
       "      <th>3</th>\n",
       "      <td>f9ae3db6ac88670b3f47b815bb7422a75f6d47c8</td>\n",
       "      <td>{'0_Introduction': 'Nearly 3 million confirmed...</td>\n",
       "    </tr>\n",
       "    <tr>\n",
       "      <th>4</th>\n",
       "      <td>a8676c57d7e3a52378b9e554cc0886ad91999e13</td>\n",
       "      <td>{'0_': 'ziektegeschiedenis Patiënt A, een 29-j...</td>\n",
       "    </tr>\n",
       "  </tbody>\n",
       "</table>\n",
       "</div>"
      ],
      "text/plain": [
       "                                   paper_id  \\\n",
       "0  0ae02f293c03e3e1a2d4582e62c22f2c0c291f48   \n",
       "1  640de65e9f09545c463bc419bffb7084fc40fae5   \n",
       "2  5da136317f5b97ed8371d5121d8828f1c9a5372d   \n",
       "3  f9ae3db6ac88670b3f47b815bb7422a75f6d47c8   \n",
       "4  a8676c57d7e3a52378b9e554cc0886ad91999e13   \n",
       "\n",
       "                                           text_dict  \n",
       "0  {'0_Introduction': 'Within the last two decade...  \n",
       "1  {'0_': '1. viral: type B viral hepatitis (Kenn...  \n",
       "2  {'0_Introduction': \"Malaria is a mosquito-born...  \n",
       "3  {'0_Introduction': 'Nearly 3 million confirmed...  \n",
       "4  {'0_': 'ziektegeschiedenis Patiënt A, een 29-j...  "
      ]
     },
     "execution_count": 121,
     "metadata": {},
     "output_type": "execute_result"
    }
   ],
   "source": [
    "sm_df.head()"
   ]
  },
  {
   "cell_type": "code",
   "execution_count": 122,
   "metadata": {},
   "outputs": [],
   "source": [
    "sm_sm_df=sm_df.loc[0:10].copy()"
   ]
  },
  {
   "cell_type": "code",
   "execution_count": 123,
   "metadata": {},
   "outputs": [],
   "source": [
    "sm_sm_df.to_csv(\"sm_sm_df.csv\",sep='`', index=False, header=False)"
   ]
  },
  {
   "cell_type": "code",
   "execution_count": 125,
   "metadata": {},
   "outputs": [
    {
     "ename": "SyntaxError",
     "evalue": "unexpected EOF while parsing (<ipython-input-125-8f0ab546acd7>, line 8)",
     "output_type": "error",
     "traceback": [
      "\u001b[0;36m  File \u001b[0;32m\"<ipython-input-125-8f0ab546acd7>\"\u001b[0;36m, line \u001b[0;32m8\u001b[0m\n\u001b[0;31m    #print(text_dict.keys())\u001b[0m\n\u001b[0m                            ^\u001b[0m\n\u001b[0;31mSyntaxError\u001b[0m\u001b[0;31m:\u001b[0m unexpected EOF while parsing\n"
     ]
    }
   ],
   "source": [
    "with open(\"sm_sm_df.csv\", 'r') as file:\n",
    "    for line in file:\n",
    "        paper_id,text_dict=line.split('`',2)\n",
    "        #sm_dict=json.loads(text_dict)\n",
    "        #print(text_dict[1:-2])\n",
    "        eval(str(text_dict)\n",
    "        #dict(text_dict)\n",
    "        #print(text_dict.keys())"
   ]
  },
  {
   "cell_type": "markdown",
   "metadata": {},
   "source": [
    "## Test sm"
   ]
  },
  {
   "cell_type": "code",
   "execution_count": null,
   "metadata": {},
   "outputs": [],
   "source": [
    "sm_ap_dataframe[[\"paper_id\",\"text_dict\"]].to_csv(\"sm_appended_df.csv\",sep='`', index=False, header=False)"
   ]
  },
  {
   "cell_type": "code",
   "execution_count": 32,
   "metadata": {},
   "outputs": [],
   "source": [
    "#sm_ap_dataframe[[\"paper_id\",\"text_dict\"]].to_csv(\"sm_appended_df.csv\",sep='`', index=False, header=False)"
   ]
  },
  {
   "cell_type": "code",
   "execution_count": 26,
   "metadata": {},
   "outputs": [
    {
     "data": {
      "text/html": [
       "<div>\n",
       "<style scoped>\n",
       "    .dataframe tbody tr th:only-of-type {\n",
       "        vertical-align: middle;\n",
       "    }\n",
       "\n",
       "    .dataframe tbody tr th {\n",
       "        vertical-align: top;\n",
       "    }\n",
       "\n",
       "    .dataframe thead th {\n",
       "        text-align: right;\n",
       "    }\n",
       "</style>\n",
       "<table border=\"1\" class=\"dataframe\">\n",
       "  <thead>\n",
       "    <tr style=\"text-align: right;\">\n",
       "      <th></th>\n",
       "      <th>0</th>\n",
       "      <th>1</th>\n",
       "    </tr>\n",
       "  </thead>\n",
       "  <tbody>\n",
       "    <tr>\n",
       "      <th>0</th>\n",
       "      <td>0ae02f293c03e3e1a2d4582e62c22f2c0c291f48</td>\n",
       "      <td>{'0_Introduction': 'Within the last two decade...</td>\n",
       "    </tr>\n",
       "    <tr>\n",
       "      <th>1</th>\n",
       "      <td>640de65e9f09545c463bc419bffb7084fc40fae5</td>\n",
       "      <td>{'0_': '1. viral: type B viral hepatitis (Kenn...</td>\n",
       "    </tr>\n",
       "    <tr>\n",
       "      <th>2</th>\n",
       "      <td>5da136317f5b97ed8371d5121d8828f1c9a5372d</td>\n",
       "      <td>{'0_Introduction': \"Malaria is a mosquito-born...</td>\n",
       "    </tr>\n",
       "    <tr>\n",
       "      <th>3</th>\n",
       "      <td>f9ae3db6ac88670b3f47b815bb7422a75f6d47c8</td>\n",
       "      <td>{'0_Introduction': 'Nearly 3 million confirmed...</td>\n",
       "    </tr>\n",
       "    <tr>\n",
       "      <th>4</th>\n",
       "      <td>a8676c57d7e3a52378b9e554cc0886ad91999e13</td>\n",
       "      <td>{'0_': 'ziektegeschiedenis Patiënt A, een 29-j...</td>\n",
       "    </tr>\n",
       "    <tr>\n",
       "      <th>...</th>\n",
       "      <td>...</td>\n",
       "      <td>...</td>\n",
       "    </tr>\n",
       "    <tr>\n",
       "      <th>51863</th>\n",
       "      <td>7ed6060dd9d540cbf92b794305429695efb775ce</td>\n",
       "      <td>{'0_': \"The outbreak and spread of coronavirus...</td>\n",
       "    </tr>\n",
       "    <tr>\n",
       "      <th>51864</th>\n",
       "      <td>2a35742783198a179b36b29a45fb3a7a28663026</td>\n",
       "      <td>{'0_': 'Cats have the ability to control postu...</td>\n",
       "    </tr>\n",
       "    <tr>\n",
       "      <th>51865</th>\n",
       "      <td>d119b09f850ebbfd1fef16f22c8eec38adcc684c</td>\n",
       "      <td>{'0_| INTRODUCTION': 'In recent years, with th...</td>\n",
       "    </tr>\n",
       "    <tr>\n",
       "      <th>51866</th>\n",
       "      <td>8624ce91f316d2aae5c09273f9308cc08ffcc25c</td>\n",
       "      <td>{'0_Introduction, methods, and results': 'Porc...</td>\n",
       "    </tr>\n",
       "    <tr>\n",
       "      <th>51867</th>\n",
       "      <td>e2445316a3475f25e869fa303d9ec90f8739d40f</td>\n",
       "      <td>{'0_': 'ular modeling tools and experimental c...</td>\n",
       "    </tr>\n",
       "  </tbody>\n",
       "</table>\n",
       "<p>51868 rows × 2 columns</p>\n",
       "</div>"
      ],
      "text/plain": [
       "                                              0  \\\n",
       "0      0ae02f293c03e3e1a2d4582e62c22f2c0c291f48   \n",
       "1      640de65e9f09545c463bc419bffb7084fc40fae5   \n",
       "2      5da136317f5b97ed8371d5121d8828f1c9a5372d   \n",
       "3      f9ae3db6ac88670b3f47b815bb7422a75f6d47c8   \n",
       "4      a8676c57d7e3a52378b9e554cc0886ad91999e13   \n",
       "...                                         ...   \n",
       "51863  7ed6060dd9d540cbf92b794305429695efb775ce   \n",
       "51864  2a35742783198a179b36b29a45fb3a7a28663026   \n",
       "51865  d119b09f850ebbfd1fef16f22c8eec38adcc684c   \n",
       "51866  8624ce91f316d2aae5c09273f9308cc08ffcc25c   \n",
       "51867  e2445316a3475f25e869fa303d9ec90f8739d40f   \n",
       "\n",
       "                                                       1  \n",
       "0      {'0_Introduction': 'Within the last two decade...  \n",
       "1      {'0_': '1. viral: type B viral hepatitis (Kenn...  \n",
       "2      {'0_Introduction': \"Malaria is a mosquito-born...  \n",
       "3      {'0_Introduction': 'Nearly 3 million confirmed...  \n",
       "4      {'0_': 'ziektegeschiedenis Patiënt A, een 29-j...  \n",
       "...                                                  ...  \n",
       "51863  {'0_': \"The outbreak and spread of coronavirus...  \n",
       "51864  {'0_': 'Cats have the ability to control postu...  \n",
       "51865  {'0_| INTRODUCTION': 'In recent years, with th...  \n",
       "51866  {'0_Introduction, methods, and results': 'Porc...  \n",
       "51867  {'0_': 'ular modeling tools and experimental c...  \n",
       "\n",
       "[51868 rows x 2 columns]"
      ]
     },
     "execution_count": 26,
     "metadata": {},
     "output_type": "execute_result"
    }
   ],
   "source": [
    "pd.read_csv(\"sm_appended_df.csv\",sep='`',header=None)"
   ]
  },
  {
   "cell_type": "code",
   "execution_count": 30,
   "metadata": {},
   "outputs": [
    {
     "data": {
      "text/plain": [
       "{'0_Introduction': 'Within the last two decades, there have been several introductions of zoonotic pathogens into the human population. Specifically, two novel coronaviruses (CoV), Severe Acute Respiratory Syndrome-CoV (SARS-CoV) and Middle East Respiratory Syndrome-CoV (MERS-CoV) caused significant concern because they crossed the species barrier and caused severe disease. While SARS-CoV originated in Asia and spread rapidly to several countries throughout the world, MERS-CoV has largely been restricted to infections acquired in the Middle East. Both viruses are associated with spread from person to person and a high casefatality rate, thus the development of animal models for evaluation of anti-viral therapies and vaccines has been a high priority.SARS-CoV emerged in the Guangdong province of southern China in November, 2002 (Severe acute respiratory syndrome (SARS), 2003) . Retrospective analysis identified 11 cases between November 2002 and March 2003. Of these, 7 had documented contact with wild animals (Chinese SMEC, 2004; Zhong et al., 2003; Peiris et al., 2003) . In February, 2003 an infected person traveled to Hong Kong and stayed at Hotel M (Tsang et al., 2003) . At the hotel, he spread the virus to several visitors who returned to their home countries (Canada, Ireland, the United States, Vietnam and Singapore) starting the global SARS-CoV epidemic (Peiris et al., 2003; Tsang et al., 2003; Poutanen et al., 2003; Ruan et al., 2003; Ksiazek et al., 2003) . In total, 8437 SARS-CoV cases with 813 fatalities were reported (WHO, 2003a (WHO, , 2003b . As a result of a coordinated public health effort involving screening, isolation, contact tracing and quarantine efforts, the human chain of transmission of SARS-CoV was broken (WHO, 2003a; Booth et al., 2003; Chan et al., 2003; Donnelly et al., 2003; Karlberg et al., 2004) . Since the end of the outbreak, there have been a few incidents of laboratory-acquired SARS-CoV infections (Normile and Vogel, 2003; Normile, 2004; Liang et al., 2004) , and over two weeks in December 2003 to January 2004, 4 individuals in Guangzhou, China became infected with SARS-CoV. None of these patients died from infection and the virus was not transmitted to contacts (Liang et al., 2004) . Since early 2004, SARS-CoV has not re-emerged and no new community-acquired infections have been reported. However, closely related coronaviruses have been identified in bats and at least one bat virus is able to bind the human receptor and infect human cells (Ge et al., 2013; Lau et al., 2005) .In contrast, the MERS-CoV outbreak is on-going. MERS-CoV was initially isolated from a severely ill patient in Jeddah, Saudi Arabia, in June of 2012 Bermingham et al., 2012) . Since then, there have been continued reports of new infections in geographically distinct regions suggesting separate zoonotic introductions (WHO, 2014) . Secondary transmission to health-care workers and family members has also been reported, and the WHO estimates that up to 75% of cases represent secondary infections (Al-Tawfiq and Memish, 2014) . As of early December 2014, 955 laboratory confirmed cases of MERS-CoV infection and 386 deaths have been reported (ECDC, 2014) MERS-CoV infections have been reported in at least 9 countries in the Middle East including Saudi Arabia, United Arab Emirates (UAE), Qatar, Oman, Jordan, Kuwait, Yemen, Lebanon, and Iran, and there have been isolated incidents of infected travelers returning to countries in Europe, South East Asia, and the United States (Reusken et al., 2013a (Reusken et al., , 2013b Meyer et al., 2014; Nowotny and Kolodziejek, 2014; Alagaili et al., 2014; Hemida et al., 2013; Haagmans et al., 2014; Memish et al., 2014; Azhar et al., 2014; Adney et al., 2014) .Both SARS-CoV and MERS-CoV belong to the order Nidovirales, family Coronavirus. They are both betacoronaviruses and belong to lineages B and C (Severe acute respiratory syndrome (SARS), 2003; Lau et al., 2005; Zaki et al., 2012) . As members of the Coronaviridae family, both viruses have a host cell derived lipid envelope and contain a non-segmented positive-stranded RNA genome (Masters and Perlman, 2013; van Boheemen et al., 2012) . The viral genome encodes a series of nested subgenomic RNAs that express multiple gene products. Coronaviruses attach and enter cells via interactions of the Spike (S) protein with cell surface receptors. For SARS-CoV, human Angiotensin-converting enzyme 2 (ACE2) and CD209L were identified as cellular receptors Jeffers et al., 2004) ; ACE2 is the predominant receptor as CD209L has a much lower affinity for the S protein (Jeffers et al., 2004) . The cell surface receptor for MERS-CoV is human dipeptidy peptidase 4 (hDPP4), also known as CD26 . For both SARS and MERS-CoV, the S protein host-receptor interaction is considered a major determinant of host restriction (Masters and Perlman, 2013) .Both viruses are closely related to coronaviruses identified in bats: bat-SARS-CoV from Chinese horseshoe bats and SARS-CoV (Lau et al., 2005) , and HKU4, HKU5 and MERS-CoV (Lau et al., 2005; Zaki et al., 2012) . While bats may be the primary reservoir for MERS-CoV, surveillance studies found high rates of seropositivity in dromedary camels from several Middle Eastern countries (Reusken et al., 2013a (Reusken et al., , 2013b Meyer et al., 2014; Nowotny and Kolodziejek, 2014; Alagaili et al., 2014; Hemida et al., 2013) indicating that camels play a role as a reservoir. This was strengthened by studies that identified MERS-CoV RNA in nasal swabs from 3 camels on a farm associated with 2 human cases (Haagmans et al., 2014) , and additional studies in which a camel isolate was directly linked to a fatal human case in Saudi Arabia Azhar et al., 2014) . Furthermore, experimental infection of dromedary camels demonstrated that they could be productively infected and shed high titers of virus in their nasal secretions (Adney et al., 2014) . However, the relative role of camels and bats as reservoirs for MERS-CoV remains to be determined. Under the FDA\\'s Animal Efficacy Rule (\"Animal Rule\") therapeutics against rare, emerging, or virulent agents can achieve regulatory approval provided efficacy is demonstrated in two animal models (one of which must be a non-rodent species). Animal species of interest must first be evaluated for permissiveness to viral replication and presentation of clinical disease. As an alternative, in animal species that are permissive but do not show clinical disease, serial passage can be performed. After an animal model has been developed the resulting disease must be characterized. The ideal animal model is permissive to infection and reproduces the clinical illness and pathology observed in humans.',\n",
       " '1_Inoculate Species of Interest': 'For SARS-CoV, several animal species were evaluated as models of human disease and while most laboratory animals including mice, hamsters, ferrets and non-human primates could be productively infected , few species displayed overt clinical disease. Following serial adaptation of SARS-CoV in mice (Roberts et al., 2007) and the engineering of transgenic mice to express human ACE2 (McCray et al., 2007; Yang et al., 2007) , this obstacle was partially overcome. The development of these murine models enabled efficacy studies of anti-viral agents and several vaccines against SARS-CoV (Hilgenfeld and Peiris, 2013; Graham et al., 2013) . In contrast, several animal species have been evaluated for MERS-CoV but with the exception of some primate species, most animals are resistant to infection. Herein, we describe the animal models for both SARS and MERS-CoV with a focus on the role of the host receptor. We conclude by discussing other approaches that could be used to develop animal models of MERS-CoV.',\n",
       " '2_Strategies for the development of animal models of infectious diseases': 'Animal models of infectious diseases serve two key purposes: 1) to characterize viral pathogenesis, and 2) to evaluate anti-viral agents and vaccines. In the context of infectious diseases for which it is not feasible or ethical to perform clinical trials, animal studies play an additional role. Under the FDA\\'s Animal Efficacy Rule (\"Animal Rule\") therapeutics against rare, emerging, or virulent agents can achieve regulatory approval provided efficacy is demonstrated in two animal models (one of which must be a non-rodent species) that display clinical illness representative of human disease (FDA, 2014) . The ideal animal model is permissive to infection and reproduces the clinical course and pathology observed in humans. An algorithm for the development of animal models is presented in Fig. 1 . Small animal models offer several advantages over NHPs including availability of animals and species specific reagents, ease of handling, reduced cost, and the ability to use sufficient numbers for statistical analysis. Especially with coronaviruses, rodents vary in susceptibility and may be semi-permissive to infection and refractory to clinical disease , even so, they can be used to screen countermeasures Bisht et al., 2004; Buchholz et al., 2004; . Thus, to generate a rodent model that displays clinical disease it may be necessary to adapt the virus to enhance virulence for the rodent host or generate transgenic animals. Pathogenesis in these models should be fully characterized because the disease mechanism of an adapted virus or in a transgenic animal may be different from that in the natural host ( Fig. 1) .As NHPs are closely related to humans, they are invaluable as animal models. Since studies in NHP incur significant expense, most investigators choose to screen therapies in small animal models and then perform more limited primate studies. It is important to note that there are several species and subspecies of NHP that can result in significant variation in the level of viral replication and clinical disease. Thus, several species must often be evaluated to yield a suitable animal model. Collectively, the development of animal models in both rodents and NHP has been fundamental to the study of infectious diseases and has lead to the development of countermeasures against several zoonotic pathogens.',\n",
       " '3_Mouse models': 'Several inbred mouse strains have been evaluated as models for SARS-CoV infection Glass et al., 2004; Hogan et al., 2004; Wentworth et al., 2004) . Initial studies in 4-6 week old BALB/c mice demonstrated that virus doses of 10 3 and 10 5 median tissue culture infectious doses (TCID 50 ) of the Urbani strain given intranasally resulted in a productive infection with peak titers on day 3 and resolution by day 7. Mice did not lose weight, display signs of clinical disease or develop pulmonary pathology. Studies in C57BL/6 (B6) mice yielded similar results, with a lack of clinical disease and clearance of virus by day 9. Knockout mice on the B6 background including beige and CD1 À / À strains that lack NK cell function and NK-T cells, respectively, and RAG1 À / À mice that lack T and B lymphocytes also did not develop clinical disease. Viral kinetics were similar in B6, beige, CD1 À / À mice, and RAG1 À / À mice (Glass et al., 2004) . Similarly, 129SvEv mice displayed peak viral replication on day 3 with clearance by day 8 and did not develop clinical illness. Histopathological examination showed evidence of self-limiting bronchiolitis and patchy interstitial pneumonia. In contrast, disease progression was significantly altered in STAT1 À / À mice on the 129SvEv background. STAT1 À / À mice displayed progressive weight loss and bronchiolitis that progressed to interstitial pneumonia and mediastinitis . Viral replication peaked on day 3 and persisted until day 22 post-infection indicating that a type I IFN response is required to control SARS-CoV infection. Although mice showed evidence of infection and lung disease, inbred mouse strains did not accurately reproduce the diffuse alveolar damage, edema, pneumocyte necrosis, and hyaline membrane formation observed in humans (Ding et al., 2003; Franks et al., 2003; Nicholls et al., 2003) .To model the epidemiological finding that advanced age resulted in increased mortality, an aged mouse model of SARS-CoV was developed. In this model, 12-14 month old BALB/c and B6 mice support high levels of viral replication in the lungs from day 2 to 6 with resolution by day 9. Both strains of mice lose weight ( $7-8% on day 5) and aged BALB/c mice displayed ruffled fur and dehydration (Roberts et al., , 2005b . In contrast, aged 129SvEv mice did not support prolonged pulmonary viral replication and cleared the virus by day 5 . Regardless, all aged mouse strains displayed similar histopathological features early during infection (i.e. day 3) including perivascular and peribronchiolar mononuclear infiltrates, necrotic debris in the bronchioles, and foci of interstitial pneumonitis (Roberts et al., , 2005b . On day 5 post-infection, aged BALB/c mice displayed prominent perivascular infiltrates and alveolar damage that persisted until day 9 (Roberts et al., 2005b) . Collectively, the pathological changes observed in the aged mouse model more closely resemble those observed in humans and as a result aged mice have been used more extensively than young mice.To develop a mouse model of SARS-CoV infection with associated mortality, transgenic mice expressing human ACE2 have been generated (McCray et al., 2007; Yang et al., 2007; Netland et al., 2008; Tseng et al., 2007) . In general, disease severity in transgenic mice correlated with the level of hACE2 expression. Transgenic mice expressing hACE2 under the control of a cytokeratine promoter had high levels of ACE2 mRNA in the lung, liver, colon, and kidney (McCray et al., 2007; Netland et al., 2008) . When these mice were challenged with SARS-CoV, they developed a severe infection beginning in the airway epithelium that spread to the brain. Infection resulted in weight loss beginning between days 3 and 5, and 100% mortality by day 7 (McCray et al., 2007; Netland et al., 2008) . Using an alternate approach in which hACE2 was expressed under the control of a chicken beta-actin promoter with an cytomegalovirus IE enhancer, transgenic mouse lines with differing levels of hACE2 were generated (Tseng et al., 2007) . Infection of mice with high levels of hACE2 expression similarly yielded a severe lung and brain infection with 100% mortality. In contrast, infection of mice expressing lower levels of hACE2 resulted in clinical illness without associated mortality (Tseng et al., 2007) . This finding was further supported by a third model in which hACE2 was expressed under the control of the mouse ACE2 promoter resulting in limited tissue distribution of hACE2. When these mice were challenged with SARS-CoV, they became lethargic but survived infection (Yang et al., 2007) . These mice also showed severe interstitial pneumonia with extrapulmonary organ damage suggesting that they more accurately modeled human SARS-CoV infection. However, in all of these studies, an increase in viral load or viral antigen was observed in the brain tissue of transgenic mice, and mortality resulted from extensive dissemination of the virus in the brain (McCray et al., 2007) . This finding is in contrast to human disease in which central nervous system infection was only rarely observed. Thus, while transgenic mice resulted in a lethal model of SARS-CoV infection, no mouse model accurately reproduced the disease spectrum observed in SARS-CoV infected patients.Both wild-type mice and knockout strains have been evaluated as models of MERS-CoV infection (Coleman et al., 2014a) . In these studies, eight week-old BALB/c, 129SvEv, and 129SvEv STAT1 À / À mice were intranasally inoculated with 120 or 1200 TCID 50 of EMC-2012. None of the mice lost weight or developed clinical signs, and all of the mice survived challenge. On days 2 and 4 postinfection, lungs were harvested and viral load was assayed by titration on Vero cells or by qRT-PCR. RT-PCR analysis for genomic RNA indicated that the virus was present on day 2; however, no subgenomic mRNA transcripts, indicative of active replication, were detected and replicating virus could not be cultured from lung homogenates. Furthermore, mice did not develop pulmonary pathology (Coleman et al., 2014a) . Analysis of the MERS-CoV host receptor (DPP4) expression by immunohistochemistry and RT-PCR indicated that low levels of DPP4 were expressed in the lungs (Coleman et al., 2014a) , and early studies on the binding efficiency of MERS-CoV S protein RBD to mouse cells (LR7 cell line) showed low binding efficiency (Raj et al., 2013, Table S1) . Collectively, these studies demonstrated that mice are naturally non-permissive to MERS-CoV and inbred strains do not represent a suitable small animal model.',\n",
       " '4_Syrian hamster model': 'Golden Syrian hamsters are highly permissive to SARS-CoV infection (Roberts et al., , 2005a Lamirande et al., 2008) . Infection of hamsters with SARS-CoV (10 3 or 10 5 TCID 50 of the Urbani strain) results in a productive infection with peak replication on day 2-3 in the nasal turbinates and lungs, and viral clearance by day 7. Infection also results in extrapulmonary spread consisting of transient viremia and spread to the liver and spleen in a proportion (1/3 or 2/3) of animals. Viral replication is accompanied by pulmonary histopathology consisting of focal areas of interstitial inflammation and consolidation that are visible on day 3, and become more widespread until day 7 when consolidation involves 30-40% of the lung (Roberts et al., 2005a) . Despite the extensive pulmonary pathology, hamsters do not display overt clinical disease or mortality. Weight loss is difficult to assess in hamsters due to the storage of food in large cheek pouches; however, the use of a running wheel with a rotation counter permitted objective measurement of nocturnal activity of these animals. Compared to mock-infected hamsters and preinfection activity levels, SARS-CoV infected hamsters exhibited a greater than 90% reduction in activity Lamirande et al., 2008) . This was the first objective measurement of clinical illness in hamsters.In subsequent studies, hamsters were also shown to be susceptible to several different strains of SARS-CoV . These strains included Urbani, HKU-39849, Frankfurt 1, and a recombinant clone GD03T0013. Infection with Frk-1 resulted in limited mortality in 3 of 20 animals, while all other strains did not produce a lethal infection. Collectively, these studies demonstrate that the hamster represents a suitable model of SARS-CoV infection; although much like the young and aged mouse models, mortality was not a prominent feature of the model (Liang et al., 2005; Watts et al., 2008) .Based on the success of hamsters as a model for SARS-CoV, they were similarly evaluated as a model of MERS-CoV infection (de Wit et al., 2013b) . Syrian hamsters were given either 10 3 or 10 6 TCID 50 of EMC-2012 by intratracheal inoculation or 4 Â 10 2 TCID 50 via aerosol. Animals were monitored for clinical disease, and nasal, oropharyngeal, urogenital, and rectal swabs were collected daily from days 1 to 11 post-infection. Inoculated animals did not display clinical signs or weight loss, and all swabs were negative for viral RNA by qRT-PCR (de Wit et al., 2013b) . Tissues were collected on days 2, 4, 8, 14, and 21 post-infection. On days 2, 4, and 8, vRNA could not be detected in the lungs, spleen, or mandibular lymph nodes by qRT-PCR, and no significant histopathology was observed in the lungs, trachea, kidney, and brain. To further determine if the hamsters had been infected, Mx gene expression was assayed as an indicator of an innate immune response. In MERS-CoV inoculated animals, Mx expression was similar to that of mock-infected infected animals. To verify that the host receptor of MERS-CoV was expressed in hamsters, immunohistochemistry for DPP4 was performed. DPP4 was expressed at high levels in bronchiolar epithelium and smooth muscle in the lung, and also in the glomerular parietal epithelium and nerve tissue in the kidney (de Wit et al., 2013b) . Collectively, these results indicate that similar to mice, hamsters are not permissive to MERS-CoV; however, in contrast to mice, hamsters do show high levels of DPP4 expression.',\n",
       " '5_Ferret model': 'Ferrets represent an excellent model of influenza infection and as a result were evaluated for susceptibility to SARS-CoV. Infection of ferrets with virus doses from 10 3 to 10 7 TCID 50 yielded a productive infection in lungs, trachea and nasal turbinates. Viral replication peaked in the lungs on day 5 or 6, and reached levels of 10 6 TCID 50 /mL of lung homogenate (Chu et al., 2008; Martina et al., 2003; ter Meulen et al., 2004; Weingartl et al., 2004) . The primary histopathological finding was of multifocal pulmonary lesions affecting 5-10% of the lung with mild alveolar damage, and peribronchiolar and perivascular lymphocyte infiltration ( Reports on clinical disease vary. In initial studies utilizing intratracheal administration, 3 of 6 infected ferrets became lethargic and one animal succumbed to disease, and in a study utilizing the Toronto-2 (Tor2) SARS-CoV isolate, lethargy and prolonged disease was also observed (Martina et al., 2003; Kobinger et al., 2007) . In subsequent reports using either intratracheal or intranasal administration lethargy or mortality were not observed (Chu et al., 2008; ter Meulen et al., 2004; Weingartl et al., 2004; Darnell et al., 2007) . Furthermore, in a study specifically designed to assess the ferret as a non-rodent model to meet the criteria for the FDA \"Animal Rule\", clinical disease was limited to fever and sneezing in large groups of ferrets inoculated with the Toronto-2 strain (Chu et al., 2008) . In a single study, contact transmission of SARS-CoV to uninfected cage mates was reported along with conjunctivitis and mortality on days 16 and 21 (Martina et al., 2003) . Histopathological analysis found evidence of hepatic lipidosis and emaciation indicating mortality was not associated with SARS-CoV pneumonia. These findings indicate that SARS-CoV could transmit at low levels by direct contact in the ferret model. In summary ferrets were shown to support SARS-CoV replication with varying degrees of clinical disease, and much like the rodent models, SARS-CoV infection did not result in significant mortality.To potentially overcome host factors that may limit infection in rodents, ferrets were evaluated as a model for MERS-CoV . Four animals were inoculated intranasally and intratracheally with 1 Â 10 6 TCID 50 of EMC-2012. Nasal and throat swabs were collected at intervals from 1 to 14 days postinfection and assayed for viral replication. Virus was not recovered from the swabs and qRT-PCR analysis demonstrated that low levels of viral RNA were present only on days 1 and 2 postinfection . Ferrets also failed to seroconvert, further evidence that the animals had not been infected. In subsequent experiments, primary ferret kidney cells were shown to be resistant to MERS-CoV infection despite high levels of DPP4 expression. Transfection of an expression plasmid for human DPP4 into primary ferret kidney cells rendered the cells susceptible to MERS-CoV infection, demonstrating that ferret DPP4 was the major host restriction factor. Further in vitro experiments with chimeric human-ferret DPP4 constructs demonstrated that the DPP4 receptor-binding domain (RBD) was responsible for the relative resistance or susceptibility of ferret cells to infection with MERS-CoV . These findings demonstrate that ferrets, like hamsters and mice, are not a suitable as a model of MERS-CoV infection.',\n",
       " '6_Non-human primate models': \"Six NHP species have been evaluated as models of SARS-CoV infection. These include three Old World Monkeys: rhesus and cynomolgus macaques, and African Green monkeys, and three New World Monkeys: common marmoset, squirrel monkeys, and mustached tamarins Lawler et al., 2006; Fouchier et al., 2003; Roberts and Subbarao, 2006; McAuliffe et al., 2004; Rowe et al., 2004; Qin et al., 2005; Rockx et al., 2011; Greenough et al., 2005) . With the exception of squirrel monkeys and mustached tamarins (Roberts and Subbarao, 2006) , all NHPs examined support SARS-CoV replication. Initial studies were performed in cynomolgus macaques to demonstrate that SARS-CoV fulfilled Koch's postulates. In these studies, virus was isolated from nasal secretions, and virus could be detected in lung samples by RT-PCR. Consistent with virus isolation, the animals had pulmonary pathology indicative of interstitial pneumonia and representative of mild human disease. In these and other studies using cynomolgus macaques a range of clinical illness has been reported with observations ranging from skin rash, decreased activity, cough, and respiratory distress, to an absence of clinical disease (Lawler et al., 2006; McAuliffe et al., 2004; Rowe et al., 2004; Rockx et al., 2011) .To compare Old World monkey species, African Green monkeys, cynomolgus, and Rhesus macaques were challenged in parallel with SARS-CoV Urbani strain. No animals developed clinical disease and all three species had viral replication in combined nasal-throat swabs, and in tracheal lavage samples . Viral replication was highest in African Green monkeys, followed by cynomolgus and then Rhesus macaques. Viral titers peaked by day 2 with clearance in the upper and lower respiratory tract by days 8 and 10, respectively. All three species produced neutralizing antibodies and antibody titers correlated with virus replication. Pulmonary pathology was examined in African Green monkeys on days 2 and 4 post-infection. Consistent with the features of interstitial pneumonia, on day 2 there were focal interstitial mononuclear inflammatory infiltrates and edema in the lung. Staining for viral antigen identified type 1 pneumocytes as the predominant cell type infected by SARS-CoV, and on day 4 there was a reduction in the amount of viral antigen and level of inflammation . In a subsequent study on Rhesus macaques challenged with the SARS-CoV PUMC01 strain, virus could be detected in nasal and pharyngeal swabs, and on days 5 and 7 pulmonary histopathology was similarly consistent with interstitial pneumonia (Qin et al., 2005) .Infection of common marmosets also resulted in mild clinical disease with $ 50% of animals developing a febrile response and diarrhea (Greenough et al., 2005) . Due to technical challenges, replicating virus could not be isolated from lung homogenates; however, high levels of vRNA were detected in lung samples on both days 4 and 7 post-infection. Marmosets developed both pulmonary and hepatic pathology with evidence of interstitial pneumonitis at all time points (days 2, 4, and 7). Hepatic lesions started to develop on day 2 and were readily apparent in 4 of 5 animals on day 4. On day 7 all animals had evidence of multifocal hepatitis. Hepatic lesions were also observed in human patients and the marmoset was the only NHP to develop liver disease (Greenough et al., 2005) . Collectively, the NHP species that were permissive to SARS-CoV infection modeled differing aspects of human disease with African Green monkeys supporting high levels of replication in the respiratory tract and marmosets modeling hepatic pathology. All species showed evidence of interstitial pneumonia, however, no species consistently reproduced severe clinical disease and mortality was not observed in any species.Two species of NHP have been evaluated as models of MERS-CoV infection. These include the rhesus macaque and common marmoset (de Wit et al., 2013a; Falzarano et al., 2014; Munster et al., 2013; Yao et al., 2014) . Both species are susceptible to MERS-CoV infection; however, the extent of replication and disease severity vary. Upon a combined intranasal, intratracheal, oral and ocular inoculation with 1 Â 10 7 TCID 50 EMC-2012 strain, Rhesus macaques develop mild clinical signs consisting of decreased food intake, nasal swelling, increased respiratory rate, and elevated white blood cells counts early after infection (days 1-2 p.i.) (de Wit et al., 2013a; Munster et al., 2013) . All animals survived until the designated endpoint of day 6 post-infection. vRNA was detected in nasal swabs on days 1 and 3, and in most animals was cleared by day 6. Replicating virus could be recovered from lung tissue (Munster et al., 2013) and titers decreased from day 3 to 6 post-infection. Examination of viral dissemination throughout the respiratory tract by qRT-PCR demonstrated that vRNA could be detected in the nasal mucosa, trachea, mediastinal lymph nodes, conjunctiva, oronasopharynx, and bronchi on day 3. Viral loads decreased by day 6 and vRNA could not be detected in the nasal mucosa and conjunctiva at this later time point (de Wit et al., 2013a) . Gross examination of multiple organs on day 3 and 6 revealed that pathology was restricted to the lungs with 0-75% of each lung lobe containing lesions. Consistent with this observation, vRNA could not be detected in the kidney or bladder. Further histopathological analysis found that animals displayed mild to marked interstitial pneumonia on day 3 that progressed to abundant alveolar edema and formation of hyaline membranes on day 6 (de Wit et al., 2013a; Munster et al., 2013) .In an analogous study, four Rhesus macaques were intratracheally inoculated with 6.5 Â 10 7 TCID 50 of EMC-2012. Two animals were maintained for 28 days and two animals were necropsied on day 3 p.i. All of the animals showed an increase in temperature on days 1-2, had reduced water intake, and survived the infection. RNA was not detected in nasal, oropharyngeal, and cloacal swabs collected at regular intervals. Radiographic imaging on days 3 and 5 showed interstitial infiltrates indicative of pneumonia, and replicating virus was isolated from lung samples on day 3. Virus could not be isolated from any other tissue including trachea, brain, and kidney (Yao et al., 2014) . Similar to the previous study, gross examination revealed lesions restricted to the lung, and microscopic analysis showed multifocal mild to moderate interstitial pneumonia. Animals also developed serum neutralizing antibody responses that were detected on day 7, peaked on day 14 (1:320) and remained elevated at day 28 (1:160) (Yao et al., 2014) .Taken together, these studies show that infection of Rhesus macaques with MERS-CoV results in a transient lung infection with associated pneumonia. The discrepancies in the extent of virus replication in the respiratory tract, observations of nasal swelling, and isolation of virus from nasal swabs most likely reflect the use of multiple inoculation routes in the earlier studies. Animals showed mild clinical disease early during infection and mortality was not observed. Thus, Rhesus macaques do not recapitulate the severe infection observed in human cases; however, IFN-α and ribavirin were evaluated in this model and were shown to limit infection (Falzarano et al., 2013) .Based on modeling of MERS-CoV S protein-DPP4 interactions, the common marmoset was evaluated as model of MERS-CoV (Falzarano et al., 2014) . To recapitulate severe disease marmosets were given a total of 5.2 Â 10 6 TCID 50 of EMC-2012 via a combination of intranasal, oral, ocular, and intratracheal routes. Clinical disease ranged from moderate to severe, with animals showing increased respiratory rate, decreased body temperature, loss of appetite, and decreased activity. Peak clinical illness was observed between days 4 and 6, and 2 of nine animals were euthanized due to severe disease. Radiological evaluation revealed evidence of moderate to severe interstitial infiltration in both lower lung lobes on day 3 and 6; by day 9 the remaining animals had reduced infiltration indicative of recovery. On day 1 all throat swabs and 8/9 nasal swabs were positive for vRNA. Viral load in the nose and throat swabs decreased by day 3, but vRNA was consistently isolated from throat swabs in a proportion of animals as late as 13 days post-infection. In the respiratory tract, vRNA could be detected from days 2-6 in the conjunctiva, nasal mucosa, trachea, mediastinal lymph node, and all lung lobes. In addition, two animals showed evidence of viremia with vRNA detected in the blood and vRNA was detected in multiple organs including the kidney, liver, and heart, indicating systemic dissemination of the virus. However, given that the animals were inoculated via multiple routes this may have facilitated systemic infection and spread throughout the respiratory tract.Histopathological analysis on day 3 revealed acute bronchointerstitial pnemonia with viral antigen present in regions of pathological change. By day 6, acute pneumonia was still prominent, with type II pneumocyte hyperplasia and consolidation of pulmonary fibrin resulting in hyaline membrane formation. Consistent with the severe lung infection, type I pneumocytes, bronchiolar epithelial cells, and smooth muscle cells were all found to express DPP4 (Falzarano et al., 2014) . Thus, the common marmoset reproduces several features of MERS-CoV infection, and can potentially be used to evaluate novel therapies for human use.\",\n",
       " '7_Role of ACE2 in animal models of SARS-CoV infection': 'ACE2 was identified as the functional receptor for SARS-CoV in African Green monkey derived Vero E6 cells . Subsequent crystallography studies identified 14 amino acid positions in ACE2 that have direct contact with the S protein receptorbinding domain (RBD) (see Table 1 ) (Li et al., 2005a) . As civet (c) ACE2 displayed affinity for both human (Tor2 and GD03) and civet SARS-CoV isolates (Sz02 and Gd05), while human (h) ACE2 preferentially bound the S protein RBD of human isolates, biochemical studies were performed to define mutations influencing RBD affinity (Li, 2008; Wu et al., 2012 Wu et al., , 2011 Li et al., 2005b) . These studies identified two regions of interaction between the S protein RBD and ACE2 at which mutations evolved to accommodate a switch in preference from cACE2 to hACE2 (Li, 2008; Wu et al., 2012 Wu et al., , 2011 . The two regions were designated hotspot 31 and hotspot 353. In hotspot 31, residues K31 and E35 of hACE2 interact to form a salt bridge, and E35 in turn interacts with N479 of the S protein RBD. In contrast, the RBD of civet isolates has a 479K mutation and this lysine residue competes with E35 of hACE2 destabilizing the salt bridge and diminishing binding. To compensate, civet ACE2 has a Threonine (T) at position 31. This removes the salt bridge structure and the destabilizing effect of 479K, permitting high affinity binding (Li, 2008) .The interaction of amino acids at or near position 353 of ACE2 was also found to play a significant role in RBD-ACE2 affinity. Both hACE2 and cACE2 have lysine (K) at position 353, and in hACE2 K353 interacts with aspartate (D) 38 to form a second salt bridge. Formation of this bridge requires additional support from threonine (T) 487 from the S protein RBD of human SARS-CoV strains. In civet isolates, there is a serine (S) at position 487 that does not support the formation of a salt bridge with D38, resulting in decreased affinity for hACE2. In cACE2 position 38 encodes a glutamate (E) that has a longer side chain than aspartate. This allows E38 to support the formation of a salt bridge in the absence of T487 and promotes binding of the civet isolates to cACE2 (Li, 2008) .In the context of animal models of SARS-CoV infection, the interactions of the S protein RBD at these hot spots may partially explain the varying levels of replication observed in different species. In Table 1 , we have compared the ACE2 amino acids that interact with the S protein RBD from several species. Examining the human, AGM, and macaque ACE2 residues, all 4 species have identical RBD-ACE2 interaction residues. The marmoset and hamster ACE2 residues are very similar to those of hACE2 and this is in agreement with the permissive nature of these species. In contrast, many of the residues of mouse ACE2 are different from those of human ACE2 (Li et al., 2005a) and this corresponds with reduced replication of SARS-CoV in mouse cells (Li et al., 2004) and the lungs of young mice . While mice are semi-permissive to SARS-CoV, rats do not support replication of SARS-CoV. Two changes relative to human ACE2, at positions 353 and 82 of mouse and rat ACE2 are predicted to account for this difference in replication (Li et al., 2005a) . Both mice and rats have a histidine at position 353 compared to 353K in hACE2. This partially disrupts the S protein-DPP4 interaction (Li et al., 2005a) ; moreover, the asparagine (N) 82 of rat ACE2 introduces a glycosylation site that blocks the interaction at position 82 with residue L472 of the S protein RBD. In contrast, mouse ACE2 has a serine (S) at position 82, that though sub-optimal, does not prevent the interaction with the S protein. Together the combined changes in mACE2 at position 353 and 82 lead to inefficient binding of the S protein and reduced permissiveness of mouse cells, while the glycosylation site at residue 82 in rat ACE2 abrogates binding (Li et al., 2005a) .Examination of the hamster ACE2 sequence at position 82 also reveals an asparagine (N) residue and examination of the surrounding amino acid residues indicates the presence of a glycosylation site. This is surprising as hamsters are highly permissive to SARS-CoV; however, the inhibitory effect of N82 may be overcome by the multiple additional interactions (i.e. K353) that are shared by human and hamster ACE2. It is tempting to speculate that hamsters may have developed lethal or more pronounced clinical disease if the amino acid residue at position 82 had been similar to that of hACE2.Of interest, most of the ferret ACE2 interaction residues are different from those of hACE2; thus it is surprising that ferrets are permissive to SARS-CoV infection. Comparing civet and ferret ACE2, many of the residues are the same, and experimental studies have shown that civets can be infected with human isolates (Wu et al., 2005) . Thus, while the ferret ACE2 may be different from hACE2, the similarity with cACE2 may result in affinity between ferret ACE2 and the S protein RBD permitting infection and replication.In summary, the structural analysis of ACE2-S protein interactions agree with observations of improved replication in several animal models. However, this finding does not fully explain the host restriction and limited clinical disease observed in animal models. Despite high degrees of similarity between NHP ACE2 sequences and hACE2, NHPs do not recapitulate human disease and within the NHP species there is variation in the level of viral replication. Furthermore, aged mice develop disease and support replication despite reduced affinity of mACE2 for the S protein RBD. Thus, while it is clear the interaction of ACE2 with the S protein-RBD is required for efficient infection and replication, additional host factors likely also contribute to the development of severe disease.',\n",
       " '8_Mouse-adaptation of SARS-CoV': 'As an alternative to evaluating multiple animal species, another strategy to generate an animal model with clinical disease is to adapt the virus to the new host by serial passage (Fig. 1) . To generate a mouse model with associated mortality, the SARS-CoV Urbani strain was serially passaged in the lungs of young BALB/c mice (Roberts et al., 2007) . After 15 passages, a single virus clone was isolated that caused 100% mortality in young (6-8 week old), 4 week old, and aged BALB/c mice. This virus was designated Sites that play an important role in host range and cross species infection are indicated in bold type and are underlined. MA15. Severe disease was the result of an overwhelming viral infection with significantly higher titers and prolonged replication in the lungs accompanied by extensive damage to bronchiolar and alveolar epithelial cells (Roberts et al., 2007) . MA15 was also capable of extrapulmonary spread as evident by viremia, and recovery of virus from spleen, liver, and brain tissues. Sequence analysis and reverse genetics studies identified 6 amino acid mutations associated with the lethal phenotype. These mutations included 3 changes in ORF1a, and single changes in ORF1b, the M protein, and the S protein. Of particular interest, the mutation in the S protein Y436H was located in the S protein RBD. In follow-up studies, the relative contribution of each mutation in MA15 was defined using a panel of recombinant viruses (Frieman et al., 2012) . Reversion of four mutations did not alter virulence, however, reversion of the nsp9 (located in ORF1a) or S protein mutations resulted in reduced weight loss from 420% to 10-20% and less than 5% for the nsp9 and S protein mutations, respectively. Furthermore, reversion of the S protein mutation resulted in a non-lethal infection with no clinical disease. Introduction of the S protein and nsp9 mutations either alone or combined into the Urbani infectious clone failed to induce a lethal infection in young BALB/c mice indicating that the S protein and nsp9 mutations were necessary but not sufficient to induce severe disease. Given that 6 mutations were present in MA15, the additional mutations in ORF1a, ORF1b, and the M gene may have lead to enhanced disease by promoting interactions with host cell proteins involved in viral replication (Frieman et al., 2012; Zornetzer et al., 2010) . Alternatively, these mutations may also alter the host response as STAT À / À mice progressed more rapidly to a terminal endpoint when inoculated with MA15 compared to wild-type virus .To develop additional mouse-adapted virus strains, the Urbani strain was similarly passaged 20 or 25 times in two separate studies to yield lethal virus strains termed MA20 and Strain v2163 (Frieman et al., 2012; Day et al., 2009) . In a direct comparison with MA15, infection with Strain v2163 resulted in significantly higher pulmonary virus titers and enhanced mortality at lower doses. Ten amino acid changes in v2163 were associated with adaptation and 4 mutations arose in the S protein. More specifically, Y436H and a second mutation at Y442F were identified in the RBD. An additional mutation K411E in the RBD was found in some samples, but was not found in the lungs of infected mice. The two remaining S protein mutations were T1118I and N1169D and were located outside the RBD in the S2 heptad repeat elements (Day et al., 2009) . Sequencing of the MA20 strain revealed 6 amino acid mutations with two changes in the S protein binding domain: Y442L and N479K (Frieman et al., 2012) .The changes that arose during mouse adaptation in the S protein RBD are predicted to enhance affinity or binding of the S protein to mACE2. In human SARS-CoV strains, residue Y436 of the S protein interacts with hACE2 at residues D38 and Q42. This interaction is within hotspot 31 and binding is further influenced by residue 353K of hACE2. In mACE2 the K353H mutation interferes with the interaction between Y436 of the S protein RBD and D38 of mACE2. Thus, in MA15, the mutation Y436H that arose with serial passage overcomes this interference (Frieman et al., 2012) promoting enhanced binding. In the MA20 strain, two mutations evolved in the RBD: Y442L and N479K. These mutations are predicted to form polar interactions with N30 and N31 of mACE2, and the change of Y442L removes a bulky side chain permitting access and enhancing binding of K479 to N30 and N31 (Frieman et al., 2012) . The v2163 strain contains mutations, Y436H and Y442F. As described above the Y436H mutation most likely compensates for mACE2 353H. The extent of steric clash between N31 of mACE2 and Y442 has not been described; however, the Y442F change removes a hydroxyl group from the binding interface and this is predicted to enhance the interaction with mACE2 (Frieman et al., 2012) .The mouse adaptation studies yielded several SARS-CoV strains capable of causing lethal disease in mice. These strains represent an advance in the development of an animal model for the \"Animal Rule\" though the disease mechanism in young mice is different from that in humans. The use of the MA15 virus in aged mice has proved to be a valuable model for the study of SARS-CoV vaccine candidates. Studies examining mutations that arose upon serial passage and detailed analysis of S protein ACE2 interactions emphasize the role of the S protein in host restriction and demonstrate that the S protein-host receptor interactions are critical for the development of animal models. This is further emphasized by the finding that transgenic mice expressing hACE2 and mouse-adapted SARS-CoV strains both show enhanced replication and disease. As our understanding of host-receptor interactions develops, application of this knowledge will facilitate the development animal models for emerging coronaviruses.',\n",
       " '9_Role of host receptor DPP4 in animal models of MERS-CoV': 'To understand the restriction of MERS-CoV replication in small animals, evidence of host restriction at the level of DPP4 sequence was sought. The crystal structure of the S protein bound to DPP4 has been solved Lu et al., 2013) . At the interface between the S protein RBD and DPP4, 14 residues of the S protein RBD have direct contact with 15 residues of hDPP4 (see Table 2 ) . The interaction between DPP4 and the S protein RBD has two major binding patches. Patch 1 consists of hDPP4 residues K267 and R336 interacting with a negatively charged surface consisting of E536, D537, and D539 of the S protein RBD. In addition, Y499 of the S protein RBD forms a hydrogen bond with R336 of DPP4 Lu et al., 2013) . The second major binding patch consists of DPP4 residues L294, I295, H298, R317, and Q344. Residues L294 and I295 interact with S protein RBD residues L506, W553, and V555, and DPP4 residues R317 and Q344 form a salt-bridge and hydrogen bond with S protein RBD residues D510 and E513, respectively.As mentioned above, initial studies with chimeric DPP4 proteins demonstrated that incorporation of the human DPP4 S protein RBD (residues 246-505) into ferret DPP4 rendered ferret cells susceptible to MERS-CoV infection . To further understand the role of the S protein RBD in host restriction, subsequent studies compared the MERS-CoV S protein binding affinity of human and mouse DPP4, and that of several potential zoonotic reservoir species including camels, horses, goats, and bats (Barlan et al., 2014) . Introduction of the human DPP4 S protein binding domain into mouse DPP4 rendered mouse cells susceptible to MERS-CoV infection, thus emphasizing the role of the DPP4 sequence in host restriction. Comparison of human DPP4 binding affinity to that other species demonstrated that human DPP4 had the highest affinity for the S protein RBD, and affinity decreased as follows: human 4horses 4camels 4goats4bats. Expression of DPP4 from all these species rendered cells susceptible to infection, while mouse DPP4 did not permit infection (Barlan et al., 2014) . Further characterization of amino acid residues at the interface of DPP4 with the S protein RBD identified 6 differences between mouse and human DPP4 (see Table 2 ) (Barlan et al., 2014; van Doremalen et al., 2014; Cockrell et al., 2014) (Cockrell et al., 2014) . Introduction of the human DPP4 residues at all 5 sites in mouse DPP4 resulted in highly efficient infection. Selective mutation of only residues 336 and 346 associated with the patch 1 binding region, or residues 288, 294, 295 in the patch 2 domain did not restore highly efficient infection, indicating that interactions with both patch regions were required for high affinity DPP4-S protein binding. In support of this finding, the introduction of human residues A294L and T330R associated with patch 1 and 2, respectively, resulted in efficient infection (Cockrell et al., 2014) .In the context of the hamster model, expression of human DPP4 in non-permissive (BHK) hamster cells, rendered cells susceptible to MERS-CoV infection, indicating that host restriction occurred at the level of the receptor . Comparison of the hamster and human DPP4 sequences identified five amino acid differences in the DPP4 S protein RBD interface (Table 2) . Introduction of the human residues into hamster DPP4 permitted infection of hamster cells, and modeling studies suggested that two residues at positions 291 and 336 were largely responsible for the host restriction . This is in agreement with studies on mouse DPP4 that show mutation R336T, also present in the hamster DPP4, decreases infection by MERS-CoV (Cockrell et al., 2014) .Collectively, these studies demonstrate that host restriction of MERS-CoV is predominantly dictated by DPP4 sequence. To explore additional animal models we sequenced cotton rat DPP4 (see Table 2 ) and found the S protein binding residues to be similar to those of the hamster and ferret, suggesting that cotton rats would be refractory to infection. Indeed comparison of human, rhesus macaque and common marmoset DPP4 sequences show 100% identity at the residues that interact with MERS-CoV S protein. However, the differences in disease severity between Rhesus macaques and common marmosets indicate that other host factors such as the presence or expression levels of S-cleaving proteases (i.e. TMPRSS2) (Cockrell et al., 2014) may influence infection and disease severity. Regardless of additional host factors, the interaction of DPP4 with MERS-CoV S protein should be the initial and predominant focus of small animal model development.',\n",
       " '10_Approaches to developing small animal models of MERS-CoV infection': 'Development of animal models for SARS-CoV demonstrated that both mouse adaptation and the generation of transgenic mice expressing hACE2 resulted in enhanced permissiveness and disease. Moving forward with animal models of MERS-CoV, similar strategies should be utilized. Mouse adaptation, or adaptation to ferrets or hamsters, is unlikely to be fruitful approaches because infectious virus could not be isolated from these animals and the MERS-CoV S protein failed to bind DPP4 from these species. To overcome this barrier, reverse genetics approaches could be used to introduce mutations into the MERS-CoV S protein RBD to enhance or promote interaction with DPP4 of different species. Residues in patch 1 are underlined and residues in patch 2 are in italics and underlined. n Predicted sequence. This has particular utility in outbred animals in which genetic manipulation of the host receptor would be challenging. As demonstrated with SARS-CoV, the generation of mice expressing human DPP4 may be the most rapid strategy to yield a small animal model. Indeed, when mice were transduced with an adenovirus vector that expressed human DPP4, they were susceptible to MERS-CoV infection and developed pneumonia, albeit without associated mortality . Transgenic mice could be generated via traditional methods or using the CRISPR-Cas9 (Doudna and Charpentier, 2014) system to replace mouse DPP4 with human DPP4 or to introduce a mouse DPP4 carrying the mutations that promote S protein binding. With either transgenic strategy or with the development of a reverse genetics adapted strain, replication and pathogenesis will have to be characterized to meet the criteria for the FDA Animal Rule.Despite the lack of suitable models, several groups are developing vaccines and therapeutics against MERS-CoV (Zhang et al., 2014a (Zhang et al., , 2014b Chan et al., 2013; Hart et al., 2014; Coleman et al., 2014b; de Wilde et al., 2014; Dyall et al., 2014; Kim et al., 2014) . Vaccine candidates are being evaluated for immunogenicity and antivirals are being evaluated in vitro. Medical countermeasures have the potential to advance along the path towards regulatory approval if a susceptible small animal model can be developed and used in conjunction with the marmoset model. In concert with public health efforts, novel therapies could curb the on-going MERS-CoV epidemic and reduce the morbidity and mortality associated with MERS-CoV.'}"
      ]
     },
     "execution_count": 30,
     "metadata": {},
     "output_type": "execute_result"
    }
   ],
   "source": [
    "dict(sm_ap_dataframe[\"text_dict\"][0])"
   ]
  },
  {
   "cell_type": "code",
   "execution_count": 332,
   "metadata": {},
   "outputs": [],
   "source": [
    "sm_ap_dataframe[[\"paper_id\",\"text_dict\"]].to_csv(\"sm_appended_df.csv\",)"
   ]
  },
  {
   "cell_type": "code",
   "execution_count": 344,
   "metadata": {},
   "outputs": [],
   "source": [
    "# ap_dataframe.to_csv(\"appended_df.csv\")"
   ]
  },
  {
   "cell_type": "markdown",
   "metadata": {},
   "source": [
    "# To json"
   ]
  },
  {
   "cell_type": "code",
   "execution_count": 350,
   "metadata": {},
   "outputs": [],
   "source": [
    "sm=sm_ap_dataframe[[\"paper_id\",\"text_dict\"]]"
   ]
  },
  {
   "cell_type": "code",
   "execution_count": 353,
   "metadata": {},
   "outputs": [],
   "source": [
    "sm_dict=dict()\n",
    "for i in range(sm.shape[0]):\n",
    "    sm_dict[sm.paper_id[i]]=sm.text_dict[i]"
   ]
  },
  {
   "cell_type": "code",
   "execution_count": 351,
   "metadata": {},
   "outputs": [
    {
     "data": {
      "text/html": [
       "<div>\n",
       "<style scoped>\n",
       "    .dataframe tbody tr th:only-of-type {\n",
       "        vertical-align: middle;\n",
       "    }\n",
       "\n",
       "    .dataframe tbody tr th {\n",
       "        vertical-align: top;\n",
       "    }\n",
       "\n",
       "    .dataframe thead th {\n",
       "        text-align: right;\n",
       "    }\n",
       "</style>\n",
       "<table border=\"1\" class=\"dataframe\">\n",
       "  <thead>\n",
       "    <tr style=\"text-align: right;\">\n",
       "      <th></th>\n",
       "      <th>paper_id</th>\n",
       "      <th>text_dict</th>\n",
       "    </tr>\n",
       "  </thead>\n",
       "  <tbody>\n",
       "    <tr>\n",
       "      <th>0</th>\n",
       "      <td>0ae02f293c03e3e1a2d4582e62c22f2c0c291f48</td>\n",
       "      <td>{'0_Introduction': 'Within the last two decade...</td>\n",
       "    </tr>\n",
       "    <tr>\n",
       "      <th>1</th>\n",
       "      <td>640de65e9f09545c463bc419bffb7084fc40fae5</td>\n",
       "      <td>{'0_': '1. viral: type B viral hepatitis (Kenn...</td>\n",
       "    </tr>\n",
       "    <tr>\n",
       "      <th>2</th>\n",
       "      <td>5da136317f5b97ed8371d5121d8828f1c9a5372d</td>\n",
       "      <td>{'0_Introduction': 'Malaria is a mosquito-born...</td>\n",
       "    </tr>\n",
       "    <tr>\n",
       "      <th>3</th>\n",
       "      <td>f9ae3db6ac88670b3f47b815bb7422a75f6d47c8</td>\n",
       "      <td>{'0_Introduction': 'Nearly 3 million confirmed...</td>\n",
       "    </tr>\n",
       "    <tr>\n",
       "      <th>4</th>\n",
       "      <td>a8676c57d7e3a52378b9e554cc0886ad91999e13</td>\n",
       "      <td>{'0_': 'ziektegeschiedenis Patiënt A, een 29-j...</td>\n",
       "    </tr>\n",
       "  </tbody>\n",
       "</table>\n",
       "</div>"
      ],
      "text/plain": [
       "                                   paper_id                                          text_dict\n",
       "0  0ae02f293c03e3e1a2d4582e62c22f2c0c291f48  {'0_Introduction': 'Within the last two decade...\n",
       "1  640de65e9f09545c463bc419bffb7084fc40fae5  {'0_': '1. viral: type B viral hepatitis (Kenn...\n",
       "2  5da136317f5b97ed8371d5121d8828f1c9a5372d  {'0_Introduction': 'Malaria is a mosquito-born...\n",
       "3  f9ae3db6ac88670b3f47b815bb7422a75f6d47c8  {'0_Introduction': 'Nearly 3 million confirmed...\n",
       "4  a8676c57d7e3a52378b9e554cc0886ad91999e13  {'0_': 'ziektegeschiedenis Patiënt A, een 29-j..."
      ]
     },
     "execution_count": 351,
     "metadata": {},
     "output_type": "execute_result"
    }
   ],
   "source": [
    "#sm.head()"
   ]
  },
  {
   "cell_type": "code",
   "execution_count": 364,
   "metadata": {},
   "outputs": [],
   "source": [
    "import json"
   ]
  },
  {
   "cell_type": "code",
   "execution_count": 370,
   "metadata": {},
   "outputs": [],
   "source": [
    "with open(\"sm_appended_df.json\",'a') as outfile:\n",
    "    json.dump(sm_dict,outfile,ensure_ascii=False)"
   ]
  },
  {
   "cell_type": "code",
   "execution_count": 367,
   "metadata": {},
   "outputs": [],
   "source": [
    "#sm_dict.to_json(\"sm_appended_df.json\")"
   ]
  },
  {
   "cell_type": "code",
   "execution_count": 335,
   "metadata": {},
   "outputs": [],
   "source": [
    "#sm_ap_dataframe[[\"paper_id\",\"text_dict\"]].to_json(\"sm_appended_df.json\")"
   ]
  },
  {
   "cell_type": "markdown",
   "metadata": {},
   "source": [
    "# Test Q_A Function"
   ]
  },
  {
   "cell_type": "code",
   "execution_count": null,
   "metadata": {},
   "outputs": [],
   "source": [
    "def answer_question(question, answer_text):\n",
    "    '''\n",
    "    Takes a `question` string and an `answer_text` string (which contains the\n",
    "    answer), and identifies the words within the `answer_text` that are the\n",
    "    answer. Prints them out.\n",
    "    '''\n",
    "    # ======== Tokenize ========\n",
    "    # Apply the tokenizer to the input text, treating them as a text-pair.\n",
    "    input_ids = tokenizer.encode(question, answer_text,max_length=500\n",
    "                                )\n",
    "\n",
    "    # Report how long the input sequence is.\n",
    "    #print('Query has {:,} tokens.\\n'.format(len(input_ids)))\n",
    "\n",
    "    # ======== Set Segment IDs ========\n",
    "    # Search the input_ids for the first instance of the `[SEP]` token.\n",
    "    sep_index = input_ids.index(tokenizer.sep_token_id)\n",
    "\n",
    "    # The number of segment A tokens includes the [SEP] token istelf.\n",
    "    num_seg_a = sep_index + 1\n",
    "\n",
    "    # The remainder are segment B.\n",
    "    num_seg_b = len(input_ids) - num_seg_a\n",
    "\n",
    "    # Construct the list of 0s and 1s.\n",
    "    segment_ids = [0]*num_seg_a + [1]*num_seg_b\n",
    "\n",
    "    # There should be a segment_id for every input token.\n",
    "    assert len(segment_ids) == len(input_ids)\n",
    "\n",
    "    # ======== Evaluate ========\n",
    "    # Run our example question through the model.\n",
    "    start_scores, end_scores = model(torch.tensor([input_ids]), # The tokens representing our input text.\n",
    "                                    token_type_ids=torch.tensor([segment_ids])) # The segment IDs to differentiate question from answer_text\n",
    "\n",
    "    # ======== Reconstruct Answer ========\n",
    "    # Find the tokens with the highest `start` and `end` scores.\n",
    "    answer_start = torch.argmax(start_scores)\n",
    "    answer_end = torch.argmax(end_scores)\n",
    "    \n",
    "    \n",
    "    # Get the string versions of the input tokens.\n",
    "    tokens = tokenizer.convert_ids_to_tokens(input_ids)\n",
    "\n",
    "    # Start with the first token.\n",
    "    answer = tokens[answer_start]\n",
    "\n",
    "    # Select the remaining answer tokens and join them with whitespace.\n",
    "    for i in range(answer_start + 1, answer_end + 1):\n",
    "        \n",
    "        # If it's a subword token, then recombine it with the previous token.\n",
    "        if tokens[i][0:2] == '##':\n",
    "            answer += tokens[i][2:]\n",
    "        \n",
    "        # Otherwise, add a space then the token.\n",
    "        else:\n",
    "            answer += ' ' + tokens[i]\n",
    "            \n",
    "    s_scores = start_scores.detach().numpy().flatten()\n",
    "    e_scores = end_scores.detach().numpy().flatten()\n",
    "    #print('score:'+(start_scores)+\"; \"+str(end_scores))\n",
    "    #print('score:'+str(max(s_scores))+\"; \"+str(min(e_scores)))\n",
    "    #print(str(tensor[torch.argmax(start_scores)]))\n",
    "    #print('Answer: \"' + answer + '\"')\n",
    "    return [answer,str(max(s_scores)),len(input_ids)]"
   ]
  },
  {
   "cell_type": "code",
   "execution_count": 284,
   "metadata": {},
   "outputs": [
    {
     "data": {
      "text/plain": [
       "'\\nfor i in clean_pdf_df.text:\\n    answer_question(\"What do we know about Hypertension?\",i)\\n'"
      ]
     },
     "execution_count": 284,
     "metadata": {},
     "output_type": "execute_result"
    }
   ],
   "source": [
    "'''\n",
    "for i in clean_pdf_df.text:\n",
    "    answer_question(\"What do we know about Hypertension?\",i)\n",
    "'''"
   ]
  },
  {
   "cell_type": "code",
   "execution_count": 285,
   "metadata": {},
   "outputs": [],
   "source": [
    "Q_example=\"What do we know about Hypertension?\""
   ]
  },
  {
   "cell_type": "code",
   "execution_count": 286,
   "metadata": {
    "scrolled": true
   },
   "outputs": [],
   "source": [
    "Q_example_a=\"[CLS] what do we know about hypertension ? [SEP]\""
   ]
  },
  {
   "cell_type": "code",
   "execution_count": 288,
   "metadata": {
    "scrolled": true
   },
   "outputs": [
    {
     "name": "stdout",
     "output_type": "stream",
     "text": [
      "blood pressure\n",
      "0.500568\n",
      "330\n",
      "excess variability\n",
      "0.032215476\n",
      "36\n",
      "analogs of known chemical compounds are sometimes more effective than the parent molecule\n",
      "0.5907004\n",
      "77\n",
      "no key lessons learned have been eliminated by merging these results .\n",
      "0.7678749\n",
      "100\n",
      "[SEP]\n",
      "0.06287956\n",
      "227\n"
     ]
    },
    {
     "ename": "KeyboardInterrupt",
     "evalue": "",
     "output_type": "error",
     "traceback": [
      "\u001b[0;31m---------------------------------------------------------------------------\u001b[0m",
      "\u001b[0;31mKeyboardInterrupt\u001b[0m                         Traceback (most recent call last)",
      "\u001b[0;32m<ipython-input-288-ea730d11853d>\u001b[0m in \u001b[0;36m<module>\u001b[0;34m\u001b[0m\n\u001b[1;32m      4\u001b[0m     \u001b[0;32mfor\u001b[0m \u001b[0mkey\u001b[0m \u001b[0;32min\u001b[0m \u001b[0mdct\u001b[0m\u001b[0;34m.\u001b[0m\u001b[0mkeys\u001b[0m\u001b[0;34m(\u001b[0m\u001b[0;34m)\u001b[0m\u001b[0;34m:\u001b[0m\u001b[0;34m\u001b[0m\u001b[0;34m\u001b[0m\u001b[0m\n\u001b[1;32m      5\u001b[0m         \u001b[0manswer\u001b[0m\u001b[0;34m=\u001b[0m\u001b[0manswer_question\u001b[0m\u001b[0;34m(\u001b[0m\u001b[0mQ_example\u001b[0m\u001b[0;34m,\u001b[0m\u001b[0mdct\u001b[0m\u001b[0;34m[\u001b[0m\u001b[0mkey\u001b[0m\u001b[0;34m]\u001b[0m\u001b[0;34m)\u001b[0m\u001b[0;34m[\u001b[0m\u001b[0;36m0\u001b[0m\u001b[0;34m]\u001b[0m\u001b[0;34m\u001b[0m\u001b[0;34m\u001b[0m\u001b[0m\n\u001b[0;32m----> 6\u001b[0;31m         \u001b[0ms_score\u001b[0m\u001b[0;34m=\u001b[0m\u001b[0manswer_question\u001b[0m\u001b[0;34m(\u001b[0m\u001b[0mQ_example\u001b[0m\u001b[0;34m,\u001b[0m\u001b[0mdct\u001b[0m\u001b[0;34m[\u001b[0m\u001b[0mkey\u001b[0m\u001b[0;34m]\u001b[0m\u001b[0;34m)\u001b[0m\u001b[0;34m[\u001b[0m\u001b[0;36m1\u001b[0m\u001b[0;34m]\u001b[0m\u001b[0;34m\u001b[0m\u001b[0;34m\u001b[0m\u001b[0m\n\u001b[0m\u001b[1;32m      7\u001b[0m         \u001b[0mtoken_len\u001b[0m\u001b[0;34m=\u001b[0m\u001b[0manswer_question\u001b[0m\u001b[0;34m(\u001b[0m\u001b[0mQ_example\u001b[0m\u001b[0;34m,\u001b[0m\u001b[0mdct\u001b[0m\u001b[0;34m[\u001b[0m\u001b[0mkey\u001b[0m\u001b[0;34m]\u001b[0m\u001b[0;34m)\u001b[0m\u001b[0;34m[\u001b[0m\u001b[0;36m2\u001b[0m\u001b[0;34m]\u001b[0m\u001b[0;34m\u001b[0m\u001b[0;34m\u001b[0m\u001b[0m\n\u001b[1;32m      8\u001b[0m         \u001b[0;32mif\u001b[0m \u001b[0;34m(\u001b[0m\u001b[0manswer\u001b[0m\u001b[0;34m!=\u001b[0m\u001b[0;34m\"[CLS]\"\u001b[0m\u001b[0;34m)\u001b[0m \u001b[0;34m&\u001b[0m \u001b[0;34m(\u001b[0m\u001b[0mfloat\u001b[0m\u001b[0;34m(\u001b[0m\u001b[0ms_score\u001b[0m\u001b[0;34m)\u001b[0m\u001b[0;34m>\u001b[0m\u001b[0;36m0\u001b[0m\u001b[0;34m)\u001b[0m \u001b[0;34m&\u001b[0m \u001b[0;34m(\u001b[0m\u001b[0manswer\u001b[0m\u001b[0;34m!=\u001b[0m\u001b[0mQ_example_a\u001b[0m\u001b[0;34m)\u001b[0m\u001b[0;34m:\u001b[0m\u001b[0;34m\u001b[0m\u001b[0;34m\u001b[0m\u001b[0m\n",
      "\u001b[0;32m<ipython-input-283-997f94ca03ff>\u001b[0m in \u001b[0;36manswer_question\u001b[0;34m(question, answer_text)\u001b[0m\n\u001b[1;32m     32\u001b[0m     \u001b[0;31m# Run our example question through the model.\u001b[0m\u001b[0;34m\u001b[0m\u001b[0;34m\u001b[0m\u001b[0;34m\u001b[0m\u001b[0m\n\u001b[1;32m     33\u001b[0m     start_scores, end_scores = model(torch.tensor([input_ids]), # The tokens representing our input text.\n\u001b[0;32m---> 34\u001b[0;31m                                     token_type_ids=torch.tensor([segment_ids])) # The segment IDs to differentiate question from answer_text\n\u001b[0m\u001b[1;32m     35\u001b[0m \u001b[0;34m\u001b[0m\u001b[0m\n\u001b[1;32m     36\u001b[0m     \u001b[0;31m# ======== Reconstruct Answer ========\u001b[0m\u001b[0;34m\u001b[0m\u001b[0;34m\u001b[0m\u001b[0;34m\u001b[0m\u001b[0m\n",
      "\u001b[0;32m~/anaconda3/envs/pytorch_p36/lib/python3.6/site-packages/torch/nn/modules/module.py\u001b[0m in \u001b[0;36m__call__\u001b[0;34m(self, *input, **kwargs)\u001b[0m\n\u001b[1;32m    530\u001b[0m             \u001b[0mresult\u001b[0m \u001b[0;34m=\u001b[0m \u001b[0mself\u001b[0m\u001b[0;34m.\u001b[0m\u001b[0m_slow_forward\u001b[0m\u001b[0;34m(\u001b[0m\u001b[0;34m*\u001b[0m\u001b[0minput\u001b[0m\u001b[0;34m,\u001b[0m \u001b[0;34m**\u001b[0m\u001b[0mkwargs\u001b[0m\u001b[0;34m)\u001b[0m\u001b[0;34m\u001b[0m\u001b[0;34m\u001b[0m\u001b[0m\n\u001b[1;32m    531\u001b[0m         \u001b[0;32melse\u001b[0m\u001b[0;34m:\u001b[0m\u001b[0;34m\u001b[0m\u001b[0;34m\u001b[0m\u001b[0m\n\u001b[0;32m--> 532\u001b[0;31m             \u001b[0mresult\u001b[0m \u001b[0;34m=\u001b[0m \u001b[0mself\u001b[0m\u001b[0;34m.\u001b[0m\u001b[0mforward\u001b[0m\u001b[0;34m(\u001b[0m\u001b[0;34m*\u001b[0m\u001b[0minput\u001b[0m\u001b[0;34m,\u001b[0m \u001b[0;34m**\u001b[0m\u001b[0mkwargs\u001b[0m\u001b[0;34m)\u001b[0m\u001b[0;34m\u001b[0m\u001b[0;34m\u001b[0m\u001b[0m\n\u001b[0m\u001b[1;32m    533\u001b[0m         \u001b[0;32mfor\u001b[0m \u001b[0mhook\u001b[0m \u001b[0;32min\u001b[0m \u001b[0mself\u001b[0m\u001b[0;34m.\u001b[0m\u001b[0m_forward_hooks\u001b[0m\u001b[0;34m.\u001b[0m\u001b[0mvalues\u001b[0m\u001b[0;34m(\u001b[0m\u001b[0;34m)\u001b[0m\u001b[0;34m:\u001b[0m\u001b[0;34m\u001b[0m\u001b[0;34m\u001b[0m\u001b[0m\n\u001b[1;32m    534\u001b[0m             \u001b[0mhook_result\u001b[0m \u001b[0;34m=\u001b[0m \u001b[0mhook\u001b[0m\u001b[0;34m(\u001b[0m\u001b[0mself\u001b[0m\u001b[0;34m,\u001b[0m \u001b[0minput\u001b[0m\u001b[0;34m,\u001b[0m \u001b[0mresult\u001b[0m\u001b[0;34m)\u001b[0m\u001b[0;34m\u001b[0m\u001b[0;34m\u001b[0m\u001b[0m\n",
      "\u001b[0;32m~/anaconda3/envs/pytorch_p36/lib/python3.6/site-packages/transformers/modeling_bert.py\u001b[0m in \u001b[0;36mforward\u001b[0;34m(self, input_ids, attention_mask, token_type_ids, position_ids, head_mask, inputs_embeds, start_positions, end_positions)\u001b[0m\n\u001b[1;32m   1446\u001b[0m             \u001b[0mposition_ids\u001b[0m\u001b[0;34m=\u001b[0m\u001b[0mposition_ids\u001b[0m\u001b[0;34m,\u001b[0m\u001b[0;34m\u001b[0m\u001b[0;34m\u001b[0m\u001b[0m\n\u001b[1;32m   1447\u001b[0m             \u001b[0mhead_mask\u001b[0m\u001b[0;34m=\u001b[0m\u001b[0mhead_mask\u001b[0m\u001b[0;34m,\u001b[0m\u001b[0;34m\u001b[0m\u001b[0;34m\u001b[0m\u001b[0m\n\u001b[0;32m-> 1448\u001b[0;31m             \u001b[0minputs_embeds\u001b[0m\u001b[0;34m=\u001b[0m\u001b[0minputs_embeds\u001b[0m\u001b[0;34m,\u001b[0m\u001b[0;34m\u001b[0m\u001b[0;34m\u001b[0m\u001b[0m\n\u001b[0m\u001b[1;32m   1449\u001b[0m         )\n\u001b[1;32m   1450\u001b[0m \u001b[0;34m\u001b[0m\u001b[0m\n",
      "\u001b[0;32m~/anaconda3/envs/pytorch_p36/lib/python3.6/site-packages/torch/nn/modules/module.py\u001b[0m in \u001b[0;36m__call__\u001b[0;34m(self, *input, **kwargs)\u001b[0m\n\u001b[1;32m    530\u001b[0m             \u001b[0mresult\u001b[0m \u001b[0;34m=\u001b[0m \u001b[0mself\u001b[0m\u001b[0;34m.\u001b[0m\u001b[0m_slow_forward\u001b[0m\u001b[0;34m(\u001b[0m\u001b[0;34m*\u001b[0m\u001b[0minput\u001b[0m\u001b[0;34m,\u001b[0m \u001b[0;34m**\u001b[0m\u001b[0mkwargs\u001b[0m\u001b[0;34m)\u001b[0m\u001b[0;34m\u001b[0m\u001b[0;34m\u001b[0m\u001b[0m\n\u001b[1;32m    531\u001b[0m         \u001b[0;32melse\u001b[0m\u001b[0;34m:\u001b[0m\u001b[0;34m\u001b[0m\u001b[0;34m\u001b[0m\u001b[0m\n\u001b[0;32m--> 532\u001b[0;31m             \u001b[0mresult\u001b[0m \u001b[0;34m=\u001b[0m \u001b[0mself\u001b[0m\u001b[0;34m.\u001b[0m\u001b[0mforward\u001b[0m\u001b[0;34m(\u001b[0m\u001b[0;34m*\u001b[0m\u001b[0minput\u001b[0m\u001b[0;34m,\u001b[0m \u001b[0;34m**\u001b[0m\u001b[0mkwargs\u001b[0m\u001b[0;34m)\u001b[0m\u001b[0;34m\u001b[0m\u001b[0;34m\u001b[0m\u001b[0m\n\u001b[0m\u001b[1;32m    533\u001b[0m         \u001b[0;32mfor\u001b[0m \u001b[0mhook\u001b[0m \u001b[0;32min\u001b[0m \u001b[0mself\u001b[0m\u001b[0;34m.\u001b[0m\u001b[0m_forward_hooks\u001b[0m\u001b[0;34m.\u001b[0m\u001b[0mvalues\u001b[0m\u001b[0;34m(\u001b[0m\u001b[0;34m)\u001b[0m\u001b[0;34m:\u001b[0m\u001b[0;34m\u001b[0m\u001b[0;34m\u001b[0m\u001b[0m\n\u001b[1;32m    534\u001b[0m             \u001b[0mhook_result\u001b[0m \u001b[0;34m=\u001b[0m \u001b[0mhook\u001b[0m\u001b[0;34m(\u001b[0m\u001b[0mself\u001b[0m\u001b[0;34m,\u001b[0m \u001b[0minput\u001b[0m\u001b[0;34m,\u001b[0m \u001b[0mresult\u001b[0m\u001b[0;34m)\u001b[0m\u001b[0;34m\u001b[0m\u001b[0;34m\u001b[0m\u001b[0m\n",
      "\u001b[0;32m~/anaconda3/envs/pytorch_p36/lib/python3.6/site-packages/transformers/modeling_bert.py\u001b[0m in \u001b[0;36mforward\u001b[0;34m(self, input_ids, attention_mask, token_type_ids, position_ids, head_mask, inputs_embeds, encoder_hidden_states, encoder_attention_mask)\u001b[0m\n\u001b[1;32m    734\u001b[0m             \u001b[0mhead_mask\u001b[0m\u001b[0;34m=\u001b[0m\u001b[0mhead_mask\u001b[0m\u001b[0;34m,\u001b[0m\u001b[0;34m\u001b[0m\u001b[0;34m\u001b[0m\u001b[0m\n\u001b[1;32m    735\u001b[0m             \u001b[0mencoder_hidden_states\u001b[0m\u001b[0;34m=\u001b[0m\u001b[0mencoder_hidden_states\u001b[0m\u001b[0;34m,\u001b[0m\u001b[0;34m\u001b[0m\u001b[0;34m\u001b[0m\u001b[0m\n\u001b[0;32m--> 736\u001b[0;31m             \u001b[0mencoder_attention_mask\u001b[0m\u001b[0;34m=\u001b[0m\u001b[0mencoder_extended_attention_mask\u001b[0m\u001b[0;34m,\u001b[0m\u001b[0;34m\u001b[0m\u001b[0;34m\u001b[0m\u001b[0m\n\u001b[0m\u001b[1;32m    737\u001b[0m         )\n\u001b[1;32m    738\u001b[0m         \u001b[0msequence_output\u001b[0m \u001b[0;34m=\u001b[0m \u001b[0mencoder_outputs\u001b[0m\u001b[0;34m[\u001b[0m\u001b[0;36m0\u001b[0m\u001b[0;34m]\u001b[0m\u001b[0;34m\u001b[0m\u001b[0;34m\u001b[0m\u001b[0m\n",
      "\u001b[0;32m~/anaconda3/envs/pytorch_p36/lib/python3.6/site-packages/torch/nn/modules/module.py\u001b[0m in \u001b[0;36m__call__\u001b[0;34m(self, *input, **kwargs)\u001b[0m\n\u001b[1;32m    530\u001b[0m             \u001b[0mresult\u001b[0m \u001b[0;34m=\u001b[0m \u001b[0mself\u001b[0m\u001b[0;34m.\u001b[0m\u001b[0m_slow_forward\u001b[0m\u001b[0;34m(\u001b[0m\u001b[0;34m*\u001b[0m\u001b[0minput\u001b[0m\u001b[0;34m,\u001b[0m \u001b[0;34m**\u001b[0m\u001b[0mkwargs\u001b[0m\u001b[0;34m)\u001b[0m\u001b[0;34m\u001b[0m\u001b[0;34m\u001b[0m\u001b[0m\n\u001b[1;32m    531\u001b[0m         \u001b[0;32melse\u001b[0m\u001b[0;34m:\u001b[0m\u001b[0;34m\u001b[0m\u001b[0;34m\u001b[0m\u001b[0m\n\u001b[0;32m--> 532\u001b[0;31m             \u001b[0mresult\u001b[0m \u001b[0;34m=\u001b[0m \u001b[0mself\u001b[0m\u001b[0;34m.\u001b[0m\u001b[0mforward\u001b[0m\u001b[0;34m(\u001b[0m\u001b[0;34m*\u001b[0m\u001b[0minput\u001b[0m\u001b[0;34m,\u001b[0m \u001b[0;34m**\u001b[0m\u001b[0mkwargs\u001b[0m\u001b[0;34m)\u001b[0m\u001b[0;34m\u001b[0m\u001b[0;34m\u001b[0m\u001b[0m\n\u001b[0m\u001b[1;32m    533\u001b[0m         \u001b[0;32mfor\u001b[0m \u001b[0mhook\u001b[0m \u001b[0;32min\u001b[0m \u001b[0mself\u001b[0m\u001b[0;34m.\u001b[0m\u001b[0m_forward_hooks\u001b[0m\u001b[0;34m.\u001b[0m\u001b[0mvalues\u001b[0m\u001b[0;34m(\u001b[0m\u001b[0;34m)\u001b[0m\u001b[0;34m:\u001b[0m\u001b[0;34m\u001b[0m\u001b[0;34m\u001b[0m\u001b[0m\n\u001b[1;32m    534\u001b[0m             \u001b[0mhook_result\u001b[0m \u001b[0;34m=\u001b[0m \u001b[0mhook\u001b[0m\u001b[0;34m(\u001b[0m\u001b[0mself\u001b[0m\u001b[0;34m,\u001b[0m \u001b[0minput\u001b[0m\u001b[0;34m,\u001b[0m \u001b[0mresult\u001b[0m\u001b[0;34m)\u001b[0m\u001b[0;34m\u001b[0m\u001b[0;34m\u001b[0m\u001b[0m\n",
      "\u001b[0;32m~/anaconda3/envs/pytorch_p36/lib/python3.6/site-packages/transformers/modeling_bert.py\u001b[0m in \u001b[0;36mforward\u001b[0;34m(self, hidden_states, attention_mask, head_mask, encoder_hidden_states, encoder_attention_mask)\u001b[0m\n\u001b[1;32m    405\u001b[0m \u001b[0;34m\u001b[0m\u001b[0m\n\u001b[1;32m    406\u001b[0m             layer_outputs = layer_module(\n\u001b[0;32m--> 407\u001b[0;31m                 \u001b[0mhidden_states\u001b[0m\u001b[0;34m,\u001b[0m \u001b[0mattention_mask\u001b[0m\u001b[0;34m,\u001b[0m \u001b[0mhead_mask\u001b[0m\u001b[0;34m[\u001b[0m\u001b[0mi\u001b[0m\u001b[0;34m]\u001b[0m\u001b[0;34m,\u001b[0m \u001b[0mencoder_hidden_states\u001b[0m\u001b[0;34m,\u001b[0m \u001b[0mencoder_attention_mask\u001b[0m\u001b[0;34m\u001b[0m\u001b[0;34m\u001b[0m\u001b[0m\n\u001b[0m\u001b[1;32m    408\u001b[0m             )\n\u001b[1;32m    409\u001b[0m             \u001b[0mhidden_states\u001b[0m \u001b[0;34m=\u001b[0m \u001b[0mlayer_outputs\u001b[0m\u001b[0;34m[\u001b[0m\u001b[0;36m0\u001b[0m\u001b[0;34m]\u001b[0m\u001b[0;34m\u001b[0m\u001b[0;34m\u001b[0m\u001b[0m\n",
      "\u001b[0;32m~/anaconda3/envs/pytorch_p36/lib/python3.6/site-packages/torch/nn/modules/module.py\u001b[0m in \u001b[0;36m__call__\u001b[0;34m(self, *input, **kwargs)\u001b[0m\n\u001b[1;32m    530\u001b[0m             \u001b[0mresult\u001b[0m \u001b[0;34m=\u001b[0m \u001b[0mself\u001b[0m\u001b[0;34m.\u001b[0m\u001b[0m_slow_forward\u001b[0m\u001b[0;34m(\u001b[0m\u001b[0;34m*\u001b[0m\u001b[0minput\u001b[0m\u001b[0;34m,\u001b[0m \u001b[0;34m**\u001b[0m\u001b[0mkwargs\u001b[0m\u001b[0;34m)\u001b[0m\u001b[0;34m\u001b[0m\u001b[0;34m\u001b[0m\u001b[0m\n\u001b[1;32m    531\u001b[0m         \u001b[0;32melse\u001b[0m\u001b[0;34m:\u001b[0m\u001b[0;34m\u001b[0m\u001b[0;34m\u001b[0m\u001b[0m\n\u001b[0;32m--> 532\u001b[0;31m             \u001b[0mresult\u001b[0m \u001b[0;34m=\u001b[0m \u001b[0mself\u001b[0m\u001b[0;34m.\u001b[0m\u001b[0mforward\u001b[0m\u001b[0;34m(\u001b[0m\u001b[0;34m*\u001b[0m\u001b[0minput\u001b[0m\u001b[0;34m,\u001b[0m \u001b[0;34m**\u001b[0m\u001b[0mkwargs\u001b[0m\u001b[0;34m)\u001b[0m\u001b[0;34m\u001b[0m\u001b[0;34m\u001b[0m\u001b[0m\n\u001b[0m\u001b[1;32m    533\u001b[0m         \u001b[0;32mfor\u001b[0m \u001b[0mhook\u001b[0m \u001b[0;32min\u001b[0m \u001b[0mself\u001b[0m\u001b[0;34m.\u001b[0m\u001b[0m_forward_hooks\u001b[0m\u001b[0;34m.\u001b[0m\u001b[0mvalues\u001b[0m\u001b[0;34m(\u001b[0m\u001b[0;34m)\u001b[0m\u001b[0;34m:\u001b[0m\u001b[0;34m\u001b[0m\u001b[0;34m\u001b[0m\u001b[0m\n\u001b[1;32m    534\u001b[0m             \u001b[0mhook_result\u001b[0m \u001b[0;34m=\u001b[0m \u001b[0mhook\u001b[0m\u001b[0;34m(\u001b[0m\u001b[0mself\u001b[0m\u001b[0;34m,\u001b[0m \u001b[0minput\u001b[0m\u001b[0;34m,\u001b[0m \u001b[0mresult\u001b[0m\u001b[0;34m)\u001b[0m\u001b[0;34m\u001b[0m\u001b[0;34m\u001b[0m\u001b[0m\n",
      "\u001b[0;32m~/anaconda3/envs/pytorch_p36/lib/python3.6/site-packages/transformers/modeling_bert.py\u001b[0m in \u001b[0;36mforward\u001b[0;34m(self, hidden_states, attention_mask, head_mask, encoder_hidden_states, encoder_attention_mask)\u001b[0m\n\u001b[1;32m    366\u001b[0m         \u001b[0mencoder_attention_mask\u001b[0m\u001b[0;34m=\u001b[0m\u001b[0;32mNone\u001b[0m\u001b[0;34m,\u001b[0m\u001b[0;34m\u001b[0m\u001b[0;34m\u001b[0m\u001b[0m\n\u001b[1;32m    367\u001b[0m     ):\n\u001b[0;32m--> 368\u001b[0;31m         \u001b[0mself_attention_outputs\u001b[0m \u001b[0;34m=\u001b[0m \u001b[0mself\u001b[0m\u001b[0;34m.\u001b[0m\u001b[0mattention\u001b[0m\u001b[0;34m(\u001b[0m\u001b[0mhidden_states\u001b[0m\u001b[0;34m,\u001b[0m \u001b[0mattention_mask\u001b[0m\u001b[0;34m,\u001b[0m \u001b[0mhead_mask\u001b[0m\u001b[0;34m)\u001b[0m\u001b[0;34m\u001b[0m\u001b[0;34m\u001b[0m\u001b[0m\n\u001b[0m\u001b[1;32m    369\u001b[0m         \u001b[0mattention_output\u001b[0m \u001b[0;34m=\u001b[0m \u001b[0mself_attention_outputs\u001b[0m\u001b[0;34m[\u001b[0m\u001b[0;36m0\u001b[0m\u001b[0;34m]\u001b[0m\u001b[0;34m\u001b[0m\u001b[0;34m\u001b[0m\u001b[0m\n\u001b[1;32m    370\u001b[0m         \u001b[0moutputs\u001b[0m \u001b[0;34m=\u001b[0m \u001b[0mself_attention_outputs\u001b[0m\u001b[0;34m[\u001b[0m\u001b[0;36m1\u001b[0m\u001b[0;34m:\u001b[0m\u001b[0;34m]\u001b[0m  \u001b[0;31m# add self attentions if we output attention weights\u001b[0m\u001b[0;34m\u001b[0m\u001b[0;34m\u001b[0m\u001b[0m\n",
      "\u001b[0;32m~/anaconda3/envs/pytorch_p36/lib/python3.6/site-packages/torch/nn/modules/module.py\u001b[0m in \u001b[0;36m__call__\u001b[0;34m(self, *input, **kwargs)\u001b[0m\n\u001b[1;32m    530\u001b[0m             \u001b[0mresult\u001b[0m \u001b[0;34m=\u001b[0m \u001b[0mself\u001b[0m\u001b[0;34m.\u001b[0m\u001b[0m_slow_forward\u001b[0m\u001b[0;34m(\u001b[0m\u001b[0;34m*\u001b[0m\u001b[0minput\u001b[0m\u001b[0;34m,\u001b[0m \u001b[0;34m**\u001b[0m\u001b[0mkwargs\u001b[0m\u001b[0;34m)\u001b[0m\u001b[0;34m\u001b[0m\u001b[0;34m\u001b[0m\u001b[0m\n\u001b[1;32m    531\u001b[0m         \u001b[0;32melse\u001b[0m\u001b[0;34m:\u001b[0m\u001b[0;34m\u001b[0m\u001b[0;34m\u001b[0m\u001b[0m\n\u001b[0;32m--> 532\u001b[0;31m             \u001b[0mresult\u001b[0m \u001b[0;34m=\u001b[0m \u001b[0mself\u001b[0m\u001b[0;34m.\u001b[0m\u001b[0mforward\u001b[0m\u001b[0;34m(\u001b[0m\u001b[0;34m*\u001b[0m\u001b[0minput\u001b[0m\u001b[0;34m,\u001b[0m \u001b[0;34m**\u001b[0m\u001b[0mkwargs\u001b[0m\u001b[0;34m)\u001b[0m\u001b[0;34m\u001b[0m\u001b[0;34m\u001b[0m\u001b[0m\n\u001b[0m\u001b[1;32m    533\u001b[0m         \u001b[0;32mfor\u001b[0m \u001b[0mhook\u001b[0m \u001b[0;32min\u001b[0m \u001b[0mself\u001b[0m\u001b[0;34m.\u001b[0m\u001b[0m_forward_hooks\u001b[0m\u001b[0;34m.\u001b[0m\u001b[0mvalues\u001b[0m\u001b[0;34m(\u001b[0m\u001b[0;34m)\u001b[0m\u001b[0;34m:\u001b[0m\u001b[0;34m\u001b[0m\u001b[0;34m\u001b[0m\u001b[0m\n\u001b[1;32m    534\u001b[0m             \u001b[0mhook_result\u001b[0m \u001b[0;34m=\u001b[0m \u001b[0mhook\u001b[0m\u001b[0;34m(\u001b[0m\u001b[0mself\u001b[0m\u001b[0;34m,\u001b[0m \u001b[0minput\u001b[0m\u001b[0;34m,\u001b[0m \u001b[0mresult\u001b[0m\u001b[0;34m)\u001b[0m\u001b[0;34m\u001b[0m\u001b[0;34m\u001b[0m\u001b[0m\n",
      "\u001b[0;32m~/anaconda3/envs/pytorch_p36/lib/python3.6/site-packages/transformers/modeling_bert.py\u001b[0m in \u001b[0;36mforward\u001b[0;34m(self, hidden_states, attention_mask, head_mask, encoder_hidden_states, encoder_attention_mask)\u001b[0m\n\u001b[1;32m    314\u001b[0m             \u001b[0mhidden_states\u001b[0m\u001b[0;34m,\u001b[0m \u001b[0mattention_mask\u001b[0m\u001b[0;34m,\u001b[0m \u001b[0mhead_mask\u001b[0m\u001b[0;34m,\u001b[0m \u001b[0mencoder_hidden_states\u001b[0m\u001b[0;34m,\u001b[0m \u001b[0mencoder_attention_mask\u001b[0m\u001b[0;34m\u001b[0m\u001b[0;34m\u001b[0m\u001b[0m\n\u001b[1;32m    315\u001b[0m         )\n\u001b[0;32m--> 316\u001b[0;31m         \u001b[0mattention_output\u001b[0m \u001b[0;34m=\u001b[0m \u001b[0mself\u001b[0m\u001b[0;34m.\u001b[0m\u001b[0moutput\u001b[0m\u001b[0;34m(\u001b[0m\u001b[0mself_outputs\u001b[0m\u001b[0;34m[\u001b[0m\u001b[0;36m0\u001b[0m\u001b[0;34m]\u001b[0m\u001b[0;34m,\u001b[0m \u001b[0mhidden_states\u001b[0m\u001b[0;34m)\u001b[0m\u001b[0;34m\u001b[0m\u001b[0;34m\u001b[0m\u001b[0m\n\u001b[0m\u001b[1;32m    317\u001b[0m         \u001b[0moutputs\u001b[0m \u001b[0;34m=\u001b[0m \u001b[0;34m(\u001b[0m\u001b[0mattention_output\u001b[0m\u001b[0;34m,\u001b[0m\u001b[0;34m)\u001b[0m \u001b[0;34m+\u001b[0m \u001b[0mself_outputs\u001b[0m\u001b[0;34m[\u001b[0m\u001b[0;36m1\u001b[0m\u001b[0;34m:\u001b[0m\u001b[0;34m]\u001b[0m  \u001b[0;31m# add attentions if we output them\u001b[0m\u001b[0;34m\u001b[0m\u001b[0;34m\u001b[0m\u001b[0m\n\u001b[1;32m    318\u001b[0m         \u001b[0;32mreturn\u001b[0m \u001b[0moutputs\u001b[0m\u001b[0;34m\u001b[0m\u001b[0;34m\u001b[0m\u001b[0m\n",
      "\u001b[0;32m~/anaconda3/envs/pytorch_p36/lib/python3.6/site-packages/torch/nn/modules/module.py\u001b[0m in \u001b[0;36m__call__\u001b[0;34m(self, *input, **kwargs)\u001b[0m\n\u001b[1;32m    530\u001b[0m             \u001b[0mresult\u001b[0m \u001b[0;34m=\u001b[0m \u001b[0mself\u001b[0m\u001b[0;34m.\u001b[0m\u001b[0m_slow_forward\u001b[0m\u001b[0;34m(\u001b[0m\u001b[0;34m*\u001b[0m\u001b[0minput\u001b[0m\u001b[0;34m,\u001b[0m \u001b[0;34m**\u001b[0m\u001b[0mkwargs\u001b[0m\u001b[0;34m)\u001b[0m\u001b[0;34m\u001b[0m\u001b[0;34m\u001b[0m\u001b[0m\n\u001b[1;32m    531\u001b[0m         \u001b[0;32melse\u001b[0m\u001b[0;34m:\u001b[0m\u001b[0;34m\u001b[0m\u001b[0;34m\u001b[0m\u001b[0m\n\u001b[0;32m--> 532\u001b[0;31m             \u001b[0mresult\u001b[0m \u001b[0;34m=\u001b[0m \u001b[0mself\u001b[0m\u001b[0;34m.\u001b[0m\u001b[0mforward\u001b[0m\u001b[0;34m(\u001b[0m\u001b[0;34m*\u001b[0m\u001b[0minput\u001b[0m\u001b[0;34m,\u001b[0m \u001b[0;34m**\u001b[0m\u001b[0mkwargs\u001b[0m\u001b[0;34m)\u001b[0m\u001b[0;34m\u001b[0m\u001b[0;34m\u001b[0m\u001b[0m\n\u001b[0m\u001b[1;32m    533\u001b[0m         \u001b[0;32mfor\u001b[0m \u001b[0mhook\u001b[0m \u001b[0;32min\u001b[0m \u001b[0mself\u001b[0m\u001b[0;34m.\u001b[0m\u001b[0m_forward_hooks\u001b[0m\u001b[0;34m.\u001b[0m\u001b[0mvalues\u001b[0m\u001b[0;34m(\u001b[0m\u001b[0;34m)\u001b[0m\u001b[0;34m:\u001b[0m\u001b[0;34m\u001b[0m\u001b[0;34m\u001b[0m\u001b[0m\n\u001b[1;32m    534\u001b[0m             \u001b[0mhook_result\u001b[0m \u001b[0;34m=\u001b[0m \u001b[0mhook\u001b[0m\u001b[0;34m(\u001b[0m\u001b[0mself\u001b[0m\u001b[0;34m,\u001b[0m \u001b[0minput\u001b[0m\u001b[0;34m,\u001b[0m \u001b[0mresult\u001b[0m\u001b[0;34m)\u001b[0m\u001b[0;34m\u001b[0m\u001b[0;34m\u001b[0m\u001b[0m\n",
      "\u001b[0;32m~/anaconda3/envs/pytorch_p36/lib/python3.6/site-packages/transformers/modeling_bert.py\u001b[0m in \u001b[0;36mforward\u001b[0;34m(self, hidden_states, input_tensor)\u001b[0m\n\u001b[1;32m    268\u001b[0m     \u001b[0;32mdef\u001b[0m \u001b[0mforward\u001b[0m\u001b[0;34m(\u001b[0m\u001b[0mself\u001b[0m\u001b[0;34m,\u001b[0m \u001b[0mhidden_states\u001b[0m\u001b[0;34m,\u001b[0m \u001b[0minput_tensor\u001b[0m\u001b[0;34m)\u001b[0m\u001b[0;34m:\u001b[0m\u001b[0;34m\u001b[0m\u001b[0;34m\u001b[0m\u001b[0m\n\u001b[1;32m    269\u001b[0m         \u001b[0mhidden_states\u001b[0m \u001b[0;34m=\u001b[0m \u001b[0mself\u001b[0m\u001b[0;34m.\u001b[0m\u001b[0mdense\u001b[0m\u001b[0;34m(\u001b[0m\u001b[0mhidden_states\u001b[0m\u001b[0;34m)\u001b[0m\u001b[0;34m\u001b[0m\u001b[0;34m\u001b[0m\u001b[0m\n\u001b[0;32m--> 270\u001b[0;31m         \u001b[0mhidden_states\u001b[0m \u001b[0;34m=\u001b[0m \u001b[0mself\u001b[0m\u001b[0;34m.\u001b[0m\u001b[0mdropout\u001b[0m\u001b[0;34m(\u001b[0m\u001b[0mhidden_states\u001b[0m\u001b[0;34m)\u001b[0m\u001b[0;34m\u001b[0m\u001b[0;34m\u001b[0m\u001b[0m\n\u001b[0m\u001b[1;32m    271\u001b[0m         \u001b[0mhidden_states\u001b[0m \u001b[0;34m=\u001b[0m \u001b[0mself\u001b[0m\u001b[0;34m.\u001b[0m\u001b[0mLayerNorm\u001b[0m\u001b[0;34m(\u001b[0m\u001b[0mhidden_states\u001b[0m \u001b[0;34m+\u001b[0m \u001b[0minput_tensor\u001b[0m\u001b[0;34m)\u001b[0m\u001b[0;34m\u001b[0m\u001b[0;34m\u001b[0m\u001b[0m\n\u001b[1;32m    272\u001b[0m         \u001b[0;32mreturn\u001b[0m \u001b[0mhidden_states\u001b[0m\u001b[0;34m\u001b[0m\u001b[0;34m\u001b[0m\u001b[0m\n",
      "\u001b[0;32m~/anaconda3/envs/pytorch_p36/lib/python3.6/site-packages/torch/nn/modules/module.py\u001b[0m in \u001b[0;36m__call__\u001b[0;34m(self, *input, **kwargs)\u001b[0m\n\u001b[1;32m    527\u001b[0m                     \u001b[0mresult\u001b[0m \u001b[0;34m=\u001b[0m \u001b[0;34m(\u001b[0m\u001b[0mresult\u001b[0m\u001b[0;34m,\u001b[0m\u001b[0;34m)\u001b[0m\u001b[0;34m\u001b[0m\u001b[0;34m\u001b[0m\u001b[0m\n\u001b[1;32m    528\u001b[0m                 \u001b[0minput\u001b[0m \u001b[0;34m=\u001b[0m \u001b[0mresult\u001b[0m\u001b[0;34m\u001b[0m\u001b[0;34m\u001b[0m\u001b[0m\n\u001b[0;32m--> 529\u001b[0;31m         \u001b[0;32mif\u001b[0m \u001b[0mtorch\u001b[0m\u001b[0;34m.\u001b[0m\u001b[0m_C\u001b[0m\u001b[0;34m.\u001b[0m\u001b[0m_get_tracing_state\u001b[0m\u001b[0;34m(\u001b[0m\u001b[0;34m)\u001b[0m\u001b[0;34m:\u001b[0m\u001b[0;34m\u001b[0m\u001b[0;34m\u001b[0m\u001b[0m\n\u001b[0m\u001b[1;32m    530\u001b[0m             \u001b[0mresult\u001b[0m \u001b[0;34m=\u001b[0m \u001b[0mself\u001b[0m\u001b[0;34m.\u001b[0m\u001b[0m_slow_forward\u001b[0m\u001b[0;34m(\u001b[0m\u001b[0;34m*\u001b[0m\u001b[0minput\u001b[0m\u001b[0;34m,\u001b[0m \u001b[0;34m**\u001b[0m\u001b[0mkwargs\u001b[0m\u001b[0;34m)\u001b[0m\u001b[0;34m\u001b[0m\u001b[0;34m\u001b[0m\u001b[0m\n\u001b[1;32m    531\u001b[0m         \u001b[0;32melse\u001b[0m\u001b[0;34m:\u001b[0m\u001b[0;34m\u001b[0m\u001b[0;34m\u001b[0m\u001b[0m\n",
      "\u001b[0;31mKeyboardInterrupt\u001b[0m: "
     ]
    }
   ],
   "source": [
    "for i in ap_dataframe.index:\n",
    "    line=ap_dataframe.loc[i]\n",
    "    dct=line[\"text_dict\"]\n",
    "    for key in dct.keys():\n",
    "        answer=answer_question(Q_example,dct[key])[0]\n",
    "        s_score=answer_question(Q_example,dct[key])[1]\n",
    "        token_len=answer_question(Q_example,dct[key])[2]\n",
    "        if (answer!=\"[CLS]\") & (float(s_score)>0) & (answer!=Q_example_a):\n",
    "            print(answer)\n",
    "            print(s_score)\n",
    "            print(token_len)"
   ]
  },
  {
   "cell_type": "markdown",
   "metadata": {
    "colab_type": "text",
    "id": "pNRVuaKSNFG8"
   },
   "source": [
    "Just to see exactly what the tokenizer is doing, let's print out the tokens with their IDs."
   ]
  },
  {
   "cell_type": "code",
   "execution_count": null,
   "metadata": {},
   "outputs": [],
   "source": []
  }
 ],
 "metadata": {
  "colab": {
   "collapsed_sections": [],
   "name": "Question Answering with a Fine-Tuned BERT.ipynb",
   "provenance": [],
   "toc_visible": true
  },
  "kernelspec": {
   "display_name": "Environment (conda_pytorch_p36)",
   "language": "python",
   "name": "conda_pytorch_p36"
  },
  "language_info": {
   "codemirror_mode": {
    "name": "ipython",
    "version": 3
   },
   "file_extension": ".py",
   "mimetype": "text/x-python",
   "name": "python",
   "nbconvert_exporter": "python",
   "pygments_lexer": "ipython3",
   "version": "3.6.10"
  },
  "widgets": {
   "application/vnd.jupyter.widget-state+json": {
    "0619db0363894129880d090367b4194a": {
     "model_module": "@jupyter-widgets/controls",
     "model_name": "DescriptionStyleModel",
     "state": {
      "_model_module": "@jupyter-widgets/controls",
      "_model_module_version": "1.5.0",
      "_model_name": "DescriptionStyleModel",
      "_view_count": null,
      "_view_module": "@jupyter-widgets/base",
      "_view_module_version": "1.2.0",
      "_view_name": "StyleView",
      "description_width": ""
     }
    },
    "0c5547ffbd4143609051b231a14853e1": {
     "model_module": "@jupyter-widgets/base",
     "model_name": "LayoutModel",
     "state": {
      "_model_module": "@jupyter-widgets/base",
      "_model_module_version": "1.2.0",
      "_model_name": "LayoutModel",
      "_view_count": null,
      "_view_module": "@jupyter-widgets/base",
      "_view_module_version": "1.2.0",
      "_view_name": "LayoutView",
      "align_content": null,
      "align_items": null,
      "align_self": null,
      "border": null,
      "bottom": null,
      "display": null,
      "flex": null,
      "flex_flow": null,
      "grid_area": null,
      "grid_auto_columns": null,
      "grid_auto_flow": null,
      "grid_auto_rows": null,
      "grid_column": null,
      "grid_gap": null,
      "grid_row": null,
      "grid_template_areas": null,
      "grid_template_columns": null,
      "grid_template_rows": null,
      "height": null,
      "justify_content": null,
      "justify_items": null,
      "left": null,
      "margin": null,
      "max_height": null,
      "max_width": null,
      "min_height": null,
      "min_width": null,
      "object_fit": null,
      "object_position": null,
      "order": null,
      "overflow": null,
      "overflow_x": null,
      "overflow_y": null,
      "padding": null,
      "right": null,
      "top": null,
      "visibility": null,
      "width": null
     }
    },
    "0e044677b4fc4ffe809b318e8963e08a": {
     "model_module": "@jupyter-widgets/controls",
     "model_name": "ProgressStyleModel",
     "state": {
      "_model_module": "@jupyter-widgets/controls",
      "_model_module_version": "1.5.0",
      "_model_name": "ProgressStyleModel",
      "_view_count": null,
      "_view_module": "@jupyter-widgets/base",
      "_view_module_version": "1.2.0",
      "_view_name": "StyleView",
      "bar_color": null,
      "description_width": "initial"
     }
    },
    "1e6e46c1520d4a309d77a4ff7cc07900": {
     "model_module": "@jupyter-widgets/base",
     "model_name": "LayoutModel",
     "state": {
      "_model_module": "@jupyter-widgets/base",
      "_model_module_version": "1.2.0",
      "_model_name": "LayoutModel",
      "_view_count": null,
      "_view_module": "@jupyter-widgets/base",
      "_view_module_version": "1.2.0",
      "_view_name": "LayoutView",
      "align_content": null,
      "align_items": null,
      "align_self": null,
      "border": null,
      "bottom": null,
      "display": null,
      "flex": null,
      "flex_flow": null,
      "grid_area": null,
      "grid_auto_columns": null,
      "grid_auto_flow": null,
      "grid_auto_rows": null,
      "grid_column": null,
      "grid_gap": null,
      "grid_row": null,
      "grid_template_areas": null,
      "grid_template_columns": null,
      "grid_template_rows": null,
      "height": null,
      "justify_content": null,
      "justify_items": null,
      "left": null,
      "margin": null,
      "max_height": null,
      "max_width": null,
      "min_height": null,
      "min_width": null,
      "object_fit": null,
      "object_position": null,
      "order": null,
      "overflow": null,
      "overflow_x": null,
      "overflow_y": null,
      "padding": null,
      "right": null,
      "top": null,
      "visibility": null,
      "width": null
     }
    },
    "2b6be0f1b89044c3a934f3eccf29cf54": {
     "model_module": "@jupyter-widgets/base",
     "model_name": "LayoutModel",
     "state": {
      "_model_module": "@jupyter-widgets/base",
      "_model_module_version": "1.2.0",
      "_model_name": "LayoutModel",
      "_view_count": null,
      "_view_module": "@jupyter-widgets/base",
      "_view_module_version": "1.2.0",
      "_view_name": "LayoutView",
      "align_content": null,
      "align_items": null,
      "align_self": null,
      "border": null,
      "bottom": null,
      "display": null,
      "flex": null,
      "flex_flow": null,
      "grid_area": null,
      "grid_auto_columns": null,
      "grid_auto_flow": null,
      "grid_auto_rows": null,
      "grid_column": null,
      "grid_gap": null,
      "grid_row": null,
      "grid_template_areas": null,
      "grid_template_columns": null,
      "grid_template_rows": null,
      "height": null,
      "justify_content": null,
      "justify_items": null,
      "left": null,
      "margin": null,
      "max_height": null,
      "max_width": null,
      "min_height": null,
      "min_width": null,
      "object_fit": null,
      "object_position": null,
      "order": null,
      "overflow": null,
      "overflow_x": null,
      "overflow_y": null,
      "padding": null,
      "right": null,
      "top": null,
      "visibility": null,
      "width": null
     }
    },
    "461b9936e0864bc1aac73925b730ef7f": {
     "model_module": "@jupyter-widgets/controls",
     "model_name": "HTMLModel",
     "state": {
      "_dom_classes": [],
      "_model_module": "@jupyter-widgets/controls",
      "_model_module_version": "1.5.0",
      "_model_name": "HTMLModel",
      "_view_count": null,
      "_view_module": "@jupyter-widgets/controls",
      "_view_module_version": "1.5.0",
      "_view_name": "HTMLView",
      "description": "",
      "description_tooltip": null,
      "layout": "IPY_MODEL_2b6be0f1b89044c3a934f3eccf29cf54",
      "placeholder": "​",
      "style": "IPY_MODEL_bd8a1fa1079448f585e87dafcd856bfc",
      "value": "100% 398/398 [00:00&lt;00:00, 11.2kB/s]"
     }
    },
    "49263ffffaee42438fc699c57fab7814": {
     "model_module": "@jupyter-widgets/controls",
     "model_name": "ProgressStyleModel",
     "state": {
      "_model_module": "@jupyter-widgets/controls",
      "_model_module_version": "1.5.0",
      "_model_name": "ProgressStyleModel",
      "_view_count": null,
      "_view_module": "@jupyter-widgets/base",
      "_view_module_version": "1.2.0",
      "_view_name": "StyleView",
      "bar_color": null,
      "description_width": "initial"
     }
    },
    "549ca681c27743aa8c28af40d2185900": {
     "model_module": "@jupyter-widgets/controls",
     "model_name": "HBoxModel",
     "state": {
      "_dom_classes": [],
      "_model_module": "@jupyter-widgets/controls",
      "_model_module_version": "1.5.0",
      "_model_name": "HBoxModel",
      "_view_count": null,
      "_view_module": "@jupyter-widgets/controls",
      "_view_module_version": "1.5.0",
      "_view_name": "HBoxView",
      "box_style": "",
      "children": [
       "IPY_MODEL_8665ab6d11084a6e980121c5475d8170",
       "IPY_MODEL_461b9936e0864bc1aac73925b730ef7f"
      ],
      "layout": "IPY_MODEL_0c5547ffbd4143609051b231a14853e1"
     }
    },
    "632ff7bd64cf4b2c92acee6f0f17d6db": {
     "model_module": "@jupyter-widgets/controls",
     "model_name": "HBoxModel",
     "state": {
      "_dom_classes": [],
      "_model_module": "@jupyter-widgets/controls",
      "_model_module_version": "1.5.0",
      "_model_name": "HBoxModel",
      "_view_count": null,
      "_view_module": "@jupyter-widgets/controls",
      "_view_module_version": "1.5.0",
      "_view_name": "HBoxView",
      "box_style": "",
      "children": [
       "IPY_MODEL_f6590ea2e9c14d3099b9999ce1a4602a",
       "IPY_MODEL_b3e5f72146e0406d9977465e9549419f"
      ],
      "layout": "IPY_MODEL_87719f2515a34ba49761e7f18772a90d"
     }
    },
    "6f9df97c25e84e7d8efccce6cde22fbc": {
     "model_module": "@jupyter-widgets/controls",
     "model_name": "HBoxModel",
     "state": {
      "_dom_classes": [],
      "_model_module": "@jupyter-widgets/controls",
      "_model_module_version": "1.5.0",
      "_model_name": "HBoxModel",
      "_view_count": null,
      "_view_module": "@jupyter-widgets/controls",
      "_view_module_version": "1.5.0",
      "_view_name": "HBoxView",
      "box_style": "",
      "children": [
       "IPY_MODEL_94daf90c961945cdafc12178c3e357e4",
       "IPY_MODEL_82461e6ee22b44918d424f24245bdf0e"
      ],
      "layout": "IPY_MODEL_f3d792809e234442b6c888b56421479d"
     }
    },
    "82461e6ee22b44918d424f24245bdf0e": {
     "model_module": "@jupyter-widgets/controls",
     "model_name": "HTMLModel",
     "state": {
      "_dom_classes": [],
      "_model_module": "@jupyter-widgets/controls",
      "_model_module_version": "1.5.0",
      "_model_name": "HTMLModel",
      "_view_count": null,
      "_view_module": "@jupyter-widgets/controls",
      "_view_module_version": "1.5.0",
      "_view_name": "HTMLView",
      "description": "",
      "description_tooltip": null,
      "layout": "IPY_MODEL_8892ad9564d84ff190062d0a9d5d9f6f",
      "placeholder": "​",
      "style": "IPY_MODEL_e86b7da45ef6466ebf25f28c10df61b8",
      "value": "100% 1.34G/1.34G [00:33&lt;00:00, 40.4MB/s]"
     }
    },
    "8665ab6d11084a6e980121c5475d8170": {
     "model_module": "@jupyter-widgets/controls",
     "model_name": "IntProgressModel",
     "state": {
      "_dom_classes": [],
      "_model_module": "@jupyter-widgets/controls",
      "_model_module_version": "1.5.0",
      "_model_name": "IntProgressModel",
      "_view_count": null,
      "_view_module": "@jupyter-widgets/controls",
      "_view_module_version": "1.5.0",
      "_view_name": "ProgressView",
      "bar_style": "success",
      "description": "Downloading",
      "description_tooltip": null,
      "layout": "IPY_MODEL_1e6e46c1520d4a309d77a4ff7cc07900",
      "max": 398,
      "min": 0,
      "orientation": "horizontal",
      "style": "IPY_MODEL_49263ffffaee42438fc699c57fab7814",
      "value": 398
     }
    },
    "87719f2515a34ba49761e7f18772a90d": {
     "model_module": "@jupyter-widgets/base",
     "model_name": "LayoutModel",
     "state": {
      "_model_module": "@jupyter-widgets/base",
      "_model_module_version": "1.2.0",
      "_model_name": "LayoutModel",
      "_view_count": null,
      "_view_module": "@jupyter-widgets/base",
      "_view_module_version": "1.2.0",
      "_view_name": "LayoutView",
      "align_content": null,
      "align_items": null,
      "align_self": null,
      "border": null,
      "bottom": null,
      "display": null,
      "flex": null,
      "flex_flow": null,
      "grid_area": null,
      "grid_auto_columns": null,
      "grid_auto_flow": null,
      "grid_auto_rows": null,
      "grid_column": null,
      "grid_gap": null,
      "grid_row": null,
      "grid_template_areas": null,
      "grid_template_columns": null,
      "grid_template_rows": null,
      "height": null,
      "justify_content": null,
      "justify_items": null,
      "left": null,
      "margin": null,
      "max_height": null,
      "max_width": null,
      "min_height": null,
      "min_width": null,
      "object_fit": null,
      "object_position": null,
      "order": null,
      "overflow": null,
      "overflow_x": null,
      "overflow_y": null,
      "padding": null,
      "right": null,
      "top": null,
      "visibility": null,
      "width": null
     }
    },
    "8892ad9564d84ff190062d0a9d5d9f6f": {
     "model_module": "@jupyter-widgets/base",
     "model_name": "LayoutModel",
     "state": {
      "_model_module": "@jupyter-widgets/base",
      "_model_module_version": "1.2.0",
      "_model_name": "LayoutModel",
      "_view_count": null,
      "_view_module": "@jupyter-widgets/base",
      "_view_module_version": "1.2.0",
      "_view_name": "LayoutView",
      "align_content": null,
      "align_items": null,
      "align_self": null,
      "border": null,
      "bottom": null,
      "display": null,
      "flex": null,
      "flex_flow": null,
      "grid_area": null,
      "grid_auto_columns": null,
      "grid_auto_flow": null,
      "grid_auto_rows": null,
      "grid_column": null,
      "grid_gap": null,
      "grid_row": null,
      "grid_template_areas": null,
      "grid_template_columns": null,
      "grid_template_rows": null,
      "height": null,
      "justify_content": null,
      "justify_items": null,
      "left": null,
      "margin": null,
      "max_height": null,
      "max_width": null,
      "min_height": null,
      "min_width": null,
      "object_fit": null,
      "object_position": null,
      "order": null,
      "overflow": null,
      "overflow_x": null,
      "overflow_y": null,
      "padding": null,
      "right": null,
      "top": null,
      "visibility": null,
      "width": null
     }
    },
    "930457a02cbe469181b0dbaf1eb9fac0": {
     "model_module": "@jupyter-widgets/base",
     "model_name": "LayoutModel",
     "state": {
      "_model_module": "@jupyter-widgets/base",
      "_model_module_version": "1.2.0",
      "_model_name": "LayoutModel",
      "_view_count": null,
      "_view_module": "@jupyter-widgets/base",
      "_view_module_version": "1.2.0",
      "_view_name": "LayoutView",
      "align_content": null,
      "align_items": null,
      "align_self": null,
      "border": null,
      "bottom": null,
      "display": null,
      "flex": null,
      "flex_flow": null,
      "grid_area": null,
      "grid_auto_columns": null,
      "grid_auto_flow": null,
      "grid_auto_rows": null,
      "grid_column": null,
      "grid_gap": null,
      "grid_row": null,
      "grid_template_areas": null,
      "grid_template_columns": null,
      "grid_template_rows": null,
      "height": null,
      "justify_content": null,
      "justify_items": null,
      "left": null,
      "margin": null,
      "max_height": null,
      "max_width": null,
      "min_height": null,
      "min_width": null,
      "object_fit": null,
      "object_position": null,
      "order": null,
      "overflow": null,
      "overflow_x": null,
      "overflow_y": null,
      "padding": null,
      "right": null,
      "top": null,
      "visibility": null,
      "width": null
     }
    },
    "94daf90c961945cdafc12178c3e357e4": {
     "model_module": "@jupyter-widgets/controls",
     "model_name": "IntProgressModel",
     "state": {
      "_dom_classes": [],
      "_model_module": "@jupyter-widgets/controls",
      "_model_module_version": "1.5.0",
      "_model_name": "IntProgressModel",
      "_view_count": null,
      "_view_module": "@jupyter-widgets/controls",
      "_view_module_version": "1.5.0",
      "_view_name": "ProgressView",
      "bar_style": "success",
      "description": "Downloading",
      "description_tooltip": null,
      "layout": "IPY_MODEL_930457a02cbe469181b0dbaf1eb9fac0",
      "max": 1340675298,
      "min": 0,
      "orientation": "horizontal",
      "style": "IPY_MODEL_0e044677b4fc4ffe809b318e8963e08a",
      "value": 1340675298
     }
    },
    "b3e5f72146e0406d9977465e9549419f": {
     "model_module": "@jupyter-widgets/controls",
     "model_name": "HTMLModel",
     "state": {
      "_dom_classes": [],
      "_model_module": "@jupyter-widgets/controls",
      "_model_module_version": "1.5.0",
      "_model_name": "HTMLModel",
      "_view_count": null,
      "_view_module": "@jupyter-widgets/controls",
      "_view_module_version": "1.5.0",
      "_view_name": "HTMLView",
      "description": "",
      "description_tooltip": null,
      "layout": "IPY_MODEL_c17dfd9c89694880a04d07942db3e426",
      "placeholder": "​",
      "style": "IPY_MODEL_0619db0363894129880d090367b4194a",
      "value": "100% 232k/232k [00:00&lt;00:00, 1.18MB/s]"
     }
    },
    "bd8a1fa1079448f585e87dafcd856bfc": {
     "model_module": "@jupyter-widgets/controls",
     "model_name": "DescriptionStyleModel",
     "state": {
      "_model_module": "@jupyter-widgets/controls",
      "_model_module_version": "1.5.0",
      "_model_name": "DescriptionStyleModel",
      "_view_count": null,
      "_view_module": "@jupyter-widgets/base",
      "_view_module_version": "1.2.0",
      "_view_name": "StyleView",
      "description_width": ""
     }
    },
    "bf4308a7859f4bfd9356215bbd9ef5e4": {
     "model_module": "@jupyter-widgets/controls",
     "model_name": "ProgressStyleModel",
     "state": {
      "_model_module": "@jupyter-widgets/controls",
      "_model_module_version": "1.5.0",
      "_model_name": "ProgressStyleModel",
      "_view_count": null,
      "_view_module": "@jupyter-widgets/base",
      "_view_module_version": "1.2.0",
      "_view_name": "StyleView",
      "bar_color": null,
      "description_width": "initial"
     }
    },
    "c17dfd9c89694880a04d07942db3e426": {
     "model_module": "@jupyter-widgets/base",
     "model_name": "LayoutModel",
     "state": {
      "_model_module": "@jupyter-widgets/base",
      "_model_module_version": "1.2.0",
      "_model_name": "LayoutModel",
      "_view_count": null,
      "_view_module": "@jupyter-widgets/base",
      "_view_module_version": "1.2.0",
      "_view_name": "LayoutView",
      "align_content": null,
      "align_items": null,
      "align_self": null,
      "border": null,
      "bottom": null,
      "display": null,
      "flex": null,
      "flex_flow": null,
      "grid_area": null,
      "grid_auto_columns": null,
      "grid_auto_flow": null,
      "grid_auto_rows": null,
      "grid_column": null,
      "grid_gap": null,
      "grid_row": null,
      "grid_template_areas": null,
      "grid_template_columns": null,
      "grid_template_rows": null,
      "height": null,
      "justify_content": null,
      "justify_items": null,
      "left": null,
      "margin": null,
      "max_height": null,
      "max_width": null,
      "min_height": null,
      "min_width": null,
      "object_fit": null,
      "object_position": null,
      "order": null,
      "overflow": null,
      "overflow_x": null,
      "overflow_y": null,
      "padding": null,
      "right": null,
      "top": null,
      "visibility": null,
      "width": null
     }
    },
    "d0989443c5e84d6b8eeee08879c07db6": {
     "model_module": "@jupyter-widgets/base",
     "model_name": "LayoutModel",
     "state": {
      "_model_module": "@jupyter-widgets/base",
      "_model_module_version": "1.2.0",
      "_model_name": "LayoutModel",
      "_view_count": null,
      "_view_module": "@jupyter-widgets/base",
      "_view_module_version": "1.2.0",
      "_view_name": "LayoutView",
      "align_content": null,
      "align_items": null,
      "align_self": null,
      "border": null,
      "bottom": null,
      "display": null,
      "flex": null,
      "flex_flow": null,
      "grid_area": null,
      "grid_auto_columns": null,
      "grid_auto_flow": null,
      "grid_auto_rows": null,
      "grid_column": null,
      "grid_gap": null,
      "grid_row": null,
      "grid_template_areas": null,
      "grid_template_columns": null,
      "grid_template_rows": null,
      "height": null,
      "justify_content": null,
      "justify_items": null,
      "left": null,
      "margin": null,
      "max_height": null,
      "max_width": null,
      "min_height": null,
      "min_width": null,
      "object_fit": null,
      "object_position": null,
      "order": null,
      "overflow": null,
      "overflow_x": null,
      "overflow_y": null,
      "padding": null,
      "right": null,
      "top": null,
      "visibility": null,
      "width": null
     }
    },
    "e86b7da45ef6466ebf25f28c10df61b8": {
     "model_module": "@jupyter-widgets/controls",
     "model_name": "DescriptionStyleModel",
     "state": {
      "_model_module": "@jupyter-widgets/controls",
      "_model_module_version": "1.5.0",
      "_model_name": "DescriptionStyleModel",
      "_view_count": null,
      "_view_module": "@jupyter-widgets/base",
      "_view_module_version": "1.2.0",
      "_view_name": "StyleView",
      "description_width": ""
     }
    },
    "f3d792809e234442b6c888b56421479d": {
     "model_module": "@jupyter-widgets/base",
     "model_name": "LayoutModel",
     "state": {
      "_model_module": "@jupyter-widgets/base",
      "_model_module_version": "1.2.0",
      "_model_name": "LayoutModel",
      "_view_count": null,
      "_view_module": "@jupyter-widgets/base",
      "_view_module_version": "1.2.0",
      "_view_name": "LayoutView",
      "align_content": null,
      "align_items": null,
      "align_self": null,
      "border": null,
      "bottom": null,
      "display": null,
      "flex": null,
      "flex_flow": null,
      "grid_area": null,
      "grid_auto_columns": null,
      "grid_auto_flow": null,
      "grid_auto_rows": null,
      "grid_column": null,
      "grid_gap": null,
      "grid_row": null,
      "grid_template_areas": null,
      "grid_template_columns": null,
      "grid_template_rows": null,
      "height": null,
      "justify_content": null,
      "justify_items": null,
      "left": null,
      "margin": null,
      "max_height": null,
      "max_width": null,
      "min_height": null,
      "min_width": null,
      "object_fit": null,
      "object_position": null,
      "order": null,
      "overflow": null,
      "overflow_x": null,
      "overflow_y": null,
      "padding": null,
      "right": null,
      "top": null,
      "visibility": null,
      "width": null
     }
    },
    "f6590ea2e9c14d3099b9999ce1a4602a": {
     "model_module": "@jupyter-widgets/controls",
     "model_name": "IntProgressModel",
     "state": {
      "_dom_classes": [],
      "_model_module": "@jupyter-widgets/controls",
      "_model_module_version": "1.5.0",
      "_model_name": "IntProgressModel",
      "_view_count": null,
      "_view_module": "@jupyter-widgets/controls",
      "_view_module_version": "1.5.0",
      "_view_name": "ProgressView",
      "bar_style": "success",
      "description": "Downloading",
      "description_tooltip": null,
      "layout": "IPY_MODEL_d0989443c5e84d6b8eeee08879c07db6",
      "max": 231508,
      "min": 0,
      "orientation": "horizontal",
      "style": "IPY_MODEL_bf4308a7859f4bfd9356215bbd9ef5e4",
      "value": 231508
     }
    }
   }
  }
 },
 "nbformat": 4,
 "nbformat_minor": 1
}
