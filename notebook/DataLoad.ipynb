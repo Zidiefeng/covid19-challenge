{
 "cells": [
  {
   "cell_type": "markdown",
   "metadata": {},
   "source": [
    "https://www.kaggle.com/allen-institute-for-ai/CORD-19-research-challenge/download/CORD-19-research-challenge.zip"
   ]
  },
  {
   "cell_type": "code",
   "execution_count": 40,
   "metadata": {},
   "outputs": [
    {
     "name": "stdout",
     "output_type": "stream",
     "text": [
      "/bin/sh: 1: kaggle: not found\r\n"
     ]
    }
   ],
   "source": [
    "!kaggle datasets download -d allen-institute-for-ai/CORD-19-research-challenge"
   ]
  },
  {
   "cell_type": "code",
   "execution_count": 32,
   "metadata": {
    "scrolled": true
   },
   "outputs": [
    {
     "name": "stdout",
     "output_type": "stream",
     "text": [
      "--2020-05-10 07:54:50--  https://www.kaggle.com/allen-institute-for-ai/CORD-19-research-challenge/download/CORD-19-research-challenge.zip\n",
      "Resolving www.kaggle.com (www.kaggle.com)... 35.244.233.98\n",
      "Connecting to www.kaggle.com (www.kaggle.com)|35.244.233.98|:443... connected.\n",
      "HTTP request sent, awaiting response... 302 Found\n",
      "Location: /account/login?returnUrl=%2Fallen-institute-for-ai%2FCORD-19-research-challenge%2Fdata [following]\n",
      "--2020-05-10 07:54:51--  https://www.kaggle.com/account/login?returnUrl=%2Fallen-institute-for-ai%2FCORD-19-research-challenge%2Fdata\n",
      "Reusing existing connection to www.kaggle.com:443.\n",
      "HTTP request sent, awaiting response... 200 OK\n",
      "Length: unspecified [text/html]\n",
      "Saving to: ‘/home/ubuntu/data/CORD-19-research-challenge.zip’\n",
      "\n",
      "CORD-19-research-ch     [ <=>                ]   8.75K  --.-KB/s    in 0s      \n",
      "\n",
      "2020-05-10 07:54:51 (23.1 MB/s) - ‘/home/ubuntu/data/CORD-19-research-challenge.zip’ saved [8956]\n",
      "\n"
     ]
    }
   ],
   "source": [
    "! wget  -P /home/ubuntu/data \"https://www.kaggle.com/allen-institute-for-ai/CORD-19-research-challenge/download/CORD-19-research-challenge.zip\""
   ]
  },
  {
   "cell_type": "code",
   "execution_count": 36,
   "metadata": {},
   "outputs": [
    {
     "name": "stdout",
     "output_type": "stream",
     "text": [
      "--2020-05-10 07:58:00--  https://www.kaggle.com/allen-institute-for-ai/CORD-19-research-challenge/download\n",
      "Resolving www.kaggle.com (www.kaggle.com)... 35.244.233.98\n",
      "Connecting to www.kaggle.com (www.kaggle.com)|35.244.233.98|:443... connected.\n",
      "HTTP request sent, awaiting response... 302 Found\n",
      "Location: /account/login?returnUrl=%2Fallen-institute-for-ai%2FCORD-19-research-challenge%2Fdata [following]\n",
      "--2020-05-10 07:58:00--  https://www.kaggle.com/account/login?returnUrl=%2Fallen-institute-for-ai%2FCORD-19-research-challenge%2Fdata\n",
      "Reusing existing connection to www.kaggle.com:443.\n",
      "HTTP request sent, awaiting response... 200 OK\n",
      "Length: unspecified [text/html]\n",
      "Saving to: ‘/home/ubuntu/data/download’\n",
      "\n",
      "download                [ <=>                ]   8.75K  --.-KB/s    in 0.009s  \n",
      "\n",
      "2020-05-10 07:58:00 (944 KB/s) - ‘/home/ubuntu/data/download’ saved [8956]\n",
      "\n"
     ]
    }
   ],
   "source": [
    "! wget  -P /home/ubuntu/data \"https://www.kaggle.com/allen-institute-for-ai/CORD-19-research-challenge/download\""
   ]
  },
  {
   "cell_type": "code",
   "execution_count": 35,
   "metadata": {},
   "outputs": [
    {
     "name": "stdout",
     "output_type": "stream",
     "text": [
      "Archive:  /home/ubuntu/data/CORD-19-research-challenge.zip\r\n",
      "  End-of-central-directory signature not found.  Either this file is not\r\n",
      "  a zipfile, or it constitutes one disk of a multi-part archive.  In the\r\n",
      "  latter case the central directory and zipfile comment will be found on\r\n",
      "  the last disk(s) of this archive.\r\n",
      "unzip:  cannot find zipfile directory in one of /home/ubuntu/data/CORD-19-research-challenge.zip or\r\n",
      "        /home/ubuntu/data/CORD-19-research-challenge.zip.zip, and cannot find /home/ubuntu/data/CORD-19-research-challenge.zip.ZIP, period.\r\n"
     ]
    }
   ],
   "source": [
    "!unzip \"/home/ubuntu/data/CORD-19-research-challenge.zip\""
   ]
  },
  {
   "cell_type": "code",
   "execution_count": null,
   "metadata": {},
   "outputs": [],
   "source": [
    "# Python 3 code\n",
    "import urllib.request, urllib.parse, urllib.error\n",
    "url = 'https://www.kaggle.com/allen-institute-for-ai/CORD-19-research-challenge/download/CORD-19-research-challenge.zip'\n",
    "print(\"downloading with \")\n",
    "urllib.request.urlretrieve(url, \"code.zip\")\n",
    "print(\"downloading with urllib2\")\n",
    "f = urllib.request.urlopen(url)\n",
    "data = f.read()\n",
    "with open(\"code2.zip\", \"wb\") as code:\n",
    "    code.write(data) "
   ]
  },
  {
   "cell_type": "code",
   "execution_count": 30,
   "metadata": {},
   "outputs": [],
   "source": [
    "import urllib.request, urllib.parse, urllib.error\n",
    "url = 'https://www.kaggle.com/allen-institute-for-ai/CORD-19-research-challenge/download/CORD-19-research-challenge.zip'"
   ]
  },
  {
   "cell_type": "code",
   "execution_count": null,
   "metadata": {},
   "outputs": [],
   "source": []
  },
  {
   "cell_type": "code",
   "execution_count": null,
   "metadata": {},
   "outputs": [],
   "source": []
  },
  {
   "cell_type": "code",
   "execution_count": 22,
   "metadata": {},
   "outputs": [],
   "source": [
    "from io import StringIO"
   ]
  },
  {
   "cell_type": "code",
   "execution_count": 16,
   "metadata": {},
   "outputs": [],
   "source": [
    "import requests\n",
    "import zipfile\n",
    "r = requests.get(\"\", stream=True)\n"
   ]
  },
  {
   "cell_type": "code",
   "execution_count": 29,
   "metadata": {},
   "outputs": [
    {
     "ename": "TypeError",
     "evalue": "initial_value must be str or None, not bytes",
     "output_type": "error",
     "traceback": [
      "\u001b[0;31m---------------------------------------------------------------------------\u001b[0m",
      "\u001b[0;31mTypeError\u001b[0m                                 Traceback (most recent call last)",
      "\u001b[0;32m<ipython-input-29-06e47bd90759>\u001b[0m in \u001b[0;36m<module>\u001b[0;34m\u001b[0m\n\u001b[0;32m----> 1\u001b[0;31m \u001b[0mStringIO\u001b[0m\u001b[0;34m(\u001b[0m\u001b[0mr\u001b[0m\u001b[0;34m.\u001b[0m\u001b[0mcontent\u001b[0m\u001b[0;34m)\u001b[0m\u001b[0;34m\u001b[0m\u001b[0;34m\u001b[0m\u001b[0m\n\u001b[0m",
      "\u001b[0;31mTypeError\u001b[0m: initial_value must be str or None, not bytes"
     ]
    }
   ],
   "source": [
    "StringIO(r.content)"
   ]
  },
  {
   "cell_type": "code",
   "execution_count": 24,
   "metadata": {},
   "outputs": [
    {
     "ename": "TypeError",
     "evalue": "initial_value must be str or None, not bytes",
     "output_type": "error",
     "traceback": [
      "\u001b[0;31m---------------------------------------------------------------------------\u001b[0m",
      "\u001b[0;31mTypeError\u001b[0m                                 Traceback (most recent call last)",
      "\u001b[0;32m<ipython-input-24-2148cf7d86a6>\u001b[0m in \u001b[0;36m<module>\u001b[0;34m\u001b[0m\n\u001b[0;32m----> 1\u001b[0;31m \u001b[0mz\u001b[0m \u001b[0;34m=\u001b[0m \u001b[0mzipfile\u001b[0m\u001b[0;34m.\u001b[0m\u001b[0mZipFile\u001b[0m\u001b[0;34m(\u001b[0m\u001b[0mStringIO\u001b[0m\u001b[0;34m(\u001b[0m\u001b[0mr\u001b[0m\u001b[0;34m.\u001b[0m\u001b[0mcontent\u001b[0m\u001b[0;34m)\u001b[0m\u001b[0;34m)\u001b[0m\u001b[0;34m\u001b[0m\u001b[0;34m\u001b[0m\u001b[0m\n\u001b[0m",
      "\u001b[0;31mTypeError\u001b[0m: initial_value must be str or None, not bytes"
     ]
    }
   ],
   "source": [
    "z = zipfile.ZipFile(StringIO(r.content))\n"
   ]
  }
 ],
 "metadata": {
  "kernelspec": {
   "display_name": "Python 3",
   "language": "python",
   "name": "python3"
  },
  "language_info": {
   "codemirror_mode": {
    "name": "ipython",
    "version": 3
   },
   "file_extension": ".py",
   "mimetype": "text/x-python",
   "name": "python",
   "nbconvert_exporter": "python",
   "pygments_lexer": "ipython3",
   "version": "3.7.7"
  }
 },
 "nbformat": 4,
 "nbformat_minor": 4
}
