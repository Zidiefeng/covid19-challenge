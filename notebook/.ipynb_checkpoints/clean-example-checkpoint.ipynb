{
 "cells": [
  {
   "cell_type": "markdown",
   "metadata": {},
   "source": [
    "## About this notebook\n",
    "\n",
    "In this notebook, I quickly explore the `biorxiv` subset of the papers. Since it is stored in JSON format, the structure is likely too complex to directly perform analysis. Thus, I not only explore the structure of those files, but I also provide the following helper functions for you to easily format inner dictionaries from each file:\n",
    "* `format_name(author)`\n",
    "* `format_affiliation(affiliation)`\n",
    "* `format_authors(authors, with_affiliation=False)`\n",
    "* `format_body(body_text)`\n",
    "* `format_bib(bibs)`\n",
    "\n",
    "Feel free to reuse those functions for your own purpose! If you do, please leave a link to this notebook.\n",
    "\n",
    "Throughout the EDA, I show you how to use each of those files. At the end, I show you how to generate a clean version of the `biorxiv` as well as all the other datasets, which you can directly use by choosing this notebook as a data source (\"File\" -> \"Add or upload data\" -> \"Kernel Output File\" tab -> search the name of this notebook).\n",
    "\n",
    "### Update Log\n",
    "\n",
    "* V9: First release.\n",
    "* V10: Updated paths to include the [14k new papers](https://www.kaggle.com/allen-institute-for-ai/CORD-19-research-challenge/discussion/137474)."
   ]
  },
  {
   "cell_type": "code",
   "execution_count": 1,
   "metadata": {
    "_cell_guid": "b1076dfc-b9ad-4769-8c92-a6c4dae69d19",
    "_uuid": "8f2839f25d086af736a60e9eeb907d3b93b6e0e5"
   },
   "outputs": [],
   "source": [
    "import os\n",
    "import json\n",
    "from pprint import pprint\n",
    "from copy import deepcopy\n",
    "\n",
    "import numpy as np\n",
    "import pandas as pd\n",
    "from tqdm.notebook import tqdm"
   ]
  },
  {
   "cell_type": "markdown",
   "metadata": {},
   "source": [
    "## Helper Functions"
   ]
  },
  {
   "cell_type": "markdown",
   "metadata": {},
   "source": [
    "Unhide the cell below to find the definition of the following functions:\n",
    "* `format_name(author)`\n",
    "* `format_affiliation(affiliation)`\n",
    "* `format_authors(authors, with_affiliation=False)`\n",
    "* `format_body(body_text)`\n",
    "* `format_bib(bibs)`"
   ]
  },
  {
   "cell_type": "code",
   "execution_count": 2,
   "metadata": {
    "_kg_hide-input": true
   },
   "outputs": [],
   "source": [
    "def format_name(author):\n",
    "    middle_name = \" \".join(author['middle'])\n",
    "    \n",
    "    if author['middle']:\n",
    "        return \" \".join([author['first'], middle_name, author['last']])\n",
    "    else:\n",
    "        return \" \".join([author['first'], author['last']])\n",
    "\n",
    "\n",
    "def format_affiliation(affiliation):\n",
    "    text = []\n",
    "    location = affiliation.get('location')\n",
    "    if location:\n",
    "        text.extend(list(affiliation['location'].values()))\n",
    "    \n",
    "    institution = affiliation.get('institution')\n",
    "    if institution:\n",
    "        text = [institution] + text\n",
    "    return \", \".join(text)\n",
    "\n",
    "def format_authors(authors, with_affiliation=False):\n",
    "    name_ls = []\n",
    "    \n",
    "    for author in authors:\n",
    "        name = format_name(author)\n",
    "        if with_affiliation:\n",
    "            affiliation = format_affiliation(author['affiliation'])\n",
    "            if affiliation:\n",
    "                name_ls.append(f\"{name} ({affiliation})\")\n",
    "            else:\n",
    "                name_ls.append(name)\n",
    "        else:\n",
    "            name_ls.append(name)\n",
    "    \n",
    "    return \", \".join(name_ls)\n",
    "\n",
    "def format_body(body_text):\n",
    "    texts = [(di['section'], di['text']) for di in body_text]\n",
    "    texts_di = {di['section']: \"\" for di in body_text}\n",
    "    \n",
    "    for section, text in texts:\n",
    "        texts_di[section] += text\n",
    "\n",
    "    body = \"\"\n",
    "\n",
    "    for section, text in texts_di.items():\n",
    "        body += section\n",
    "        body += \"\\n\\n\"\n",
    "        body += text\n",
    "        body += \"\\n\\n\"\n",
    "    \n",
    "    return body\n",
    "\n",
    "def format_bib(bibs):\n",
    "    if type(bibs) == dict:\n",
    "        bibs = list(bibs.values())\n",
    "    bibs = deepcopy(bibs)\n",
    "    formatted = []\n",
    "    \n",
    "    for bib in bibs:\n",
    "        bib['authors'] = format_authors(\n",
    "            bib['authors'], \n",
    "            with_affiliation=False\n",
    "        )\n",
    "        formatted_ls = [str(bib[k]) for k in ['title', 'authors', 'venue', 'year']]\n",
    "        formatted.append(\", \".join(formatted_ls))\n",
    "\n",
    "    return \"; \".join(formatted)"
   ]
  },
  {
   "cell_type": "markdown",
   "metadata": {},
   "source": [
    "Unhide the cell below to find the definition of the following functions:\n",
    "* `load_files(dirname)`\n",
    "* `generate_clean_df(all_files)`"
   ]
  },
  {
   "cell_type": "code",
   "execution_count": 3,
   "metadata": {
    "_kg_hide-input": true
   },
   "outputs": [],
   "source": [
    "def load_files(dirname):\n",
    "    filenames = os.listdir(dirname)\n",
    "    raw_files = []\n",
    "\n",
    "    for filename in tqdm(filenames):\n",
    "        filename = dirname + filename\n",
    "        file = json.load(open(filename, 'rb'))\n",
    "        raw_files.append(file)\n",
    "    \n",
    "    return raw_files\n",
    "\n",
    "def generate_clean_df(all_files):\n",
    "    cleaned_files = []\n",
    "    \n",
    "    for file in tqdm(all_files):\n",
    "        features = [\n",
    "            file['paper_id'],\n",
    "            file['metadata']['title'],\n",
    "            format_authors(file['metadata']['authors']),\n",
    "            format_authors(file['metadata']['authors'], \n",
    "                           with_affiliation=True),\n",
    "            format_body(file['abstract']),\n",
    "            format_body(file['body_text']),\n",
    "            format_bib(file['bib_entries']),\n",
    "            file['metadata']['authors'],\n",
    "            file['bib_entries']\n",
    "        ]\n",
    "\n",
    "        cleaned_files.append(features)\n",
    "\n",
    "    col_names = ['paper_id', 'title', 'authors',\n",
    "                 'affiliations', 'abstract', 'text', \n",
    "                 'bibliography','raw_authors','raw_bibliography']\n",
    "\n",
    "    clean_df = pd.DataFrame(cleaned_files, columns=col_names)\n",
    "    clean_df.head()\n",
    "    \n",
    "    return clean_df"
   ]
  },
  {
   "cell_type": "markdown",
   "metadata": {},
   "source": [
    "## Biorxiv: Exploration\n",
    "\n",
    "Let's first take a quick glance at the `biorxiv` subset of the data. We will also use this opportunity to load all of the json files into a list of **nested** dictionaries (each `dict` is an article)."
   ]
  },
  {
   "cell_type": "code",
   "execution_count": 4,
   "metadata": {},
   "outputs": [
    {
     "name": "stdout",
     "output_type": "stream",
     "text": [
      "Number of articles retrieved from biorxiv: 2670\n"
     ]
    }
   ],
   "source": [
    "biorxiv_dir = '/home/ubuntu/covid19-challenge/data/biorxiv_medrxiv/biorxiv_medrxiv/pdf_json/'\n",
    "filenames = os.listdir(biorxiv_dir)\n",
    "print(\"Number of articles retrieved from biorxiv:\", len(filenames))"
   ]
  },
  {
   "cell_type": "code",
   "execution_count": 6,
   "metadata": {},
   "outputs": [],
   "source": [
    "all_files = []\n",
    "\n",
    "for filename in filenames:\n",
    "    filename = biorxiv_dir + filename\n",
    "    file = json.load(open(filename, 'rb'))\n",
    "    all_files.append(file)"
   ]
  },
  {
   "cell_type": "code",
   "execution_count": 7,
   "metadata": {},
   "outputs": [
    {
     "name": "stdout",
     "output_type": "stream",
     "text": [
      "Dictionary keys: dict_keys(['paper_id', 'metadata', 'abstract', 'body_text', 'bib_entries', 'ref_entries', 'back_matter'])\n"
     ]
    }
   ],
   "source": [
    "file = all_files[0]\n",
    "print(\"Dictionary keys:\", file.keys())"
   ]
  },
  {
   "cell_type": "markdown",
   "metadata": {},
   "source": [
    "## Biorxiv: Abstract"
   ]
  },
  {
   "cell_type": "markdown",
   "metadata": {},
   "source": [
    "The abstract dictionary is fairly simple:"
   ]
  },
  {
   "cell_type": "code",
   "execution_count": 8,
   "metadata": {},
   "outputs": [
    {
     "name": "stdout",
     "output_type": "stream",
     "text": [
      "[{'cite_spans': [],\n",
      "  'ref_spans': [],\n",
      "  'section': 'Abstract',\n",
      "  'text': 'The potential infectiousness of asymptomatic COVID-19 cases '\n",
      "          'together with a substantial fraction of asymptomatic infections '\n",
      "          'among all infections, have been highlighted in clinical studies. We '\n",
      "          'conducted statistical modeling analysis to derive the '\n",
      "          'delay-adjusted asymptomatic proportion of the positive COVID-19 '\n",
      "          'infections onboard the Princess Cruises ship along with the '\n",
      "          'timeline of infections. We estimated the asymptomatic proportion at '\n",
      "          '17.9% (95% CrI: 15.5%-20.2%), with most of the infections occurring '\n",
      "          'before the start of the 2-week quarantine.'},\n",
      " {'cite_spans': [],\n",
      "  'ref_spans': [],\n",
      "  'section': 'Abstract',\n",
      "  'text': 'Word count:'},\n",
      " {'cite_spans': [], 'ref_spans': [], 'section': 'Abstract', 'text': 'Main:'}]\n"
     ]
    }
   ],
   "source": [
    "pprint(file['abstract'])"
   ]
  },
  {
   "cell_type": "markdown",
   "metadata": {},
   "source": [
    "## Biorxiv: body text"
   ]
  },
  {
   "cell_type": "markdown",
   "metadata": {},
   "source": [
    "Let's first probe what the `body_text` dictionary looks like:"
   ]
  },
  {
   "cell_type": "code",
   "execution_count": 9,
   "metadata": {},
   "outputs": [
    {
     "name": "stdout",
     "output_type": "stream",
     "text": [
      "body_text type: <class 'list'>\n",
      "body_text length: 22\n",
      "body_text keys: dict_keys(['text', 'cite_spans', 'ref_spans', 'section'])\n"
     ]
    }
   ],
   "source": [
    "print(\"body_text type:\", type(file['body_text']))\n",
    "print(\"body_text length:\", len(file['body_text']))\n",
    "print(\"body_text keys:\", file['body_text'][0].keys())"
   ]
  },
  {
   "cell_type": "markdown",
   "metadata": {},
   "source": [
    "We take a look at the first part of the `body_text` content. As you will notice, the body text is separated into a list of small subsections, each containing a `section` and a `text` key. Since multiple subsection can have the same section, we need to first group each subsection before concatenating everything."
   ]
  },
  {
   "cell_type": "code",
   "execution_count": 10,
   "metadata": {},
   "outputs": [
    {
     "name": "stdout",
     "output_type": "stream",
     "text": [
      "body_text content:\n",
      "[{'cite_spans': [{...}, {...}, {...}, {...}, {...}, {...}, {...}],\n",
      "  'ref_spans': [],\n",
      "  'section': '',\n",
      "  'text': 'The clinical and epidemiological characteristics of COVID-19 '\n",
      "          'continue to be investigated as the virus continues its march '\n",
      "          'through the human population [2] [3] . While reliable estimates of '\n",
      "          'the reproduction number and the death risk associated with COVID-19 '\n",
      "          'are crucially needed to guide public health policy, another key '\n",
      "          'epidemiological parameter that could inform the intensity and range '\n",
      "          'of social distancing strategies to combat COVID-19 is the '\n",
      "          'asymptomatic proportion, which is broadly defined as the proportion '\n",
      "          'of asymptomatic infections among all the infections of the disease. '\n",
      "          'Indeed, the asymptomatic proportion is a useful quantity to gauge '\n",
      "          'the true burden of the disease and better interpret estimates of '\n",
      "          'the transmission potential. This proportion varies widely across '\n",
      "          'infectious diseases, ranging from 8% for measles and 32% for '\n",
      "          'norovirus up to 90-95% for polio [4] [5] [6] . Most importantly, it '\n",
      "          'is well established that asymptomatic individuals are frequently '\n",
      "          'able to transmit the virus to others [7] [8] .'},\n",
      " {'cite_spans': [],\n",
      "  'ref_spans': [],\n",
      "  'section': '',\n",
      "  'text': '. CC-BY-NC-ND 4.0 International license It is made available under '\n",
      "          'a author/funder, who has granted medRxiv a license to display the '\n",
      "          'preprint in perpetuity.'}]\n"
     ]
    }
   ],
   "source": [
    "print(\"body_text content:\")\n",
    "pprint(file['body_text'][:2], depth=3)"
   ]
  },
  {
   "cell_type": "markdown",
   "metadata": {},
   "source": [
    "Let's see what the grouped section titles are for the example above:"
   ]
  },
  {
   "cell_type": "code",
   "execution_count": 11,
   "metadata": {},
   "outputs": [
    {
     "name": "stdout",
     "output_type": "stream",
     "text": [
      "['', 'Statistical modelling', 'Discussion']\n"
     ]
    }
   ],
   "source": [
    "texts = [(di['section'], di['text']) for di in file['body_text']]\n",
    "texts_di = {di['section']: \"\" for di in file['body_text']}\n",
    "for section, text in texts:\n",
    "    texts_di[section] += text\n",
    "\n",
    "pprint(list(texts_di.keys()))"
   ]
  },
  {
   "cell_type": "markdown",
   "metadata": {},
   "source": [
    "The following example shows what the final result looks like, after we format each section title with its content:"
   ]
  },
  {
   "cell_type": "code",
   "execution_count": 12,
   "metadata": {},
   "outputs": [
    {
     "name": "stdout",
     "output_type": "stream",
     "text": [
      "\n",
      "\n",
      "The clinical and epidemiological characteristics of COVID-19 continue to be investigated as the virus continues its march through the human population [2] [3] . While reliable estimates of the reproduction number and the death risk associated with COVID-19 are crucially needed to guide public health policy, another key epidemiological parameter that could inform the intensity and range of social distancing strategies to combat COVID-19 is the asymptomatic proportion, which is broadly defined as the proportion of asymptomatic infections among all the infections of the disease. Indeed, the asymptomatic proportion is a useful quantity to gauge the true burden of the disease and better interpret estimates of the transmission potential. This proportion varies widely across infectious diseases, ranging from 8% for measles and 32% for norovirus up to 90-95% for polio [4] [5] [6] . Most importantly, it is well established that asymptomatic individuals are frequently able to transmit the virus to others [7] [8] .. CC-BY-NC-ND 4.0 International license It is made available under a author/funder, who has granted medRxiv a license to display the preprint in perpetuity.is the (which was not peer-reviewed) The copyright holder for this preprint . https://doi.org/10.1101/2020.02.20.20025866 doi: medRxiv preprint COVID-19 is not the exception to this pattern, with accumulating evidence indicating that a substantial fraction of the infected individuals with the novel coronavirus are asymptomatic [9] [10] [11] .As an epidemic progresses over time, suspected cases are examined and tested for the infection using polymerase chain reaction (PCR) or rapid diagnostic test (RDT). Then, time-stamped counts of the test results stratified according to the presence or absence of symptoms at the time of testing are often reported to the public in near real-time.Nevertheless, it is important to note that the estimation of the asymptomatic proportion needs to be handled carefully since real-time outbreak data are influenced by the phenomenon of right censoring, due to the time lag between the time of examination and sample collection and the development of illness.In this paper, we conduct a statistical modeling analysis to estimate the asymptomatic proportion among infected individuals who have tested positive for COVID-19infections onboard the Princess Cruises Ship along with their time of infections, accounting for the delay in onset of symptoms and right-censoring.. CC-BY-NC-ND 4.0 International license It is made available under a author/funder, who has granted medRxiv a license to display the preprint in perpetuity. (Table 1) . Soon after identification of the first infections, both symptomatic and asymptomatic cases were transported to designated medical facilities specialized in infectious diseases in Japan. However, these patients were treated as external (imported) cases, and a detailed description of their clinical progression is not publicly available.The asymptom\n"
     ]
    }
   ],
   "source": [
    "body = \"\"\n",
    "\n",
    "for section, text in texts_di.items():\n",
    "    body += section\n",
    "    body += \"\\n\\n\"\n",
    "    body += text\n",
    "    body += \"\\n\\n\"\n",
    "\n",
    "print(body[:3000])"
   ]
  },
  {
   "cell_type": "markdown",
   "metadata": {},
   "source": [
    "The function below lets you display the body text in one line (unhide to see exactly the same as above):"
   ]
  },
  {
   "cell_type": "code",
   "execution_count": 13,
   "metadata": {
    "_kg_hide-output": true
   },
   "outputs": [
    {
     "name": "stdout",
     "output_type": "stream",
     "text": [
      "\n",
      "\n",
      "The clinical and epidemiological characteristics of COVID-19 continue to be investigated as the virus continues its march through the human population [2] [3] . While reliable estimates of the reproduction number and the death risk associated with COVID-19 are crucially needed to guide public health policy, another key epidemiological parameter that could inform the intensity and range of social distancing strategies to combat COVID-19 is the asymptomatic proportion, which is broadly defined as the proportion of asymptomatic infections among all the infections of the disease. Indeed, the asymptomatic proportion is a useful quantity to gauge the true burden of the disease and better interpret estimates of the transmission potential. This proportion varies widely across infectious diseases, ranging from 8% for measles and 32% for norovirus up to 90-95% for polio [4] [5] [6] . Most importantly, it is well established that asymptomatic individuals are frequently able to transmit the virus to others [7] [8] .. CC-BY-NC-ND 4.0 International license It is made available under a author/funder, who has granted medRxiv a license to display the preprint in perpetuity.is the (which was not peer-reviewed) The copyright holder for this preprint . https://doi.org/10.1101/2020.02.20.20025866 doi: medRxiv preprint COVID-19 is not the exception to this pattern, with accumulating evidence indicating that a substantial fraction of the infected individuals with the novel coronavirus are asymptomatic [9] [10] [11] .As an epidemic progresses over time, suspected cases are examined and tested for the infection using polymerase chain reaction (PCR) or rapid diagnostic test (RDT). Then, time-stamped counts of the test results stratified according to the presence or absence of symptoms at the time of testing are often reported to the public in near real-time.Nevertheless, it is important to note that the estimation of the asymptomatic proportion needs to be handled carefully since real-time outbreak data are influenced by the phenomenon of right censoring, due to the time lag between the time of examination and sample collection and the development of illness.In this paper, we conduct a statistical modeling analysis to estimate the asymptomatic proportion among infected individuals who have tested positive for COVID-19infections onboard the Princess Cruises Ship along with their time of infections, accounting for the delay in onset of symptoms and right-censoring.. CC-BY-NC-ND 4.0 International license It is made available under a author/funder, who has granted medRxiv a license to display the preprint in perpetuity. (Table 1) . Soon after identification of the first infections, both symptomatic and asymptomatic cases were transported to designated medical facilities specialized in infectious diseases in Japan. However, these patients were treated as external (imported) cases, and a detailed description of their clinical progression is not publicly available.The asymptom\n"
     ]
    }
   ],
   "source": [
    "print(format_body(file['body_text'])[:3000])"
   ]
  },
  {
   "cell_type": "markdown",
   "metadata": {},
   "source": [
    "## Biorxiv: Metadata"
   ]
  },
  {
   "cell_type": "markdown",
   "metadata": {},
   "source": [
    "Let's first see what keys are contained in the `metadata` dictionary:"
   ]
  },
  {
   "cell_type": "code",
   "execution_count": 14,
   "metadata": {},
   "outputs": [
    {
     "name": "stdout",
     "output_type": "stream",
     "text": [
      "dict_keys(['title', 'authors'])\n"
     ]
    }
   ],
   "source": [
    "print(all_files[0]['metadata'].keys())"
   ]
  },
  {
   "cell_type": "markdown",
   "metadata": {},
   "source": [
    "Let's take a look at each of the correspond values:"
   ]
  },
  {
   "cell_type": "code",
   "execution_count": 15,
   "metadata": {},
   "outputs": [
    {
     "name": "stdout",
     "output_type": "stream",
     "text": [
      "Estimating the Asymptomatic Proportion of 2019 Novel Coronavirus onboard the Princess Cruises Ship, 2020\n"
     ]
    }
   ],
   "source": [
    "print(all_files[0]['metadata']['title'])"
   ]
  },
  {
   "cell_type": "code",
   "execution_count": 16,
   "metadata": {},
   "outputs": [
    {
     "name": "stdout",
     "output_type": "stream",
     "text": [
      "[{'affiliation': {'institution': 'Kyoto University Yoshida-Nakaadachi-cho',\n",
      "                  'laboratory': '',\n",
      "                  'location': {'addrLine': 'Sakyo-ku',\n",
      "                               'country': 'Japan',\n",
      "                               'settlement': 'Kyoto'}},\n",
      "  'email': 'mizumoto.kenji.5a@kyoto-u.ac.jp',\n",
      "  'first': 'Kenji',\n",
      "  'last': 'Mizumoto1',\n",
      "  'middle': [],\n",
      "  'suffix': ''},\n",
      " {'affiliation': {'institution': 'Kyoto University',\n",
      "                  'laboratory': '',\n",
      "                  'location': {'addrLine': 'Sakyo-ku',\n",
      "                               'country': 'Japan',\n",
      "                               'settlement': 'Yoshidahonmachi, Kyoto'}},\n",
      "  'email': '',\n",
      "  'first': 'Katsushi',\n",
      "  'last': 'Kagaya',\n",
      "  'middle': [],\n",
      "  'suffix': ''},\n",
      " {'affiliation': {'institution': 'University of Oxford',\n",
      "                  'laboratory': '',\n",
      "                  'location': {'country': 'UK'}},\n",
      "  'email': '',\n",
      "  'first': 'Alexander',\n",
      "  'last': 'Zarebski5',\n",
      "  'middle': [],\n",
      "  'suffix': ''}]\n"
     ]
    }
   ],
   "source": [
    "authors = all_files[0]['metadata']['authors']\n",
    "pprint(authors[:3])"
   ]
  },
  {
   "cell_type": "markdown",
   "metadata": {},
   "source": [
    "The `format_name` and `format_affiliation` functions:"
   ]
  },
  {
   "cell_type": "code",
   "execution_count": 17,
   "metadata": {},
   "outputs": [
    {
     "name": "stdout",
     "output_type": "stream",
     "text": [
      "Name: Kenji Mizumoto1\n",
      "Affiliation: Kyoto University Yoshida-Nakaadachi-cho, Sakyo-ku, Kyoto, Japan\n",
      "\n",
      "Name: Katsushi Kagaya\n",
      "Affiliation: Kyoto University, Sakyo-ku, Yoshidahonmachi, Kyoto, Japan\n",
      "\n",
      "Name: Alexander Zarebski5\n",
      "Affiliation: University of Oxford, UK\n",
      "\n",
      "Name: Gerardo Chowell3 Affiliations\n",
      "Affiliation: Georgia State University, Atlanta, Georgia, USA\n",
      "\n"
     ]
    }
   ],
   "source": [
    "for author in authors:\n",
    "    print(\"Name:\", format_name(author))\n",
    "    print(\"Affiliation:\", format_affiliation(author['affiliation']))\n",
    "    print()"
   ]
  },
  {
   "cell_type": "markdown",
   "metadata": {},
   "source": [
    "Now, let's take as an example a slightly longer list of authors:"
   ]
  },
  {
   "cell_type": "code",
   "execution_count": 18,
   "metadata": {},
   "outputs": [
    {
     "name": "stdout",
     "output_type": "stream",
     "text": [
      "{'authors': [{'affiliation': {'institution': 'Zhongnan Hospital of Wuhan '\n",
      "                                             'University',\n",
      "                              'laboratory': '',\n",
      "                              'location': {...}},\n",
      "              'email': '',\n",
      "              'first': 'Guangming',\n",
      "              'last': 'Ye',\n",
      "              'middle': [],\n",
      "              'suffix': ''},\n",
      "             {'affiliation': {'institution': 'Sun Yat-sen University',\n",
      "                              'laboratory': '',\n",
      "                              'location': {...}},\n",
      "              'email': '',\n",
      "              'first': 'Hualiang',\n",
      "              'last': 'Lin',\n",
      "              'middle': [],\n",
      "              'suffix': ''},\n",
      "             {'affiliation': {'institution': 'Zhongnan Hospital of Wuhan '\n",
      "                                             'University',\n",
      "                              'laboratory': '',\n",
      "                              'location': {...}},\n",
      "              'email': '',\n",
      "              'first': 'Liangjun',\n",
      "              'last': 'Chen',\n",
      "              'middle': [],\n",
      "              'suffix': ''},\n",
      "             {'affiliation': {'institution': 'Zhongnan Hospital of Wuhan '\n",
      "                                             'University',\n",
      "                              'laboratory': '',\n",
      "                              'location': {...}},\n",
      "              'email': '',\n",
      "              'first': 'Shichan',\n",
      "              'last': 'Wang',\n",
      "              'middle': [],\n",
      "              'suffix': ''},\n",
      "             {'affiliation': {'institution': 'Zhongnan Hospital of Wuhan '\n",
      "                                             'University',\n",
      "                              'laboratory': '',\n",
      "                              'location': {...}},\n",
      "              'email': '',\n",
      "              'first': 'Zhikun',\n",
      "              'last': 'Zeng',\n",
      "              'middle': [],\n",
      "              'suffix': ''},\n",
      "             {'affiliation': {},\n",
      "              'email': '',\n",
      "              'first': 'Wei',\n",
      "              'last': 'Wang',\n",
      "              'middle': [],\n",
      "              'suffix': ''},\n",
      "             {'affiliation': {'institution': 'Zhongnan Hospital of Wuhan '\n",
      "                                             'University',\n",
      "                              'laboratory': '',\n",
      "                              'location': {...}},\n",
      "              'email': '',\n",
      "              'first': 'Shiyu',\n",
      "              'last': 'Zhang',\n",
      "              'middle': [],\n",
      "              'suffix': ''},\n",
      "             {'affiliation': {'institution': 'Saint Louis University',\n",
      "                              'laboratory': '',\n",
      "                              'location': {...}},\n",
      "              'email': '',\n",
      "              'first': 'Terri',\n",
      "              'last': 'Rebmann',\n",
      "              'middle': [],\n",
      "              'suffix': ''},\n",
      "             {'affiliation': {'institution': 'Zhongnan Hospital of Wuhan '\n",
      "                                             'University',\n",
      "                              'laboratory': '',\n",
      "                              'location': {...}},\n",
      "              'email': '',\n",
      "              'first': 'Yirong',\n",
      "              'last': 'Li',\n",
      "              'middle': [],\n",
      "              'suffix': ''},\n",
      "             {'affiliation': {'institution': 'Zhongnan Hospital of Wuhan '\n",
      "                                             'University',\n",
      "                              'laboratory': '',\n",
      "                              'location': {...}},\n",
      "              'email': '',\n",
      "              'first': 'Zhenyu',\n",
      "              'last': 'Pan',\n",
      "              'middle': [],\n",
      "              'suffix': ''},\n",
      "             {'affiliation': {'institution': 'Zhongnan Hospital of Wuhan '\n",
      "                                             'University',\n",
      "                              'laboratory': '',\n",
      "                              'location': {...}},\n",
      "              'email': '',\n",
      "              'first': 'Zhonghua',\n",
      "              'last': 'Yang',\n",
      "              'middle': [],\n",
      "              'suffix': ''},\n",
      "             {'affiliation': {'institution': 'Zhongnan Hospital of Wuhan '\n",
      "                                             'University',\n",
      "                              'laboratory': '',\n",
      "                              'location': {...}},\n",
      "              'email': '',\n",
      "              'first': 'Ying',\n",
      "              'last': 'Wang',\n",
      "              'middle': [],\n",
      "              'suffix': ''},\n",
      "             {'affiliation': {'institution': 'Zhongnan Hospital of Wuhan '\n",
      "                                             'University',\n",
      "                              'laboratory': '',\n",
      "                              'location': {...}},\n",
      "              'email': '',\n",
      "              'first': 'Fubing',\n",
      "              'last': 'Wang',\n",
      "              'middle': [],\n",
      "              'suffix': ''},\n",
      "             {'affiliation': {},\n",
      "              'email': 'zhengmin.qian@slu.edu',\n",
      "              'first': 'Zhengmin',\n",
      "              'last': '',\n",
      "              'middle': [],\n",
      "              'suffix': ''},\n",
      "             {'affiliation': {'institution': 'Saint Louis University',\n",
      "                              'laboratory': '',\n",
      "                              'location': {...}},\n",
      "              'email': '',\n",
      "              'first': 'Min',\n",
      "              'last': 'Qian',\n",
      "              'middle': [],\n",
      "              'suffix': ''},\n",
      "             {'affiliation': {'institution': 'Zhongnan Hospital of Wuhan '\n",
      "                                             'University',\n",
      "                              'laboratory': '',\n",
      "                              'location': {...}},\n",
      "              'email': 'wangxinghuan@whu.edu.cn',\n",
      "              'first': 'Xinghuan',\n",
      "              'last': 'Wang',\n",
      "              'middle': [],\n",
      "              'suffix': ''}],\n",
      " 'title': 'Environmental contamination of the SARS-CoV-2 in healthcare '\n",
      "          'premises: An urgent call for protection for healthcare workers'}\n"
     ]
    }
   ],
   "source": [
    "pprint(all_files[4]['metadata'], depth=4)"
   ]
  },
  {
   "cell_type": "markdown",
   "metadata": {},
   "source": [
    "Here, I provide the function `format_authors` that let you format a list of authors to get a final string, with the optional argument of showing the affiliation:"
   ]
  },
  {
   "cell_type": "code",
   "execution_count": 19,
   "metadata": {},
   "outputs": [
    {
     "name": "stdout",
     "output_type": "stream",
     "text": [
      "Formatting without affiliation:\n",
      "Guangming Ye, Hualiang Lin, Liangjun Chen, Shichan Wang, Zhikun Zeng, Wei Wang, Shiyu Zhang, Terri Rebmann, Yirong Li, Zhenyu Pan, Zhonghua Yang, Ying Wang, Fubing Wang, Zhengmin , Min Qian, Xinghuan Wang\n",
      "\n",
      "Formatting with affiliation:\n",
      "Guangming Ye (Zhongnan Hospital of Wuhan University, Wuhan, China), Hualiang Lin (Sun Yat-sen University, Guangzhou, China), Liangjun Chen (Zhongnan Hospital of Wuhan University, Wuhan, China), Shichan Wang (Zhongnan Hospital of Wuhan University, Wuhan, China), Zhikun Zeng (Zhongnan Hospital of Wuhan University, Wuhan, China), Wei Wang, Shiyu Zhang (Zhongnan Hospital of Wuhan University, Wuhan, China), Terri Rebmann (Saint Louis University, USA), Yirong Li (Zhongnan Hospital of Wuhan University, Wuhan, China), Zhenyu Pan (Zhongnan Hospital of Wuhan University, Wuhan, China), Zhonghua Yang (Zhongnan Hospital of Wuhan University, Wuhan, China), Ying Wang (Zhongnan Hospital of Wuhan University, Wuhan, China), Fubing Wang (Zhongnan Hospital of Wuhan University, Wuhan, China), Zhengmin , Min Qian (Saint Louis University, USA), Xinghuan Wang (Zhongnan Hospital of Wuhan University, Wuhan, China)\n"
     ]
    }
   ],
   "source": [
    "authors = all_files[4]['metadata']['authors']\n",
    "print(\"Formatting without affiliation:\")\n",
    "print(format_authors(authors, with_affiliation=False))\n",
    "print(\"\\nFormatting with affiliation:\")\n",
    "print(format_authors(authors, with_affiliation=True))"
   ]
  },
  {
   "cell_type": "markdown",
   "metadata": {},
   "source": [
    "## Biorxiv: bibliography"
   ]
  },
  {
   "cell_type": "markdown",
   "metadata": {},
   "source": [
    "Let's take a look at the bibliography section. "
   ]
  },
  {
   "cell_type": "code",
   "execution_count": 20,
   "metadata": {},
   "outputs": [
    {
     "name": "stdout",
     "output_type": "stream",
     "text": [
      "[{'authors': [],\n",
      "  'issn': '',\n",
      "  'other_ids': {},\n",
      "  'pages': '',\n",
      "  'ref_id': 'b0',\n",
      "  'title': 'Novel Coronavirus (2019-nCoV) situation reports',\n",
      "  'venue': '',\n",
      "  'volume': '',\n",
      "  'year': None},\n",
      " {'authors': [{'first': 'N', 'last': 'Linton', 'middle': [...], 'suffix': ''},\n",
      "              {'first': 'T', 'last': 'Kobayashi', 'middle': [], 'suffix': ''},\n",
      "              {'first': 'Y', 'last': 'Yang', 'middle': [], 'suffix': ''},\n",
      "              {'first': 'K', 'last': 'Hayashi', 'middle': [], 'suffix': ''},\n",
      "              {'first': 'A',\n",
      "               'last': 'Akhmetzhanov',\n",
      "               'middle': [...],\n",
      "               'suffix': ''},\n",
      "              {'first': 'S', 'last': 'Jung', 'middle': [...], 'suffix': ''}],\n",
      "  'issn': '',\n",
      "  'other_ids': {'DOI': ['10.1101/2020.01.26.20018754']},\n",
      "  'pages': '',\n",
      "  'ref_id': 'b1',\n",
      "  'title': 'Epidemiological characteristics of novel coronavirus infection: A '\n",
      "           'statistical analysis of publicly available case data. medRxiv '\n",
      "           '2020.01.26',\n",
      "  'venue': '',\n",
      "  'volume': '',\n",
      "  'year': 2001}]\n"
     ]
    }
   ],
   "source": [
    "bibs = list(file['bib_entries'].values())\n",
    "pprint(bibs[:2], depth=4)"
   ]
  },
  {
   "cell_type": "markdown",
   "metadata": {},
   "source": [
    "You can reused the `format_authors` function here:"
   ]
  },
  {
   "cell_type": "code",
   "execution_count": 21,
   "metadata": {},
   "outputs": [
    {
     "data": {
      "text/plain": [
       "'N M Linton, T Kobayashi, Y Yang, K Hayashi, A R Akhmetzhanov, S M Jung'"
      ]
     },
     "execution_count": 21,
     "metadata": {},
     "output_type": "execute_result"
    }
   ],
   "source": [
    "format_authors(bibs[1]['authors'], with_affiliation=False)"
   ]
  },
  {
   "cell_type": "markdown",
   "metadata": {},
   "source": [
    "The following function let you format the bibliography all at once. It only extracts the title, authors, venue, year, and separate each entry of the bibliography with a `;`."
   ]
  },
  {
   "cell_type": "code",
   "execution_count": 22,
   "metadata": {},
   "outputs": [
    {
     "name": "stdout",
     "output_type": "stream",
     "text": [
      "Novel Coronavirus (2019-nCoV) situation reports, , , None; Epidemiological characteristics of novel coronavirus infection: A statistical analysis of publicly available case data. medRxiv 2020.01.26, N M Linton, T Kobayashi, Y Yang, K Hayashi, A R Akhmetzhanov, S M Jung, , 2001; Incubation period of 2019 novel coronavirus (2019-nCoV) infections among travelers from Wuhan, China, J A Backer, D Klinkenberg, J Wallinga, Euro Surveill, 2020; Abortive and subclinical poliomyelitis in a family during the 1992 epidemic in The Netherlands, F P Kroon, H T Weiland, A M Van Loon, R Van Furth, Clin Infect Dis, 1995; Achieving measles control: lessons from the 2002-06 measles control strategy for Uganda, W B Mbabazi, M Nanyunja, I Makumbi, Health Policy Plan, 2009\n"
     ]
    }
   ],
   "source": [
    "bib_formatted = format_bib(bibs[:5])\n",
    "print(bib_formatted)"
   ]
  },
  {
   "cell_type": "markdown",
   "metadata": {},
   "source": [
    "## Biorxiv: Generate CSV\n",
    "\n",
    "In this section, I show you how to manually generate the CSV files. As you can see, it's now super simple because of the `format_` helper functions. In the next sections, I show you have to generate them in 3 lines using the `load_files` and `generate_clean_dr` helper functions."
   ]
  },
  {
   "cell_type": "code",
   "execution_count": 23,
   "metadata": {},
   "outputs": [
    {
     "data": {
      "application/vnd.jupyter.widget-view+json": {
       "model_id": "32b5440e98a3403db7b98efb0a74fa2a",
       "version_major": 2,
       "version_minor": 0
      },
      "text/plain": [
       "HBox(children=(FloatProgress(value=0.0, max=2670.0), HTML(value='')))"
      ]
     },
     "metadata": {},
     "output_type": "display_data"
    },
    {
     "name": "stdout",
     "output_type": "stream",
     "text": [
      "\n"
     ]
    }
   ],
   "source": [
    "cleaned_files = []\n",
    "\n",
    "for file in tqdm(all_files):\n",
    "    features = [\n",
    "        file['paper_id'],\n",
    "        file['metadata']['title'],\n",
    "        format_authors(file['metadata']['authors']),\n",
    "        format_authors(file['metadata']['authors'], \n",
    "                       with_affiliation=True),\n",
    "        format_body(file['abstract']),\n",
    "        format_body(file['body_text']),\n",
    "        format_bib(file['bib_entries']),\n",
    "        file['metadata']['authors'],\n",
    "        file['bib_entries']\n",
    "    ]\n",
    "    \n",
    "    cleaned_files.append(features)"
   ]
  },
  {
   "cell_type": "code",
   "execution_count": 24,
   "metadata": {},
   "outputs": [
    {
     "data": {
      "text/html": [
       "<div>\n",
       "<style scoped>\n",
       "    .dataframe tbody tr th:only-of-type {\n",
       "        vertical-align: middle;\n",
       "    }\n",
       "\n",
       "    .dataframe tbody tr th {\n",
       "        vertical-align: top;\n",
       "    }\n",
       "\n",
       "    .dataframe thead th {\n",
       "        text-align: right;\n",
       "    }\n",
       "</style>\n",
       "<table border=\"1\" class=\"dataframe\">\n",
       "  <thead>\n",
       "    <tr style=\"text-align: right;\">\n",
       "      <th></th>\n",
       "      <th>paper_id</th>\n",
       "      <th>title</th>\n",
       "      <th>authors</th>\n",
       "      <th>affiliations</th>\n",
       "      <th>abstract</th>\n",
       "      <th>text</th>\n",
       "      <th>bibliography</th>\n",
       "      <th>raw_authors</th>\n",
       "      <th>raw_bibliography</th>\n",
       "    </tr>\n",
       "  </thead>\n",
       "  <tbody>\n",
       "    <tr>\n",
       "      <th>0</th>\n",
       "      <td>207dcb6e3cd43cdea91d29a15be1ee34068bd54e</td>\n",
       "      <td>Estimating the Asymptomatic Proportion of 2019...</td>\n",
       "      <td>Kenji Mizumoto1, Katsushi Kagaya, Alexander Za...</td>\n",
       "      <td>Kenji Mizumoto1 (Kyoto University Yoshida-Naka...</td>\n",
       "      <td>Abstract\\n\\nThe potential infectiousness of as...</td>\n",
       "      <td>\\n\\nThe clinical and epidemiological character...</td>\n",
       "      <td>Novel Coronavirus (2019-nCoV) situation report...</td>\n",
       "      <td>[{'first': 'Kenji', 'middle': [], 'last': 'Miz...</td>\n",
       "      <td>{'BIBREF0': {'ref_id': 'b0', 'title': 'Novel C...</td>\n",
       "    </tr>\n",
       "    <tr>\n",
       "      <th>1</th>\n",
       "      <td>9e780780dbaf35c0d537ddb290dfd484148a3c55</td>\n",
       "      <td>Estimating the Relative Probability of Direct ...</td>\n",
       "      <td>Sarah V Leavitt, Robyn S Lee, Paola Sebastiani...</td>\n",
       "      <td>Sarah V Leavitt (Boston University, Boston, MA...</td>\n",
       "      <td>Abstract\\n\\nEstimating infectious disease para...</td>\n",
       "      <td>INTRODUCTION\\n\\nInfectious disease parameters ...</td>\n",
       "      <td>Transmission parameters of the A / H1N1 ( 2009...</td>\n",
       "      <td>[{'first': 'Sarah', 'middle': ['V'], 'last': '...</td>\n",
       "      <td>{'BIBREF0': {'ref_id': 'b0', 'title': 'Transmi...</td>\n",
       "    </tr>\n",
       "    <tr>\n",
       "      <th>2</th>\n",
       "      <td>781bb4f96f0bba44488b7e396e8a8ca451e936f8</td>\n",
       "      <td>Title: Influenza-Negative Influenza-Like Illne...</td>\n",
       "      <td>Fatima N Mirza, Amyn A Malik, Saad B Omer, Phd</td>\n",
       "      <td>Fatima N Mirza (Yale University, 06510, New Ha...</td>\n",
       "      <td>Abstract\\n\\nThough ideal for determining the b...</td>\n",
       "      <td>\\n\\nCC-BY-NC 4.0 International license It is m...</td>\n",
       "      <td>An interactive web-based dashboard to track CO...</td>\n",
       "      <td>[{'first': 'Fatima', 'middle': ['N'], 'last': ...</td>\n",
       "      <td>{'BIBREF0': {'ref_id': 'b0', 'title': 'An inte...</td>\n",
       "    </tr>\n",
       "    <tr>\n",
       "      <th>3</th>\n",
       "      <td>09274ab34ed74eb299f51e0171c2fddd0092bc18</td>\n",
       "      <td>Predicting the epidemic trend of COVID-19 in C...</td>\n",
       "      <td>Mengyuan Li, Zhilan Zhang, Shanmei Jiang, Qian...</td>\n",
       "      <td>Mengyuan Li (China Pharmaceutical University, ...</td>\n",
       "      <td>Abstract\\n\\nBackground: Although COVID-19 has ...</td>\n",
       "      <td>Background\\n\\nAlthough the spread of COVID-19 ...</td>\n",
       "      <td>Responding to Covid-19 -A Once-in-a-Century Pa...</td>\n",
       "      <td>[{'first': 'Mengyuan', 'middle': [], 'last': '...</td>\n",
       "      <td>{'BIBREF0': {'ref_id': 'b0', 'title': 'Respond...</td>\n",
       "    </tr>\n",
       "    <tr>\n",
       "      <th>4</th>\n",
       "      <td>254c1e4d661d7fb5954c855387595c3cde0e8156</td>\n",
       "      <td>Environmental contamination of the SARS-CoV-2 ...</td>\n",
       "      <td>Guangming Ye, Hualiang Lin, Liangjun Chen, Shi...</td>\n",
       "      <td>Guangming Ye (Zhongnan Hospital of Wuhan Unive...</td>\n",
       "      <td></td>\n",
       "      <td>Introduction\\n\\nAn outbreak of COVID-19 began ...</td>\n",
       "      <td>The Novel Coronaries Pneumonia Emergency Respo...</td>\n",
       "      <td>[{'first': 'Guangming', 'middle': [], 'last': ...</td>\n",
       "      <td>{'BIBREF0': {'ref_id': 'b0', 'title': 'The Nov...</td>\n",
       "    </tr>\n",
       "  </tbody>\n",
       "</table>\n",
       "</div>"
      ],
      "text/plain": [
       "                                   paper_id  \\\n",
       "0  207dcb6e3cd43cdea91d29a15be1ee34068bd54e   \n",
       "1  9e780780dbaf35c0d537ddb290dfd484148a3c55   \n",
       "2  781bb4f96f0bba44488b7e396e8a8ca451e936f8   \n",
       "3  09274ab34ed74eb299f51e0171c2fddd0092bc18   \n",
       "4  254c1e4d661d7fb5954c855387595c3cde0e8156   \n",
       "\n",
       "                                               title  \\\n",
       "0  Estimating the Asymptomatic Proportion of 2019...   \n",
       "1  Estimating the Relative Probability of Direct ...   \n",
       "2  Title: Influenza-Negative Influenza-Like Illne...   \n",
       "3  Predicting the epidemic trend of COVID-19 in C...   \n",
       "4  Environmental contamination of the SARS-CoV-2 ...   \n",
       "\n",
       "                                             authors  \\\n",
       "0  Kenji Mizumoto1, Katsushi Kagaya, Alexander Za...   \n",
       "1  Sarah V Leavitt, Robyn S Lee, Paola Sebastiani...   \n",
       "2    Fatima N Mirza, Amyn A Malik, Saad B Omer, Phd    \n",
       "3  Mengyuan Li, Zhilan Zhang, Shanmei Jiang, Qian...   \n",
       "4  Guangming Ye, Hualiang Lin, Liangjun Chen, Shi...   \n",
       "\n",
       "                                        affiliations  \\\n",
       "0  Kenji Mizumoto1 (Kyoto University Yoshida-Naka...   \n",
       "1  Sarah V Leavitt (Boston University, Boston, MA...   \n",
       "2  Fatima N Mirza (Yale University, 06510, New Ha...   \n",
       "3  Mengyuan Li (China Pharmaceutical University, ...   \n",
       "4  Guangming Ye (Zhongnan Hospital of Wuhan Unive...   \n",
       "\n",
       "                                            abstract  \\\n",
       "0  Abstract\\n\\nThe potential infectiousness of as...   \n",
       "1  Abstract\\n\\nEstimating infectious disease para...   \n",
       "2  Abstract\\n\\nThough ideal for determining the b...   \n",
       "3  Abstract\\n\\nBackground: Although COVID-19 has ...   \n",
       "4                                                      \n",
       "\n",
       "                                                text  \\\n",
       "0  \\n\\nThe clinical and epidemiological character...   \n",
       "1  INTRODUCTION\\n\\nInfectious disease parameters ...   \n",
       "2  \\n\\nCC-BY-NC 4.0 International license It is m...   \n",
       "3  Background\\n\\nAlthough the spread of COVID-19 ...   \n",
       "4  Introduction\\n\\nAn outbreak of COVID-19 began ...   \n",
       "\n",
       "                                        bibliography  \\\n",
       "0  Novel Coronavirus (2019-nCoV) situation report...   \n",
       "1  Transmission parameters of the A / H1N1 ( 2009...   \n",
       "2  An interactive web-based dashboard to track CO...   \n",
       "3  Responding to Covid-19 -A Once-in-a-Century Pa...   \n",
       "4  The Novel Coronaries Pneumonia Emergency Respo...   \n",
       "\n",
       "                                         raw_authors  \\\n",
       "0  [{'first': 'Kenji', 'middle': [], 'last': 'Miz...   \n",
       "1  [{'first': 'Sarah', 'middle': ['V'], 'last': '...   \n",
       "2  [{'first': 'Fatima', 'middle': ['N'], 'last': ...   \n",
       "3  [{'first': 'Mengyuan', 'middle': [], 'last': '...   \n",
       "4  [{'first': 'Guangming', 'middle': [], 'last': ...   \n",
       "\n",
       "                                    raw_bibliography  \n",
       "0  {'BIBREF0': {'ref_id': 'b0', 'title': 'Novel C...  \n",
       "1  {'BIBREF0': {'ref_id': 'b0', 'title': 'Transmi...  \n",
       "2  {'BIBREF0': {'ref_id': 'b0', 'title': 'An inte...  \n",
       "3  {'BIBREF0': {'ref_id': 'b0', 'title': 'Respond...  \n",
       "4  {'BIBREF0': {'ref_id': 'b0', 'title': 'The Nov...  "
      ]
     },
     "execution_count": 24,
     "metadata": {},
     "output_type": "execute_result"
    }
   ],
   "source": [
    "col_names = [\n",
    "    'paper_id', \n",
    "    'title', \n",
    "    'authors',\n",
    "    'affiliations', \n",
    "    'abstract', \n",
    "    'text', \n",
    "    'bibliography',\n",
    "    'raw_authors',\n",
    "    'raw_bibliography'\n",
    "]\n",
    "\n",
    "clean_df = pd.DataFrame(cleaned_files, columns=col_names)\n",
    "clean_df.head()"
   ]
  },
  {
   "cell_type": "code",
   "execution_count": 25,
   "metadata": {},
   "outputs": [],
   "source": [
    "clean_df.to_csv('biorxiv_clean.csv', index=False)"
   ]
  },
  {
   "cell_type": "markdown",
   "metadata": {},
   "source": [
    "## Generate CSV: Custom (PMC), Commercial, Non-commercial licenses"
   ]
  },
  {
   "cell_type": "code",
   "execution_count": 27,
   "metadata": {},
   "outputs": [
    {
     "data": {
      "application/vnd.jupyter.widget-view+json": {
       "model_id": "7e02ea76ce434009bfe1705742ab5fd8",
       "version_major": 2,
       "version_minor": 0
      },
      "text/plain": [
       "HBox(children=(FloatProgress(value=0.0, max=32450.0), HTML(value='')))"
      ]
     },
     "metadata": {},
     "output_type": "display_data"
    },
    {
     "name": "stdout",
     "output_type": "stream",
     "text": [
      "\n"
     ]
    },
    {
     "data": {
      "application/vnd.jupyter.widget-view+json": {
       "model_id": "e427ad2d15574c6381d24434dca618ce",
       "version_major": 2,
       "version_minor": 0
      },
      "text/plain": [
       "HBox(children=(FloatProgress(value=0.0, max=32450.0), HTML(value='')))"
      ]
     },
     "metadata": {},
     "output_type": "display_data"
    },
    {
     "name": "stdout",
     "output_type": "stream",
     "text": [
      "\n"
     ]
    },
    {
     "data": {
      "text/html": [
       "<div>\n",
       "<style scoped>\n",
       "    .dataframe tbody tr th:only-of-type {\n",
       "        vertical-align: middle;\n",
       "    }\n",
       "\n",
       "    .dataframe tbody tr th {\n",
       "        vertical-align: top;\n",
       "    }\n",
       "\n",
       "    .dataframe thead th {\n",
       "        text-align: right;\n",
       "    }\n",
       "</style>\n",
       "<table border=\"1\" class=\"dataframe\">\n",
       "  <thead>\n",
       "    <tr style=\"text-align: right;\">\n",
       "      <th></th>\n",
       "      <th>paper_id</th>\n",
       "      <th>title</th>\n",
       "      <th>authors</th>\n",
       "      <th>affiliations</th>\n",
       "      <th>abstract</th>\n",
       "      <th>text</th>\n",
       "      <th>bibliography</th>\n",
       "      <th>raw_authors</th>\n",
       "      <th>raw_bibliography</th>\n",
       "    </tr>\n",
       "  </thead>\n",
       "  <tbody>\n",
       "    <tr>\n",
       "      <th>0</th>\n",
       "      <td>0ae02f293c03e3e1a2d4582e62c22f2c0c291f48</td>\n",
       "      <td>Development of animal models against emerging ...</td>\n",
       "      <td>Troy C Sutton, Kanta Subbarao</td>\n",
       "      <td>Troy C Sutton (NIAID, NIH, United States), Kan...</td>\n",
       "      <td>Abstract\\n\\nTwo novel coronaviruses have emerg...</td>\n",
       "      <td>Introduction\\n\\nWithin the last two decades, t...</td>\n",
       "      <td>Replication and shedding of MERS-CoV in upper ...</td>\n",
       "      <td>[{'first': 'Troy', 'middle': ['C'], 'last': 'S...</td>\n",
       "      <td>{'BIBREF0': {'ref_id': 'b0', 'title': 'Replica...</td>\n",
       "    </tr>\n",
       "    <tr>\n",
       "      <th>1</th>\n",
       "      <td>640de65e9f09545c463bc419bffb7084fc40fae5</td>\n",
       "      <td>X-RAY CRYSTALLOGRAPHIC STUDIES OF THE IDIOTYPI...</td>\n",
       "      <td>Nenad Ban, Alexander Mcpherson</td>\n",
       "      <td>Nenad Ban (University of California, 92521, Ri...</td>\n",
       "      <td></td>\n",
       "      <td>\\n\\n1. viral: type B viral hepatitis (Kennedy ...</td>\n",
       "      <td>Three-dimensional structure of antibodies, P M...</td>\n",
       "      <td>[{'first': 'Nenad', 'middle': [], 'last': 'Ban...</td>\n",
       "      <td>{'BIBREF0': {'ref_id': 'b0', 'title': 'Three-d...</td>\n",
       "    </tr>\n",
       "    <tr>\n",
       "      <th>2</th>\n",
       "      <td>a8676c57d7e3a52378b9e554cc0886ad91999e13</td>\n",
       "      <td></td>\n",
       "      <td></td>\n",
       "      <td></td>\n",
       "      <td></td>\n",
       "      <td>\\n\\nziektegeschiedenis Patiënt A, een 29-jarig...</td>\n",
       "      <td>Onbegrepen klachten bij patiënten met infectie...</td>\n",
       "      <td>[]</td>\n",
       "      <td>{'BIBREF0': {'ref_id': 'b0', 'title': 'Onbegre...</td>\n",
       "    </tr>\n",
       "    <tr>\n",
       "      <th>3</th>\n",
       "      <td>c2ab03046662fc55e0162afc133b4f73ea9ed866</td>\n",
       "      <td>AVCpred: an integrated web server for predicti...</td>\n",
       "      <td>Abid Qureshi, Gazaldeep Kaur, Manoj Kumar</td>\n",
       "      <td>Abid Qureshi, Gazaldeep Kaur, Manoj Kumar</td>\n",
       "      <td>Abstract\\n\\nViral infections constantly jeopar...</td>\n",
       "      <td>\\n\\nvalidation. Furthermore, similar performan...</td>\n",
       "      <td>Using Locally Weighted Learning to Improve SMO...</td>\n",
       "      <td>[{'first': 'Abid', 'middle': [], 'last': 'Qure...</td>\n",
       "      <td>{'BIBREF45': {'ref_id': 'b45', 'title': 'Using...</td>\n",
       "    </tr>\n",
       "    <tr>\n",
       "      <th>4</th>\n",
       "      <td>96798549e4d680ff281d40d8d1dd400fb6afaafa</td>\n",
       "      <td>TOPICAL REVIEW Microbial volatile compounds in...</td>\n",
       "      <td>Robin Michael, Statham Thorn, John Greenman</td>\n",
       "      <td>Robin Michael, Statham Thorn, John Greenman</td>\n",
       "      <td>Abstract\\n\\nMicrobial cultures and/or microbia...</td>\n",
       "      <td>Introduction\\n\\nVolatile organic compounds (VO...</td>\n",
       "      <td>Defining the normal bacterial flora of the ora...</td>\n",
       "      <td>[{'first': 'Robin', 'middle': [], 'last': 'Mic...</td>\n",
       "      <td>{'BIBREF0': {'ref_id': 'b0', 'title': 'Definin...</td>\n",
       "    </tr>\n",
       "  </tbody>\n",
       "</table>\n",
       "</div>"
      ],
      "text/plain": [
       "                                   paper_id  \\\n",
       "0  0ae02f293c03e3e1a2d4582e62c22f2c0c291f48   \n",
       "1  640de65e9f09545c463bc419bffb7084fc40fae5   \n",
       "2  a8676c57d7e3a52378b9e554cc0886ad91999e13   \n",
       "3  c2ab03046662fc55e0162afc133b4f73ea9ed866   \n",
       "4  96798549e4d680ff281d40d8d1dd400fb6afaafa   \n",
       "\n",
       "                                               title  \\\n",
       "0  Development of animal models against emerging ...   \n",
       "1  X-RAY CRYSTALLOGRAPHIC STUDIES OF THE IDIOTYPI...   \n",
       "2                                                      \n",
       "3  AVCpred: an integrated web server for predicti...   \n",
       "4  TOPICAL REVIEW Microbial volatile compounds in...   \n",
       "\n",
       "                                       authors  \\\n",
       "0                Troy C Sutton, Kanta Subbarao   \n",
       "1               Nenad Ban, Alexander Mcpherson   \n",
       "2                                                \n",
       "3    Abid Qureshi, Gazaldeep Kaur, Manoj Kumar   \n",
       "4  Robin Michael, Statham Thorn, John Greenman   \n",
       "\n",
       "                                        affiliations  \\\n",
       "0  Troy C Sutton (NIAID, NIH, United States), Kan...   \n",
       "1  Nenad Ban (University of California, 92521, Ri...   \n",
       "2                                                      \n",
       "3          Abid Qureshi, Gazaldeep Kaur, Manoj Kumar   \n",
       "4        Robin Michael, Statham Thorn, John Greenman   \n",
       "\n",
       "                                            abstract  \\\n",
       "0  Abstract\\n\\nTwo novel coronaviruses have emerg...   \n",
       "1                                                      \n",
       "2                                                      \n",
       "3  Abstract\\n\\nViral infections constantly jeopar...   \n",
       "4  Abstract\\n\\nMicrobial cultures and/or microbia...   \n",
       "\n",
       "                                                text  \\\n",
       "0  Introduction\\n\\nWithin the last two decades, t...   \n",
       "1  \\n\\n1. viral: type B viral hepatitis (Kennedy ...   \n",
       "2  \\n\\nziektegeschiedenis Patiënt A, een 29-jarig...   \n",
       "3  \\n\\nvalidation. Furthermore, similar performan...   \n",
       "4  Introduction\\n\\nVolatile organic compounds (VO...   \n",
       "\n",
       "                                        bibliography  \\\n",
       "0  Replication and shedding of MERS-CoV in upper ...   \n",
       "1  Three-dimensional structure of antibodies, P M...   \n",
       "2  Onbegrepen klachten bij patiënten met infectie...   \n",
       "3  Using Locally Weighted Learning to Improve SMO...   \n",
       "4  Defining the normal bacterial flora of the ora...   \n",
       "\n",
       "                                         raw_authors  \\\n",
       "0  [{'first': 'Troy', 'middle': ['C'], 'last': 'S...   \n",
       "1  [{'first': 'Nenad', 'middle': [], 'last': 'Ban...   \n",
       "2                                                 []   \n",
       "3  [{'first': 'Abid', 'middle': [], 'last': 'Qure...   \n",
       "4  [{'first': 'Robin', 'middle': [], 'last': 'Mic...   \n",
       "\n",
       "                                    raw_bibliography  \n",
       "0  {'BIBREF0': {'ref_id': 'b0', 'title': 'Replica...  \n",
       "1  {'BIBREF0': {'ref_id': 'b0', 'title': 'Three-d...  \n",
       "2  {'BIBREF0': {'ref_id': 'b0', 'title': 'Onbegre...  \n",
       "3  {'BIBREF45': {'ref_id': 'b45', 'title': 'Using...  \n",
       "4  {'BIBREF0': {'ref_id': 'b0', 'title': 'Definin...  "
      ]
     },
     "execution_count": 27,
     "metadata": {},
     "output_type": "execute_result"
    }
   ],
   "source": [
    "pmc_dir = '/home/ubuntu/covid19-challenge/data/custom_license/custom_license/pdf_json/'\n",
    "pmc_files = load_files(pmc_dir)\n",
    "pmc_df = generate_clean_df(pmc_files)\n",
    "pmc_df.to_csv('clean_pmc.csv', index=False)\n",
    "pmc_df.head()"
   ]
  },
  {
   "cell_type": "code",
   "execution_count": 28,
   "metadata": {},
   "outputs": [
    {
     "data": {
      "application/vnd.jupyter.widget-view+json": {
       "model_id": "3a9016ed39114c04bca6a14b1e2bd785",
       "version_major": 2,
       "version_minor": 0
      },
      "text/plain": [
       "HBox(children=(FloatProgress(value=0.0, max=9918.0), HTML(value='')))"
      ]
     },
     "metadata": {},
     "output_type": "display_data"
    },
    {
     "name": "stdout",
     "output_type": "stream",
     "text": [
      "\n"
     ]
    },
    {
     "data": {
      "application/vnd.jupyter.widget-view+json": {
       "model_id": "98e1e4cbc54347659d028173d2b8b4ac",
       "version_major": 2,
       "version_minor": 0
      },
      "text/plain": [
       "HBox(children=(FloatProgress(value=0.0, max=9918.0), HTML(value='')))"
      ]
     },
     "metadata": {},
     "output_type": "display_data"
    },
    {
     "name": "stdout",
     "output_type": "stream",
     "text": [
      "\n"
     ]
    },
    {
     "data": {
      "text/html": [
       "<div>\n",
       "<style scoped>\n",
       "    .dataframe tbody tr th:only-of-type {\n",
       "        vertical-align: middle;\n",
       "    }\n",
       "\n",
       "    .dataframe tbody tr th {\n",
       "        vertical-align: top;\n",
       "    }\n",
       "\n",
       "    .dataframe thead th {\n",
       "        text-align: right;\n",
       "    }\n",
       "</style>\n",
       "<table border=\"1\" class=\"dataframe\">\n",
       "  <thead>\n",
       "    <tr style=\"text-align: right;\">\n",
       "      <th></th>\n",
       "      <th>paper_id</th>\n",
       "      <th>title</th>\n",
       "      <th>authors</th>\n",
       "      <th>affiliations</th>\n",
       "      <th>abstract</th>\n",
       "      <th>text</th>\n",
       "      <th>bibliography</th>\n",
       "      <th>raw_authors</th>\n",
       "      <th>raw_bibliography</th>\n",
       "    </tr>\n",
       "  </thead>\n",
       "  <tbody>\n",
       "    <tr>\n",
       "      <th>0</th>\n",
       "      <td>5da136317f5b97ed8371d5121d8828f1c9a5372d</td>\n",
       "      <td>Congenital Malaria in China</td>\n",
       "      <td>Zhi-Yong Tao, Qiang Fang, Xue Liu, Richard Cul...</td>\n",
       "      <td>Zhi-Yong Tao (Bengbu Medical College, Bengbu, ...</td>\n",
       "      <td>Abstract\\n\\nBackground: Congenital malaria, in...</td>\n",
       "      <td>Introduction\\n\\nMalaria is a mosquito-borne in...</td>\n",
       "      <td>Estimates of child deaths prevented from malar...</td>\n",
       "      <td>[{'first': 'Zhi-Yong', 'middle': [], 'last': '...</td>\n",
       "      <td>{'BIBREF1': {'ref_id': 'b1', 'title': 'Estimat...</td>\n",
       "    </tr>\n",
       "    <tr>\n",
       "      <th>1</th>\n",
       "      <td>8befdc2bb43130a5e90c11061e8bc8955718a825</td>\n",
       "      <td></td>\n",
       "      <td>Melinda Frost, Richun Li, Ronald Moolenaar,  Q...</td>\n",
       "      <td>Melinda Frost, Richun Li, Ronald Moolenaar,  Q...</td>\n",
       "      <td>Abstract\\n\\nBackground: Following the SARS out...</td>\n",
       "      <td>Background\\n\\nIn 2003, the world was struck by...</td>\n",
       "      <td>Chinese Center for Health Education; CFETP: Ch...</td>\n",
       "      <td>[{'first': 'Melinda', 'middle': [], 'last': 'F...</td>\n",
       "      <td>{'BIBREF0': {'ref_id': 'b0', 'title': 'Chinese...</td>\n",
       "    </tr>\n",
       "    <tr>\n",
       "      <th>2</th>\n",
       "      <td>1771673809c10324fde2768ce37d548a5077577f</td>\n",
       "      <td>Quercetin Feeding in Newborn Dairy Calves Cann...</td>\n",
       "      <td>Jeannine Gruse, Ellen Kanitz, Joachim M Weitze...</td>\n",
       "      <td>Jeannine Gruse, Ellen Kanitz, Joachim M Weitze...</td>\n",
       "      <td>Abstract\\n\\nImmaturity of the neonatal immune ...</td>\n",
       "      <td>Introduction\\n\\nCalfhood diseases play a key r...</td>\n",
       "      <td>Calf mortality in Norwegian dairy herds, S M G...</td>\n",
       "      <td>[{'first': 'Jeannine', 'middle': [], 'last': '...</td>\n",
       "      <td>{'BIBREF0': {'ref_id': 'b0', 'title': 'Calf mo...</td>\n",
       "    </tr>\n",
       "    <tr>\n",
       "      <th>3</th>\n",
       "      <td>b8e9fcc34571f9c29e04f9feb34197250556cb9a</td>\n",
       "      <td>Mechanisms of protective immune responses indu...</td>\n",
       "      <td>Mccoy, Margaret E Mccoy, Hannah E Golden, Tai...</td>\n",
       "      <td>Mccoy, Margaret E Mccoy, Hannah E Golden, Tai...</td>\n",
       "      <td>Abstract\\n\\nBackground: A lack of defined corr...</td>\n",
       "      <td>Background\\n\\nThe most basic and desirable out...</td>\n",
       "      <td>Live attenuated malaria vaccine designed to pr...</td>\n",
       "      <td>[{'first': '', 'middle': [], 'last': 'Mccoy', ...</td>\n",
       "      <td>{'BIBREF0': {'ref_id': 'b0', 'title': 'Live at...</td>\n",
       "    </tr>\n",
       "    <tr>\n",
       "      <th>4</th>\n",
       "      <td>2ec6d0d83b08c9b4e1784e319978aff1930d5484</td>\n",
       "      <td>What Effect Did the Global Financial Crisis Ha...</td>\n",
       "      <td>Philip D Parker, John Jerrim, Jake Anders</td>\n",
       "      <td>Philip D Parker, John Jerrim, Jake Anders</td>\n",
       "      <td></td>\n",
       "      <td>\\n\\nThe influence of macrolevel events and con...</td>\n",
       "      <td>Mastering metrics: The path from cause to effe...</td>\n",
       "      <td>[{'first': 'Philip', 'middle': ['D'], 'last': ...</td>\n",
       "      <td>{'BIBREF0': {'ref_id': 'b0', 'title': 'Masteri...</td>\n",
       "    </tr>\n",
       "  </tbody>\n",
       "</table>\n",
       "</div>"
      ],
      "text/plain": [
       "                                   paper_id  \\\n",
       "0  5da136317f5b97ed8371d5121d8828f1c9a5372d   \n",
       "1  8befdc2bb43130a5e90c11061e8bc8955718a825   \n",
       "2  1771673809c10324fde2768ce37d548a5077577f   \n",
       "3  b8e9fcc34571f9c29e04f9feb34197250556cb9a   \n",
       "4  2ec6d0d83b08c9b4e1784e319978aff1930d5484   \n",
       "\n",
       "                                               title  \\\n",
       "0                        Congenital Malaria in China   \n",
       "1                                                      \n",
       "2  Quercetin Feeding in Newborn Dairy Calves Cann...   \n",
       "3  Mechanisms of protective immune responses indu...   \n",
       "4  What Effect Did the Global Financial Crisis Ha...   \n",
       "\n",
       "                                             authors  \\\n",
       "0  Zhi-Yong Tao, Qiang Fang, Xue Liu, Richard Cul...   \n",
       "1  Melinda Frost, Richun Li, Ronald Moolenaar,  Q...   \n",
       "2  Jeannine Gruse, Ellen Kanitz, Joachim M Weitze...   \n",
       "3   Mccoy, Margaret E Mccoy, Hannah E Golden, Tai...   \n",
       "4          Philip D Parker, John Jerrim, Jake Anders   \n",
       "\n",
       "                                        affiliations  \\\n",
       "0  Zhi-Yong Tao (Bengbu Medical College, Bengbu, ...   \n",
       "1  Melinda Frost, Richun Li, Ronald Moolenaar,  Q...   \n",
       "2  Jeannine Gruse, Ellen Kanitz, Joachim M Weitze...   \n",
       "3   Mccoy, Margaret E Mccoy, Hannah E Golden, Tai...   \n",
       "4          Philip D Parker, John Jerrim, Jake Anders   \n",
       "\n",
       "                                            abstract  \\\n",
       "0  Abstract\\n\\nBackground: Congenital malaria, in...   \n",
       "1  Abstract\\n\\nBackground: Following the SARS out...   \n",
       "2  Abstract\\n\\nImmaturity of the neonatal immune ...   \n",
       "3  Abstract\\n\\nBackground: A lack of defined corr...   \n",
       "4                                                      \n",
       "\n",
       "                                                text  \\\n",
       "0  Introduction\\n\\nMalaria is a mosquito-borne in...   \n",
       "1  Background\\n\\nIn 2003, the world was struck by...   \n",
       "2  Introduction\\n\\nCalfhood diseases play a key r...   \n",
       "3  Background\\n\\nThe most basic and desirable out...   \n",
       "4  \\n\\nThe influence of macrolevel events and con...   \n",
       "\n",
       "                                        bibliography  \\\n",
       "0  Estimates of child deaths prevented from malar...   \n",
       "1  Chinese Center for Health Education; CFETP: Ch...   \n",
       "2  Calf mortality in Norwegian dairy herds, S M G...   \n",
       "3  Live attenuated malaria vaccine designed to pr...   \n",
       "4  Mastering metrics: The path from cause to effe...   \n",
       "\n",
       "                                         raw_authors  \\\n",
       "0  [{'first': 'Zhi-Yong', 'middle': [], 'last': '...   \n",
       "1  [{'first': 'Melinda', 'middle': [], 'last': 'F...   \n",
       "2  [{'first': 'Jeannine', 'middle': [], 'last': '...   \n",
       "3  [{'first': '', 'middle': [], 'last': 'Mccoy', ...   \n",
       "4  [{'first': 'Philip', 'middle': ['D'], 'last': ...   \n",
       "\n",
       "                                    raw_bibliography  \n",
       "0  {'BIBREF1': {'ref_id': 'b1', 'title': 'Estimat...  \n",
       "1  {'BIBREF0': {'ref_id': 'b0', 'title': 'Chinese...  \n",
       "2  {'BIBREF0': {'ref_id': 'b0', 'title': 'Calf mo...  \n",
       "3  {'BIBREF0': {'ref_id': 'b0', 'title': 'Live at...  \n",
       "4  {'BIBREF0': {'ref_id': 'b0', 'title': 'Masteri...  "
      ]
     },
     "execution_count": 28,
     "metadata": {},
     "output_type": "execute_result"
    }
   ],
   "source": [
    "comm_dir = '/home/ubuntu/covid19-challenge/data/comm_use_subset/comm_use_subset/pdf_json/'\n",
    "comm_files = load_files(comm_dir)\n",
    "comm_df = generate_clean_df(comm_files)\n",
    "comm_df.to_csv('clean_comm_use.csv', index=False)\n",
    "comm_df.head()"
   ]
  },
  {
   "cell_type": "code",
   "execution_count": 29,
   "metadata": {},
   "outputs": [
    {
     "data": {
      "application/vnd.jupyter.widget-view+json": {
       "model_id": "d1b1ae29cf724bc5b455f94a926201c2",
       "version_major": 2,
       "version_minor": 0
      },
      "text/plain": [
       "HBox(children=(FloatProgress(value=0.0, max=2584.0), HTML(value='')))"
      ]
     },
     "metadata": {},
     "output_type": "display_data"
    },
    {
     "name": "stdout",
     "output_type": "stream",
     "text": [
      "\n"
     ]
    },
    {
     "data": {
      "application/vnd.jupyter.widget-view+json": {
       "model_id": "8d4f70bcca3c41a38850d4fa24c57630",
       "version_major": 2,
       "version_minor": 0
      },
      "text/plain": [
       "HBox(children=(FloatProgress(value=0.0, max=2584.0), HTML(value='')))"
      ]
     },
     "metadata": {},
     "output_type": "display_data"
    },
    {
     "name": "stdout",
     "output_type": "stream",
     "text": [
      "\n"
     ]
    },
    {
     "data": {
      "text/html": [
       "<div>\n",
       "<style scoped>\n",
       "    .dataframe tbody tr th:only-of-type {\n",
       "        vertical-align: middle;\n",
       "    }\n",
       "\n",
       "    .dataframe tbody tr th {\n",
       "        vertical-align: top;\n",
       "    }\n",
       "\n",
       "    .dataframe thead th {\n",
       "        text-align: right;\n",
       "    }\n",
       "</style>\n",
       "<table border=\"1\" class=\"dataframe\">\n",
       "  <thead>\n",
       "    <tr style=\"text-align: right;\">\n",
       "      <th></th>\n",
       "      <th>paper_id</th>\n",
       "      <th>title</th>\n",
       "      <th>authors</th>\n",
       "      <th>affiliations</th>\n",
       "      <th>abstract</th>\n",
       "      <th>text</th>\n",
       "      <th>bibliography</th>\n",
       "      <th>raw_authors</th>\n",
       "      <th>raw_bibliography</th>\n",
       "    </tr>\n",
       "  </thead>\n",
       "  <tbody>\n",
       "    <tr>\n",
       "      <th>0</th>\n",
       "      <td>9a0f63b592a07e5823715e548da6f3605faf2bbb</td>\n",
       "      <td>Multiplex SYBR Green Real-Time PCR Assay for D...</td>\n",
       "      <td>Mozhdeh Sultani, ; Talat, Mokhtari Azad, Moham...</td>\n",
       "      <td>Mozhdeh Sultani (Tehran University of Medical ...</td>\n",
       "      <td></td>\n",
       "      <td>Background\\n\\nAcute respiratory infections (AR...</td>\n",
       "      <td>Use of sensitive, broad-spectrum molecular ass...</td>\n",
       "      <td>[{'first': 'Mozhdeh', 'middle': [], 'last': 'S...</td>\n",
       "      <td>{'BIBREF0': {'ref_id': 'b0', 'title': 'Use of ...</td>\n",
       "    </tr>\n",
       "    <tr>\n",
       "      <th>1</th>\n",
       "      <td>c8e37f08a80fe7f78bcb5ca1e9598bc65c470d07</td>\n",
       "      <td>Supplemental Information Systems Vaccinology I...</td>\n",
       "      <td>Anne Rechtien, Laura Richert, Hadrien Lorenzo,...</td>\n",
       "      <td>Anne Rechtien, Laura Richert, Hadrien Lorenzo,...</td>\n",
       "      <td></td>\n",
       "      <td>\\n\\n. Correlation matrix (Pearson correlation ...</td>\n",
       "      <td>Controlling the false discovery rate: a practi...</td>\n",
       "      <td>[{'first': 'Anne', 'middle': [], 'last': 'Rech...</td>\n",
       "      <td>{'BIBREF0': {'ref_id': 'b0', 'title': 'Control...</td>\n",
       "    </tr>\n",
       "    <tr>\n",
       "      <th>2</th>\n",
       "      <td>5f52ac4738312fdb215ad06e5a2e886a6fb63efd</td>\n",
       "      <td>SUP PLE MEN TAL MAT ERI AL</td>\n",
       "      <td>Napier</td>\n",
       "      <td>Napier</td>\n",
       "      <td></td>\n",
       "      <td>\\n\\n. Biallelic mutations using CRI SPR-Cas9 i...</td>\n",
       "      <td>Enhanced monocyte response and decreased centr...</td>\n",
       "      <td>[{'first': '', 'middle': [], 'last': 'Napier',...</td>\n",
       "      <td>{'BIBREF0': {'ref_id': 'b0', 'title': 'Enhance...</td>\n",
       "    </tr>\n",
       "    <tr>\n",
       "      <th>3</th>\n",
       "      <td>8dd1202c8cda0d3a3859c3346cfbc6647317b4f3</td>\n",
       "      <td>Use of Highly Pathogenic Avian Influenza A(H5N...</td>\n",
       "      <td>C Todd Davis, Li-Mei Chen, Claudia Pappas, Jam...</td>\n",
       "      <td>C Todd Davis, Li-Mei Chen, Claudia Pappas, Jam...</td>\n",
       "      <td>Abstract\\n\\n. Use of highly pathogenic avian i...</td>\n",
       "      <td>\\n\\nZ oonotic influenza viruses circulating in...</td>\n",
       "      <td>Cumulative number of confirmed human cases of ...</td>\n",
       "      <td>[{'first': 'C', 'middle': ['Todd'], 'last': 'D...</td>\n",
       "      <td>{'BIBREF0': {'ref_id': 'b0', 'title': 'Cumulat...</td>\n",
       "    </tr>\n",
       "    <tr>\n",
       "      <th>4</th>\n",
       "      <td>6fc30224f0fef04b0cb8feab92a3a89ecb52870f</td>\n",
       "      <td></td>\n",
       "      <td></td>\n",
       "      <td></td>\n",
       "      <td></td>\n",
       "      <td>Patient transport and operating room managing ...</td>\n",
       "      <td>Jae Hee Woo (Ewha Womans University College of...</td>\n",
       "      <td>[]</td>\n",
       "      <td>{'BIBREF0': {'ref_id': 'b0', 'title': 'Jae Hee...</td>\n",
       "    </tr>\n",
       "  </tbody>\n",
       "</table>\n",
       "</div>"
      ],
      "text/plain": [
       "                                   paper_id  \\\n",
       "0  9a0f63b592a07e5823715e548da6f3605faf2bbb   \n",
       "1  c8e37f08a80fe7f78bcb5ca1e9598bc65c470d07   \n",
       "2  5f52ac4738312fdb215ad06e5a2e886a6fb63efd   \n",
       "3  8dd1202c8cda0d3a3859c3346cfbc6647317b4f3   \n",
       "4  6fc30224f0fef04b0cb8feab92a3a89ecb52870f   \n",
       "\n",
       "                                               title  \\\n",
       "0  Multiplex SYBR Green Real-Time PCR Assay for D...   \n",
       "1  Supplemental Information Systems Vaccinology I...   \n",
       "2                         SUP PLE MEN TAL MAT ERI AL   \n",
       "3  Use of Highly Pathogenic Avian Influenza A(H5N...   \n",
       "4                                                      \n",
       "\n",
       "                                             authors  \\\n",
       "0  Mozhdeh Sultani, ; Talat, Mokhtari Azad, Moham...   \n",
       "1  Anne Rechtien, Laura Richert, Hadrien Lorenzo,...   \n",
       "2                                             Napier   \n",
       "3  C Todd Davis, Li-Mei Chen, Claudia Pappas, Jam...   \n",
       "4                                                      \n",
       "\n",
       "                                        affiliations  \\\n",
       "0  Mozhdeh Sultani (Tehran University of Medical ...   \n",
       "1  Anne Rechtien, Laura Richert, Hadrien Lorenzo,...   \n",
       "2                                             Napier   \n",
       "3  C Todd Davis, Li-Mei Chen, Claudia Pappas, Jam...   \n",
       "4                                                      \n",
       "\n",
       "                                            abstract  \\\n",
       "0                                                      \n",
       "1                                                      \n",
       "2                                                      \n",
       "3  Abstract\\n\\n. Use of highly pathogenic avian i...   \n",
       "4                                                      \n",
       "\n",
       "                                                text  \\\n",
       "0  Background\\n\\nAcute respiratory infections (AR...   \n",
       "1  \\n\\n. Correlation matrix (Pearson correlation ...   \n",
       "2  \\n\\n. Biallelic mutations using CRI SPR-Cas9 i...   \n",
       "3  \\n\\nZ oonotic influenza viruses circulating in...   \n",
       "4  Patient transport and operating room managing ...   \n",
       "\n",
       "                                        bibliography  \\\n",
       "0  Use of sensitive, broad-spectrum molecular ass...   \n",
       "1  Controlling the false discovery rate: a practi...   \n",
       "2  Enhanced monocyte response and decreased centr...   \n",
       "3  Cumulative number of confirmed human cases of ...   \n",
       "4  Jae Hee Woo (Ewha Womans University College of...   \n",
       "\n",
       "                                         raw_authors  \\\n",
       "0  [{'first': 'Mozhdeh', 'middle': [], 'last': 'S...   \n",
       "1  [{'first': 'Anne', 'middle': [], 'last': 'Rech...   \n",
       "2  [{'first': '', 'middle': [], 'last': 'Napier',...   \n",
       "3  [{'first': 'C', 'middle': ['Todd'], 'last': 'D...   \n",
       "4                                                 []   \n",
       "\n",
       "                                    raw_bibliography  \n",
       "0  {'BIBREF0': {'ref_id': 'b0', 'title': 'Use of ...  \n",
       "1  {'BIBREF0': {'ref_id': 'b0', 'title': 'Control...  \n",
       "2  {'BIBREF0': {'ref_id': 'b0', 'title': 'Enhance...  \n",
       "3  {'BIBREF0': {'ref_id': 'b0', 'title': 'Cumulat...  \n",
       "4  {'BIBREF0': {'ref_id': 'b0', 'title': 'Jae Hee...  "
      ]
     },
     "execution_count": 29,
     "metadata": {},
     "output_type": "execute_result"
    }
   ],
   "source": [
    "noncomm_dir = '/home/ubuntu/covid19-challenge/data/noncomm_use_subset/noncomm_use_subset/pdf_json/'\n",
    "noncomm_files = load_files(noncomm_dir)\n",
    "noncomm_df = generate_clean_df(noncomm_files)\n",
    "noncomm_df.to_csv('clean_noncomm_use.csv', index=False)\n",
    "noncomm_df.head()"
   ]
  },
  {
   "cell_type": "code",
   "execution_count": null,
   "metadata": {},
   "outputs": [],
   "source": []
  }
 ],
 "metadata": {
  "kernelspec": {
   "display_name": "Python 3",
   "language": "python",
   "name": "python3"
  },
  "language_info": {
   "codemirror_mode": {
    "name": "ipython",
    "version": 3
   },
   "file_extension": ".py",
   "mimetype": "text/x-python",
   "name": "python",
   "nbconvert_exporter": "python",
   "pygments_lexer": "ipython3",
   "version": "3.7.7"
  }
 },
 "nbformat": 4,
 "nbformat_minor": 4
}
